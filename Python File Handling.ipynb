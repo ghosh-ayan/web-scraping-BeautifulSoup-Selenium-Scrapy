{
 "cells": [
  {
   "cell_type": "markdown",
   "id": "ae08a9aa",
   "metadata": {},
   "source": [
    "filehandle = open(directory-string, mode = '') -- opens and places the pointer at the beginning of the file. r+ allows read and write and does not truncate the file on opening, w+ allows the same thing but truncates the file on opening.     \n",
    "Modes:\n",
    "r, w, a, r+, w+, a+ (text modes), rb, wb, ab, rb+, wb+, ab+ (binary modes).             \n",
    "\n",
    "filehandle.read() -- Whole thing from the current position in the file (if you just opened it, then the whole file, if you have seeked to a byte position, then from the next byte everything else).\n",
    "\n",
    "filehandle.readline()         \n",
    "\n",
    "filehandle.readlines()        \n",
    "\n",
    "filehandle.write(string)                \n",
    "\n",
    "\n",
    "filehandle.writelines(list)                  \n",
    "\n",
    "filehandle.seek(offset[, whence])\n"
   ]
  },
  {
   "cell_type": "code",
   "execution_count": 2,
   "id": "471c8f5e",
   "metadata": {},
   "outputs": [],
   "source": [
    "import os"
   ]
  },
  {
   "cell_type": "code",
   "execution_count": 6,
   "id": "1137d470",
   "metadata": {},
   "outputs": [],
   "source": [
    "dir1 = os.getcwd()"
   ]
  },
  {
   "cell_type": "code",
   "execution_count": 9,
   "id": "5c4aeab0",
   "metadata": {},
   "outputs": [],
   "source": [
    "dir2 = dir1 + '\\\\scrappy code'"
   ]
  },
  {
   "cell_type": "code",
   "execution_count": 14,
   "id": "f2ec13d9",
   "metadata": {},
   "outputs": [],
   "source": [
    "dir3 = dir2 + '\\\\cars.csv'"
   ]
  },
  {
   "cell_type": "code",
   "execution_count": 10,
   "id": "f2cd4646",
   "metadata": {},
   "outputs": [
    {
     "data": {
      "text/plain": [
       "'C:\\\\Users\\\\aghos\\\\Desktop\\\\Orion\\\\GitRepo\\\\web-scraping-BeautifulSoup-Selenium-Scrapy\\\\scrappy code'"
      ]
     },
     "execution_count": 10,
     "metadata": {},
     "output_type": "execute_result"
    }
   ],
   "source": [
    "dir2"
   ]
  },
  {
   "cell_type": "code",
   "execution_count": 15,
   "id": "1865b1be",
   "metadata": {},
   "outputs": [
    {
     "data": {
      "text/plain": [
       "'C:\\\\Users\\\\aghos\\\\Desktop\\\\Orion\\\\GitRepo\\\\web-scraping-BeautifulSoup-Selenium-Scrapy\\\\scrappy code\\\\cars.csv'"
      ]
     },
     "execution_count": 15,
     "metadata": {},
     "output_type": "execute_result"
    }
   ],
   "source": [
    "dir3"
   ]
  },
  {
   "cell_type": "code",
   "execution_count": 11,
   "id": "c02a0651",
   "metadata": {},
   "outputs": [
    {
     "data": {
      "text/plain": [
       "['cars.csv']"
      ]
     },
     "execution_count": 11,
     "metadata": {},
     "output_type": "execute_result"
    }
   ],
   "source": [
    "os.listdir(dir2)"
   ]
  },
  {
   "cell_type": "code",
   "execution_count": 18,
   "id": "f5021e9f",
   "metadata": {},
   "outputs": [],
   "source": [
    "file = open(dir3)"
   ]
  },
  {
   "cell_type": "code",
   "execution_count": 20,
   "id": "e84cbcf1",
   "metadata": {},
   "outputs": [],
   "source": [
    "line1 = file.read()"
   ]
  },
  {
   "cell_type": "code",
   "execution_count": 21,
   "id": "e88ebe99",
   "metadata": {},
   "outputs": [
    {
     "data": {
      "text/plain": [
       "'make,fuel_type,aspiration,num_of_doors,body_style,drive_wheels,engine_location,wheel_base,length,width,height,curb_weight,engine_type,num_of_cylinders,engine_size,fuel_system,bore,stroke,compression_ratio,horsepower,peak_rpm,city_mpg,highway_mpg,price\\nalfa-romero,gas,std,two,convertible,rwd,front,88.6,168.8,64.1,48.8,2548,dohc,4,130,mpfi,3.47,2.68,9,111,5000,21,27,13495\\nalfa-romero,gas,std,two,convertible,rwd,front,88.6,168.8,64.1,48.8,2548,dohc,4,130,mpfi,3.47,2.68,9,111,5000,21,27,16500\\nalfa-romero,gas,std,two,hatchback,rwd,front,94.5,171.2,65.5,52.4,2823,ohcv,6,152,mpfi,2.68,3.47,9,154,5000,19,26,16500\\naudi,gas,std,four,sedan,fwd,front,99.8,176.6,66.2,54.3,2337,ohc,4,109,mpfi,3.19,3.4,10,102,5500,24,30,13950\\naudi,gas,std,four,sedan,4wd,front,99.4,176.6,66.4,54.3,2824,ohc,5,136,mpfi,3.19,3.4,8,115,5500,18,22,17450\\naudi,gas,std,two,sedan,fwd,front,99.8,177.3,66.3,53.1,2507,ohc,5,136,mpfi,3.19,3.4,8.5,110,5500,19,25,15250\\naudi,gas,std,four,sedan,fwd,front,105.8,192.7,71.4,55.7,2844,ohc,5,136,mpfi,3.19,3.4,8.5,110,5500,19,25,17710\\naudi,gas,std,four,wagon,fwd,front,105.8,192.7,71.4,55.7,2954,ohc,5,136,mpfi,3.19,3.4,8.5,110,5500,19,25,18920\\naudi,gas,turbo,four,sedan,fwd,front,105.8,192.7,71.4,55.9,3086,ohc,5,131,mpfi,3.13,3.4,8.3,140,5500,17,20,23875\\nbmw,gas,std,two,sedan,rwd,front,101.2,176.8,64.8,54.3,2395,ohc,4,108,mpfi,3.5,2.8,8.8,101,5800,23,29,16430\\nbmw,gas,std,four,sedan,rwd,front,101.2,176.8,64.8,54.3,2395,ohc,4,108,mpfi,3.5,2.8,8.8,101,5800,23,29,16925\\nbmw,gas,std,two,sedan,rwd,front,101.2,176.8,64.8,54.3,2710,ohc,6,164,mpfi,3.31,3.19,9,121,4250,21,28,20970\\nbmw,gas,std,four,sedan,rwd,front,101.2,176.8,64.8,54.3,2765,ohc,6,164,mpfi,3.31,3.19,9,121,4250,21,28,21105\\nbmw,gas,std,four,sedan,rwd,front,103.5,189,66.9,55.7,3055,ohc,6,164,mpfi,3.31,3.19,9,121,4250,20,25,24565\\nbmw,gas,std,four,sedan,rwd,front,103.5,189,66.9,55.7,3230,ohc,6,209,mpfi,3.62,3.39,8,182,5400,16,22,30760\\nbmw,gas,std,two,sedan,rwd,front,103.5,193.8,67.9,53.7,3380,ohc,6,209,mpfi,3.62,3.39,8,182,5400,16,22,41315\\nbmw,gas,std,four,sedan,rwd,front,110,197,70.9,56.3,3505,ohc,6,209,mpfi,3.62,3.39,8,182,5400,15,20,36880\\nchevrolet,gas,std,two,hatchback,fwd,front,88.4,141.1,60.3,53.2,1488,l,3,61,2bbl,2.91,3.03,9.5,48,5100,47,53,5151\\nchevrolet,gas,std,two,hatchback,fwd,front,94.5,155.9,63.6,52,1874,ohc,4,90,2bbl,3.03,3.11,9.6,70,5400,38,43,6295\\nchevrolet,gas,std,four,sedan,fwd,front,94.5,158.8,63.6,52,1909,ohc,4,90,2bbl,3.03,3.11,9.6,70,5400,38,43,6575\\ndodge,gas,std,two,hatchback,fwd,front,93.7,157.3,63.8,50.8,1876,ohc,4,90,2bbl,2.97,3.23,9.41,68,5500,37,41,5572\\ndodge,gas,std,two,hatchback,fwd,front,93.7,157.3,63.8,50.8,1876,ohc,4,90,2bbl,2.97,3.23,9.4,68,5500,31,38,6377\\ndodge,gas,turbo,two,hatchback,fwd,front,93.7,157.3,63.8,50.8,2128,ohc,4,98,mpfi,3.03,3.39,7.6,102,5500,24,30,7957\\ndodge,gas,std,four,hatchback,fwd,front,93.7,157.3,63.8,50.6,1967,ohc,4,90,2bbl,2.97,3.23,9.4,68,5500,31,38,6229\\ndodge,gas,std,four,sedan,fwd,front,93.7,157.3,63.8,50.6,1989,ohc,4,90,2bbl,2.97,3.23,9.4,68,5500,31,38,6692\\ndodge,gas,std,four,sedan,fwd,front,93.7,157.3,63.8,50.6,1989,ohc,4,90,2bbl,2.97,3.23,9.4,68,5500,31,38,7609\\ndodge,gas,std,four,wagon,fwd,front,103.3,174.6,64.6,59.8,2535,ohc,4,122,2bbl,3.34,3.46,8.5,88,5000,24,30,8921\\ndodge,gas,turbo,two,hatchback,fwd,front,95.9,173.2,66.3,50.2,2811,ohc,4,156,mfi,3.6,3.9,7,145,5000,19,24,12964\\nhonda,gas,std,two,hatchback,fwd,front,86.6,144.6,63.9,50.8,1713,ohc,4,92,1bbl,2.91,3.41,9.6,58,4800,49,54,6479\\nhonda,gas,std,two,hatchback,fwd,front,86.6,144.6,63.9,50.8,1819,ohc,4,92,1bbl,2.91,3.41,9.2,76,6000,31,38,6855\\nhonda,gas,std,two,hatchback,fwd,front,93.7,150,64,52.6,1837,ohc,4,79,1bbl,2.91,3.07,10.1,60,5500,38,42,5399\\nhonda,gas,std,two,hatchback,fwd,front,93.7,150,64,52.6,1940,ohc,4,92,1bbl,2.91,3.41,9.2,76,6000,30,34,6529\\nhonda,gas,std,two,hatchback,fwd,front,93.7,150,64,52.6,1956,ohc,4,92,1bbl,2.91,3.41,9.2,76,6000,30,34,7129\\nhonda,gas,std,four,sedan,fwd,front,96.5,163.4,64,54.5,2010,ohc,4,92,1bbl,2.91,3.41,9.2,76,6000,30,34,7295\\nhonda,gas,std,four,wagon,fwd,front,96.5,157.1,63.9,58.3,2024,ohc,4,92,1bbl,2.92,3.41,9.2,76,6000,30,34,7295\\nhonda,gas,std,two,hatchback,fwd,front,96.5,167.5,65.2,53.3,2236,ohc,4,110,1bbl,3.15,3.58,9,86,5800,27,33,7895\\nhonda,gas,std,two,hatchback,fwd,front,96.5,167.5,65.2,53.3,2289,ohc,4,110,1bbl,3.15,3.58,9,86,5800,27,33,9095\\nhonda,gas,std,four,sedan,fwd,front,96.5,175.4,65.2,54.1,2304,ohc,4,110,1bbl,3.15,3.58,9,86,5800,27,33,8845\\nhonda,gas,std,four,sedan,fwd,front,96.5,175.4,62.5,54.1,2372,ohc,4,110,1bbl,3.15,3.58,9,86,5800,27,33,10295\\nhonda,gas,std,four,sedan,fwd,front,96.5,175.4,65.2,54.1,2465,ohc,4,110,mpfi,3.15,3.58,9,101,5800,24,28,12945\\nhonda,gas,std,two,sedan,fwd,front,96.5,169.1,66,51,2293,ohc,4,110,2bbl,3.15,3.58,9.1,100,5500,25,31,10345\\nisuzu,gas,std,four,sedan,rwd,front,94.3,170.7,61.8,53.5,2337,ohc,4,111,2bbl,3.31,3.23,8.5,78,4800,24,29,6785\\nisuzu,gas,std,two,hatchback,rwd,front,96,172.6,65.2,51.4,2734,ohc,4,119,spfi,3.43,3.23,9.2,90,5000,24,29,11048\\njaguar,gas,std,four,sedan,rwd,front,113,199.6,69.6,52.8,4066,dohc,6,258,mpfi,3.63,4.17,8.1,176,4750,15,19,32250\\njaguar,gas,std,four,sedan,rwd,front,113,199.6,69.6,52.8,4066,dohc,6,258,mpfi,3.63,4.17,8.1,176,4750,15,19,35550\\njaguar,gas,std,two,sedan,rwd,front,102,191.7,70.6,47.8,3950,ohcv,12,326,mpfi,3.54,2.76,11.5,262,5000,13,17,36000\\nmazda,gas,std,two,hatchback,fwd,front,93.1,159.1,64.2,54.1,1890,ohc,4,91,2bbl,3.03,3.15,9,68,5000,30,31,5195\\nmazda,gas,std,two,hatchback,fwd,front,93.1,159.1,64.2,54.1,1900,ohc,4,91,2bbl,3.03,3.15,9,68,5000,31,38,6095\\nmazda,gas,std,two,hatchback,fwd,front,93.1,159.1,64.2,54.1,1905,ohc,4,91,2bbl,3.03,3.15,9,68,5000,31,38,6795\\nmazda,gas,std,four,sedan,fwd,front,93.1,166.8,64.2,54.1,1945,ohc,4,91,2bbl,3.03,3.15,9,68,5000,31,38,6695\\nmazda,gas,std,four,sedan,fwd,front,93.1,166.8,64.2,54.1,1950,ohc,4,91,2bbl,3.08,3.15,9,68,5000,31,38,7395\\nmazda,gas,std,two,hatchback,fwd,front,98.8,177.8,66.5,53.7,2385,ohc,4,122,2bbl,3.39,3.39,8.6,84,4800,26,32,8845\\nmazda,gas,std,four,sedan,fwd,front,98.8,177.8,66.5,55.5,2410,ohc,4,122,2bbl,3.39,3.39,8.6,84,4800,26,32,8495\\nmazda,gas,std,two,hatchback,fwd,front,98.8,177.8,66.5,53.7,2385,ohc,4,122,2bbl,3.39,3.39,8.6,84,4800,26,32,10595\\nmazda,gas,std,four,sedan,fwd,front,98.8,177.8,66.5,55.5,2410,ohc,4,122,2bbl,3.39,3.39,8.6,84,4800,26,32,10245\\nmazda,gas,std,four,hatchback,fwd,front,98.8,177.8,66.5,55.5,2425,ohc,4,122,2bbl,3.39,3.39,8.6,84,4800,26,32,11245\\nmazda,gas,std,four,sedan,rwd,front,104.9,175,66.1,54.4,2670,ohc,4,140,mpfi,3.76,3.16,8,120,5000,19,27,18280\\nmazda,diesel,std,four,sedan,rwd,front,104.9,175,66.1,54.4,2700,ohc,4,134,idi,3.43,3.64,22,72,4200,31,39,18344\\nmercedes-benz,diesel,turbo,four,sedan,rwd,front,110,190.9,70.3,56.5,3515,ohc,5,183,idi,3.58,3.64,21.5,123,4350,22,25,25552\\nmercedes-benz,diesel,turbo,four,wagon,rwd,front,110,190.9,70.3,58.7,3750,ohc,5,183,idi,3.58,3.64,21.5,123,4350,22,25,28248\\nmercedes-benz,diesel,turbo,two,hardtop,rwd,front,106.7,187.5,70.3,54.9,3495,ohc,5,183,idi,3.58,3.64,21.5,123,4350,22,25,28176\\nmercedes-benz,diesel,turbo,four,sedan,rwd,front,115.6,202.6,71.7,56.3,3770,ohc,5,183,idi,3.58,3.64,21.5,123,4350,22,25,31600\\nmercedes-benz,gas,std,four,sedan,rwd,front,115.6,202.6,71.7,56.5,3740,ohcv,8,234,mpfi,3.46,3.1,8.3,155,4750,16,18,34184\\nmercedes-benz,gas,std,two,convertible,rwd,front,96.6,180.3,70.5,50.8,3685,ohcv,8,234,mpfi,3.46,3.1,8.3,155,4750,16,18,35056\\nmercedes-benz,gas,std,four,sedan,rwd,front,120.9,208.1,71.7,56.7,3900,ohcv,8,308,mpfi,3.8,3.35,8,184,4500,14,16,40960\\nmercedes-benz,gas,std,two,hardtop,rwd,front,112,199.2,72,55.4,3715,ohcv,8,304,mpfi,3.8,3.35,8,184,4500,14,16,45400\\nmercury,gas,turbo,two,hatchback,rwd,front,102.7,178.4,68,54.8,2910,ohc,4,140,mpfi,3.78,3.12,8,175,5000,19,24,16503\\nmitsubishi,gas,std,two,hatchback,fwd,front,93.7,157.3,64.4,50.8,1918,ohc,4,92,2bbl,2.97,3.23,9.4,68,5500,37,41,5389\\nmitsubishi,gas,std,two,hatchback,fwd,front,93.7,157.3,64.4,50.8,1944,ohc,4,92,2bbl,2.97,3.23,9.4,68,5500,31,38,6189\\nmitsubishi,gas,std,two,hatchback,fwd,front,93.7,157.3,64.4,50.8,2004,ohc,4,92,2bbl,2.97,3.23,9.4,68,5500,31,38,6669\\nmitsubishi,gas,turbo,two,hatchback,fwd,front,93,157.3,63.8,50.8,2145,ohc,4,98,spdi,3.03,3.39,7.6,102,5500,24,30,7689\\nmitsubishi,gas,turbo,two,hatchback,fwd,front,96.3,173,65.4,49.4,2370,ohc,4,110,spdi,3.17,3.46,7.5,116,5500,23,30,9959\\nmitsubishi,gas,std,two,hatchback,fwd,front,96.3,173,65.4,49.4,2328,ohc,4,122,2bbl,3.35,3.46,8.5,88,5000,25,32,8499\\nmitsubishi,gas,turbo,two,hatchback,fwd,front,95.9,173.2,66.3,50.2,2833,ohc,4,156,spdi,3.58,3.86,7,145,5000,19,24,12629\\nmitsubishi,gas,turbo,two,hatchback,fwd,front,95.9,173.2,66.3,50.2,2921,ohc,4,156,spdi,3.59,3.86,7,145,5000,19,24,14869\\nmitsubishi,gas,turbo,two,hatchback,fwd,front,95.9,173.2,66.3,50.2,2926,ohc,4,156,spdi,3.59,3.86,7,145,5000,19,24,14489\\nmitsubishi,gas,std,four,sedan,fwd,front,96.3,172.4,65.4,51.6,2365,ohc,4,122,2bbl,3.35,3.46,8.5,88,5000,25,32,6989\\nmitsubishi,gas,std,four,sedan,fwd,front,96.3,172.4,65.4,51.6,2405,ohc,4,122,2bbl,3.35,3.46,8.5,88,5000,25,32,8189\\nmitsubishi,gas,turbo,four,sedan,fwd,front,96.3,172.4,65.4,51.6,2403,ohc,4,110,spdi,3.17,3.46,7.5,116,5500,23,30,9279\\nmitsubishi,gas,std,four,sedan,fwd,front,96.3,172.4,65.4,51.6,2403,ohc,4,110,spdi,3.17,3.46,7.5,116,5500,23,30,9279\\nnissan,gas,std,two,sedan,fwd,front,94.5,165.3,63.8,54.5,1889,ohc,4,97,2bbl,3.15,3.29,9.4,69,5200,31,37,5499\\nnissan,diesel,std,two,sedan,fwd,front,94.5,165.3,63.8,54.5,2017,ohc,4,103,idi,2.99,3.47,21.9,55,4800,45,50,7099\\nnissan,gas,std,two,sedan,fwd,front,94.5,165.3,63.8,54.5,1918,ohc,4,97,2bbl,3.15,3.29,9.4,69,5200,31,37,6649\\nnissan,gas,std,four,sedan,fwd,front,94.5,165.3,63.8,54.5,1938,ohc,4,97,2bbl,3.15,3.29,9.4,69,5200,31,37,6849\\nnissan,gas,std,four,wagon,fwd,front,94.5,170.2,63.8,53.5,2024,ohc,4,97,2bbl,3.15,3.29,9.4,69,5200,31,37,7349\\nnissan,gas,std,two,sedan,fwd,front,94.5,165.3,63.8,54.5,1951,ohc,4,97,2bbl,3.15,3.29,9.4,69,5200,31,37,7299\\nnissan,gas,std,two,hatchback,fwd,front,94.5,165.6,63.8,53.3,2028,ohc,4,97,2bbl,3.15,3.29,9.4,69,5200,31,37,7799\\nnissan,gas,std,four,sedan,fwd,front,94.5,165.3,63.8,54.5,1971,ohc,4,97,2bbl,3.15,3.29,9.4,69,5200,31,37,7499\\nnissan,gas,std,four,wagon,fwd,front,94.5,170.2,63.8,53.5,2037,ohc,4,97,2bbl,3.15,3.29,9.4,69,5200,31,37,7999\\nnissan,gas,std,two,hardtop,fwd,front,95.1,162.4,63.8,53.3,2008,ohc,4,97,2bbl,3.15,3.29,9.4,69,5200,31,37,8249\\nnissan,gas,std,four,hatchback,fwd,front,97.2,173.4,65.2,54.7,2324,ohc,4,120,2bbl,3.33,3.47,8.5,97,5200,27,34,8949\\nnissan,gas,std,four,sedan,fwd,front,97.2,173.4,65.2,54.7,2302,ohc,4,120,2bbl,3.33,3.47,8.5,97,5200,27,34,9549\\nnissan,gas,std,four,sedan,fwd,front,100.4,181.7,66.5,55.1,3095,ohcv,6,181,mpfi,3.43,3.27,9,152,5200,17,22,13499\\nnissan,gas,std,four,wagon,fwd,front,100.4,184.6,66.5,56.1,3296,ohcv,6,181,mpfi,3.43,3.27,9,152,5200,17,22,14399\\nnissan,gas,std,four,sedan,fwd,front,100.4,184.6,66.5,55.1,3060,ohcv,6,181,mpfi,3.43,3.27,9,152,5200,19,25,13499\\nnissan,gas,std,two,hatchback,rwd,front,91.3,170.7,67.9,49.7,3071,ohcv,6,181,mpfi,3.43,3.27,9,160,5200,19,25,17199\\nnissan,gas,turbo,two,hatchback,rwd,front,91.3,170.7,67.9,49.7,3139,ohcv,6,181,mpfi,3.43,3.27,7.8,200,5200,17,23,19699\\nnissan,gas,std,two,hatchback,rwd,front,99.2,178.5,67.9,49.7,3139,ohcv,6,181,mpfi,3.43,3.27,9,160,5200,19,25,18399\\npeugot,gas,std,four,sedan,rwd,front,107.9,186.7,68.4,56.7,3020,l,4,120,mpfi,3.46,3.19,8.4,97,5000,19,24,11900\\npeugot,diesel,turbo,four,sedan,rwd,front,107.9,186.7,68.4,56.7,3197,l,4,152,idi,3.7,3.52,21,95,4150,28,33,13200\\npeugot,gas,std,four,wagon,rwd,front,114.2,198.9,68.4,58.7,3230,l,4,120,mpfi,3.46,3.19,8.4,97,5000,19,24,12440\\npeugot,diesel,turbo,four,wagon,rwd,front,114.2,198.9,68.4,58.7,3430,l,4,152,idi,3.7,3.52,21,95,4150,25,25,13860\\npeugot,gas,std,four,sedan,rwd,front,107.9,186.7,68.4,56.7,3075,l,4,120,mpfi,3.46,2.19,8.4,95,5000,19,24,15580\\npeugot,diesel,turbo,four,sedan,rwd,front,107.9,186.7,68.4,56.7,3252,l,4,152,idi,3.7,3.52,21,95,4150,28,33,16900\\npeugot,gas,std,four,wagon,rwd,front,114.2,198.9,68.4,56.7,3285,l,4,120,mpfi,3.46,2.19,8.4,95,5000,19,24,16695\\npeugot,diesel,turbo,four,wagon,rwd,front,114.2,198.9,68.4,58.7,3485,l,4,152,idi,3.7,3.52,21,95,4150,25,25,17075\\npeugot,gas,std,four,sedan,rwd,front,107.9,186.7,68.4,56.7,3075,l,4,120,mpfi,3.46,3.19,8.4,97,5000,19,24,16630\\npeugot,diesel,turbo,four,sedan,rwd,front,107.9,186.7,68.4,56.7,3252,l,4,152,idi,3.7,3.52,21,95,4150,28,33,17950\\npeugot,gas,turbo,four,sedan,rwd,front,108,186.7,68.3,56,3130,l,4,134,mpfi,3.61,3.21,7,142,5600,18,24,18150\\nplymouth,gas,std,two,hatchback,fwd,front,93.7,157.3,63.8,50.8,1918,ohc,4,90,2bbl,2.97,3.23,9.4,68,5500,37,41,5572\\nplymouth,gas,turbo,two,hatchback,fwd,front,93.7,157.3,63.8,50.8,2128,ohc,4,98,spdi,3.03,3.39,7.6,102,5500,24,30,7957\\nplymouth,gas,std,four,hatchback,fwd,front,93.7,157.3,63.8,50.6,1967,ohc,4,90,2bbl,2.97,3.23,9.4,68,5500,31,38,6229\\nplymouth,gas,std,four,sedan,fwd,front,93.7,167.3,63.8,50.8,1989,ohc,4,90,2bbl,2.97,3.23,9.4,68,5500,31,38,6692\\nplymouth,gas,std,four,sedan,fwd,front,93.7,167.3,63.8,50.8,2191,ohc,4,98,2bbl,2.97,3.23,9.4,68,5500,31,38,7609\\nplymouth,gas,std,four,wagon,fwd,front,103.3,174.6,64.6,59.8,2535,ohc,4,122,2bbl,3.35,3.46,8.5,88,5000,24,30,8921\\nplymouth,gas,turbo,two,hatchback,rwd,front,95.9,173.2,66.3,50.2,2818,ohc,4,156,spdi,3.59,3.86,7,145,5000,19,24,12764\\nporsche,gas,std,two,hatchback,rwd,front,94.5,168.9,68.3,50.2,2778,ohc,4,151,mpfi,3.94,3.11,9.5,143,5500,19,27,22018\\nporsche,gas,std,two,hardtop,rwd,rear,89.5,168.9,65,51.6,2756,ohcf,6,194,mpfi,3.74,2.9,9.5,207,5900,17,25,32528\\nporsche,gas,std,two,hardtop,rwd,rear,89.5,168.9,65,51.6,2756,ohcf,6,194,mpfi,3.74,2.9,9.5,207,5900,17,25,34028\\nporsche,gas,std,two,convertible,rwd,rear,89.5,168.9,65,51.6,2800,ohcf,6,194,mpfi,3.74,2.9,9.5,207,5900,17,25,37028\\nsaab,gas,std,two,hatchback,fwd,front,99.1,186.6,66.5,56.1,2658,ohc,4,121,mpfi,3.54,3.07,9.31,110,5250,21,28,11850\\nsaab,gas,std,four,sedan,fwd,front,99.1,186.6,66.5,56.1,2695,ohc,4,121,mpfi,3.54,3.07,9.3,110,5250,21,28,12170\\nsaab,gas,std,two,hatchback,fwd,front,99.1,186.6,66.5,56.1,2707,ohc,4,121,mpfi,2.54,2.07,9.3,110,5250,21,28,15040\\nsaab,gas,std,four,sedan,fwd,front,99.1,186.6,66.5,56.1,2758,ohc,4,121,mpfi,3.54,3.07,9.3,110,5250,21,28,15510\\nsaab,gas,turbo,two,hatchback,fwd,front,99.1,186.6,66.5,56.1,2808,dohc,4,121,mpfi,3.54,3.07,9,160,5500,19,26,18150\\nsaab,gas,turbo,four,sedan,fwd,front,99.1,186.6,66.5,56.1,2847,dohc,4,121,mpfi,3.54,3.07,9,160,5500,19,26,18620\\nsubaru,gas,std,two,hatchback,fwd,front,93.7,156.9,63.4,53.7,2050,ohcf,4,97,2bbl,3.62,2.36,9,69,4900,31,36,5118\\nsubaru,gas,std,two,hatchback,fwd,front,93.7,157.9,63.6,53.7,2120,ohcf,4,108,2bbl,3.62,2.64,8.7,73,4400,26,31,7053\\nsubaru,gas,std,two,hatchback,4wd,front,93.3,157.3,63.8,55.7,2240,ohcf,4,108,2bbl,3.62,2.64,8.7,73,4400,26,31,7603\\nsubaru,gas,std,four,sedan,fwd,front,97.2,172,65.4,52.5,2145,ohcf,4,108,2bbl,3.62,2.64,9.5,82,4800,32,37,7126\\nsubaru,gas,std,four,sedan,fwd,front,97.2,172,65.4,52.5,2190,ohcf,4,108,2bbl,3.62,2.64,9.5,82,4400,28,33,7775\\nsubaru,gas,std,four,sedan,fwd,front,97.2,172,65.4,52.5,2340,ohcf,4,108,mpfi,3.62,2.64,9,94,5200,26,32,9960\\nsubaru,gas,std,four,sedan,4wd,front,97,172,65.4,54.3,2385,ohcf,4,108,2bbl,3.62,2.64,9,82,4800,24,25,9233\\nsubaru,gas,turbo,four,sedan,4wd,front,97,172,65.4,54.3,2510,ohcf,4,108,mpfi,3.62,2.64,7.7,111,4800,24,29,11259\\nsubaru,gas,std,four,wagon,fwd,front,97,173.5,65.4,53,2290,ohcf,4,108,2bbl,3.62,2.64,9,82,4800,28,32,7463\\nsubaru,gas,std,four,wagon,fwd,front,97,173.5,65.4,53,2455,ohcf,4,108,mpfi,3.62,2.64,9,94,5200,25,31,10198\\nsubaru,gas,std,four,wagon,4wd,front,96.9,173.6,65.4,54.9,2420,ohcf,4,108,2bbl,3.62,2.64,9,82,4800,23,29,8013\\nsubaru,gas,turbo,four,wagon,4wd,front,96.9,173.6,65.4,54.9,2650,ohcf,4,108,mpfi,3.62,2.64,7.7,111,4800,23,23,11694\\ntoyota,gas,std,two,hatchback,fwd,front,95.7,158.7,63.6,54.5,1985,ohc,4,92,2bbl,3.05,3.03,9,62,4800,35,39,5348\\ntoyota,gas,std,two,hatchback,fwd,front,95.7,158.7,63.6,54.5,2040,ohc,4,92,2bbl,3.05,3.03,9,62,4800,31,38,6338\\ntoyota,gas,std,four,hatchback,fwd,front,95.7,158.7,63.6,54.5,2015,ohc,4,92,2bbl,3.05,3.03,9,62,4800,31,38,6488\\ntoyota,gas,std,four,wagon,fwd,front,95.7,169.7,63.6,59.1,2280,ohc,4,92,2bbl,3.05,3.03,9,62,4800,31,37,6918\\ntoyota,gas,std,four,wagon,4wd,front,95.7,169.7,63.6,59.1,2290,ohc,4,92,2bbl,3.05,3.03,9,62,4800,27,32,7898\\ntoyota,gas,std,four,wagon,4wd,front,95.7,169.7,63.6,59.1,3110,ohc,4,92,2bbl,3.05,3.03,9,62,4800,27,32,8778\\ntoyota,gas,std,four,sedan,fwd,front,95.7,166.3,64.4,53,2081,ohc,4,98,2bbl,3.19,3.03,9,70,4800,30,37,6938\\ntoyota,gas,std,four,hatchback,fwd,front,95.7,166.3,64.4,52.8,2109,ohc,4,98,2bbl,3.19,3.03,9,70,4800,30,37,7198\\ntoyota,diesel,std,four,sedan,fwd,front,95.7,166.3,64.4,53,2275,ohc,4,110,idi,3.27,3.35,22.5,56,4500,34,36,7898\\ntoyota,diesel,std,four,hatchback,fwd,front,95.7,166.3,64.4,52.8,2275,ohc,4,110,idi,3.27,3.35,22.5,56,4500,38,47,7788\\ntoyota,gas,std,four,sedan,fwd,front,95.7,166.3,64.4,53,2094,ohc,4,98,2bbl,3.19,3.03,9,70,4800,38,47,7738\\ntoyota,gas,std,four,hatchback,fwd,front,95.7,166.3,64.4,52.8,2122,ohc,4,98,2bbl,3.19,3.03,9,70,4800,28,34,8358\\ntoyota,gas,std,four,sedan,fwd,front,95.7,166.3,64.4,52.8,2140,ohc,4,98,2bbl,3.19,3.03,9,70,4800,28,34,9258\\ntoyota,gas,std,two,sedan,rwd,front,94.5,168.7,64,52.6,2169,ohc,4,98,2bbl,3.19,3.03,9,70,4800,29,34,8058\\ntoyota,gas,std,two,hatchback,rwd,front,94.5,168.7,64,52.6,2204,ohc,4,98,2bbl,3.19,3.03,9,70,4800,29,34,8238\\ntoyota,gas,std,two,sedan,rwd,front,94.5,168.7,64,52.6,2265,dohc,4,98,mpfi,3.24,3.08,9.4,112,6600,26,29,9298\\ntoyota,gas,std,two,hatchback,rwd,front,94.5,168.7,64,52.6,2300,dohc,4,98,mpfi,3.24,3.08,9.4,112,6600,26,29,9538\\ntoyota,gas,std,two,hardtop,rwd,front,98.4,176.2,65.6,52,2540,ohc,4,146,mpfi,3.62,3.5,9.3,116,4800,24,30,8449\\ntoyota,gas,std,two,hardtop,rwd,front,98.4,176.2,65.6,52,2536,ohc,4,146,mpfi,3.62,3.5,9.3,116,4800,24,30,9639\\ntoyota,gas,std,two,hatchback,rwd,front,98.4,176.2,65.6,52,2551,ohc,4,146,mpfi,3.62,3.5,9.3,116,4800,24,30,9989\\ntoyota,gas,std,two,hardtop,rwd,front,98.4,176.2,65.6,52,2679,ohc,4,146,mpfi,3.62,3.5,9.3,116,4800,24,30,11199\\ntoyota,gas,std,two,hatchback,rwd,front,98.4,176.2,65.6,52,2714,ohc,4,146,mpfi,3.62,3.5,9.3,116,4800,24,30,11549\\ntoyota,gas,std,two,convertible,rwd,front,98.4,176.2,65.6,53,2975,ohc,4,146,mpfi,3.62,3.5,9.3,116,4800,24,30,17669\\ntoyota,gas,std,four,sedan,fwd,front,102.4,175.6,66.5,54.9,2326,ohc,4,122,mpfi,3.31,3.54,8.7,92,4200,29,34,8948\\ntoyota,diesel,turbo,four,sedan,fwd,front,102.4,175.6,66.5,54.9,2480,ohc,4,110,idi,3.27,3.35,22.5,73,4500,30,33,10698\\ntoyota,gas,std,four,hatchback,fwd,front,102.4,175.6,66.5,53.9,2414,ohc,4,122,mpfi,3.31,3.54,8.7,92,4200,27,32,9988\\ntoyota,gas,std,four,sedan,fwd,front,102.4,175.6,66.5,54.9,2414,ohc,4,122,mpfi,3.31,3.54,8.7,92,4200,27,32,10898\\ntoyota,gas,std,four,hatchback,fwd,front,102.4,175.6,66.5,53.9,2458,ohc,4,122,mpfi,3.31,3.54,8.7,92,4200,27,32,11248\\ntoyota,gas,std,two,hatchback,rwd,front,102.9,183.5,67.7,52,2976,dohc,6,171,mpfi,3.27,3.35,9.3,161,5200,20,24,16558\\ntoyota,gas,std,two,hatchback,rwd,front,102.9,183.5,67.7,52,3016,dohc,6,171,mpfi,3.27,3.35,9.3,161,5200,19,24,15998\\ntoyota,gas,std,four,sedan,rwd,front,104.5,187.8,66.5,54.1,3131,dohc,6,171,mpfi,3.27,3.35,9.2,156,5200,20,24,15690\\ntoyota,gas,std,four,wagon,rwd,front,104.5,187.8,66.5,54.1,3151,dohc,6,161,mpfi,3.27,3.35,9.2,156,5200,19,24,15750\\nvolkswagen,diesel,std,two,sedan,fwd,front,97.3,171.7,65.5,55.7,2261,ohc,4,97,idi,3.01,3.4,23,52,4800,37,46,7775\\nvolkswagen,gas,std,two,sedan,fwd,front,97.3,171.7,65.5,55.7,2209,ohc,4,109,mpfi,3.19,3.4,9,85,5250,27,34,7975\\nvolkswagen,diesel,std,four,sedan,fwd,front,97.3,171.7,65.5,55.7,2264,ohc,4,97,idi,3.01,3.4,23,52,4800,37,46,7995\\nvolkswagen,gas,std,four,sedan,fwd,front,97.3,171.7,65.5,55.7,2212,ohc,4,109,mpfi,3.19,3.4,9,85,5250,27,34,8195\\nvolkswagen,gas,std,four,sedan,fwd,front,97.3,171.7,65.5,55.7,2275,ohc,4,109,mpfi,3.19,3.4,9,85,5250,27,34,8495\\nvolkswagen,diesel,turbo,four,sedan,fwd,front,97.3,171.7,65.5,55.7,2319,ohc,4,97,idi,3.01,3.4,23,68,4500,37,42,9495\\nvolkswagen,gas,std,four,sedan,fwd,front,97.3,171.7,65.5,55.7,2300,ohc,4,109,mpfi,3.19,3.4,10,100,5500,26,32,9995\\nvolkswagen,gas,std,two,convertible,fwd,front,94.5,159.3,64.2,55.6,2254,ohc,4,109,mpfi,3.19,3.4,8.5,90,5500,24,29,11595\\nvolkswagen,gas,std,two,hatchback,fwd,front,94.5,165.7,64,51.4,2221,ohc,4,109,mpfi,3.19,3.4,8.5,90,5500,24,29,9980\\nvolkswagen,gas,std,four,sedan,fwd,front,100.4,180.2,66.9,55.1,2661,ohc,5,136,mpfi,3.19,3.4,8.5,110,5500,19,24,13295\\nvolkswagen,diesel,turbo,four,sedan,fwd,front,100.4,180.2,66.9,55.1,2579,ohc,4,97,idi,3.01,3.4,23,68,4500,33,38,13845\\nvolkswagen,gas,std,four,wagon,fwd,front,100.4,183.1,66.9,55.1,2563,ohc,4,109,mpfi,3.19,3.4,9,88,5500,25,31,12290\\nvolvo,gas,std,four,sedan,rwd,front,104.3,188.8,67.2,56.2,2912,ohc,4,141,mpfi,3.78,3.15,9.5,114,5400,23,28,12940\\nvolvo,gas,std,four,wagon,rwd,front,104.3,188.8,67.2,57.5,3034,ohc,4,141,mpfi,3.78,3.15,9.5,114,5400,23,28,13415\\nvolvo,gas,std,four,sedan,rwd,front,104.3,188.8,67.2,56.2,2935,ohc,4,141,mpfi,3.78,3.15,9.5,114,5400,24,28,15985\\nvolvo,gas,std,four,wagon,rwd,front,104.3,188.8,67.2,57.5,3042,ohc,4,141,mpfi,3.78,3.15,9.5,114,5400,24,28,16515\\nvolvo,gas,turbo,four,sedan,rwd,front,104.3,188.8,67.2,56.2,3045,ohc,4,130,mpfi,3.62,3.15,7.5,162,5100,17,22,18420\\nvolvo,gas,turbo,four,wagon,rwd,front,104.3,188.8,67.2,57.5,3157,ohc,4,130,mpfi,3.62,3.15,7.5,162,5100,17,22,18950\\nvolvo,gas,std,four,sedan,rwd,front,109.1,188.8,68.9,55.5,2952,ohc,4,141,mpfi,3.78,3.15,9.5,114,5400,23,28,16845\\nvolvo,gas,turbo,four,sedan,rwd,front,109.1,188.8,68.8,55.5,3049,ohc,4,141,mpfi,3.78,3.15,8.7,160,5300,19,25,19045\\nvolvo,gas,std,four,sedan,rwd,front,109.1,188.8,68.9,55.5,3012,ohcv,6,173,mpfi,3.58,2.87,8.8,134,5500,18,23,21485\\nvolvo,diesel,turbo,four,sedan,rwd,front,109.1,188.8,68.9,55.5,3217,ohc,6,145,idi,3.01,3.4,23,106,4800,26,27,22470\\nvolvo,gas,turbo,four,sedan,rwd,front,109.1,188.8,68.9,55.5,3062,ohc,4,141,mpfi,3.78,3.15,9.5,114,5400,19,25,22625'"
      ]
     },
     "execution_count": 21,
     "metadata": {},
     "output_type": "execute_result"
    }
   ],
   "source": [
    "line1"
   ]
  },
  {
   "cell_type": "code",
   "execution_count": 22,
   "id": "41d1220c",
   "metadata": {},
   "outputs": [],
   "source": [
    "line2 = file.read()"
   ]
  },
  {
   "cell_type": "code",
   "execution_count": 23,
   "id": "23b5acb9",
   "metadata": {},
   "outputs": [
    {
     "data": {
      "text/plain": [
       "''"
      ]
     },
     "execution_count": 23,
     "metadata": {},
     "output_type": "execute_result"
    }
   ],
   "source": [
    "line2"
   ]
  },
  {
   "cell_type": "code",
   "execution_count": 25,
   "id": "acf95e2f",
   "metadata": {},
   "outputs": [
    {
     "data": {
      "text/plain": [
       "<_io.TextIOWrapper name='C:\\\\Users\\\\aghos\\\\Desktop\\\\Orion\\\\GitRepo\\\\web-scraping-BeautifulSoup-Selenium-Scrapy\\\\scrappy code\\\\cars.csv' mode='r' encoding='cp1252'>"
      ]
     },
     "execution_count": 25,
     "metadata": {},
     "output_type": "execute_result"
    }
   ],
   "source": [
    "file"
   ]
  },
  {
   "cell_type": "code",
   "execution_count": 31,
   "id": "9d733422",
   "metadata": {},
   "outputs": [
    {
     "ename": "ValueError",
     "evalue": "I/O operation on closed file.",
     "output_type": "error",
     "traceback": [
      "\u001b[1;31m---------------------------------------------------------------------------\u001b[0m",
      "\u001b[1;31mValueError\u001b[0m                                Traceback (most recent call last)",
      "Input \u001b[1;32mIn [31]\u001b[0m, in \u001b[0;36m<cell line: 1>\u001b[1;34m()\u001b[0m\n\u001b[1;32m----> 1\u001b[0m line3 \u001b[38;5;241m=\u001b[39m \u001b[43mfile\u001b[49m\u001b[38;5;241;43m.\u001b[39;49m\u001b[43mread\u001b[49m\u001b[43m(\u001b[49m\u001b[43m)\u001b[49m\n\u001b[0;32m      2\u001b[0m line3\n",
      "\u001b[1;31mValueError\u001b[0m: I/O operation on closed file."
     ]
    }
   ],
   "source": [
    "line3 = file.read()\n",
    "line3"
   ]
  },
  {
   "cell_type": "code",
   "execution_count": 26,
   "id": "4c69cfea",
   "metadata": {},
   "outputs": [],
   "source": [
    "file2 = open(dir3)"
   ]
  },
  {
   "cell_type": "code",
   "execution_count": 27,
   "id": "cad33ecb",
   "metadata": {},
   "outputs": [
    {
     "data": {
      "text/plain": [
       "<_io.TextIOWrapper name='C:\\\\Users\\\\aghos\\\\Desktop\\\\Orion\\\\GitRepo\\\\web-scraping-BeautifulSoup-Selenium-Scrapy\\\\scrappy code\\\\cars.csv' mode='r' encoding='cp1252'>"
      ]
     },
     "execution_count": 27,
     "metadata": {},
     "output_type": "execute_result"
    }
   ],
   "source": [
    "file2"
   ]
  },
  {
   "cell_type": "code",
   "execution_count": 28,
   "id": "04e3fe4b",
   "metadata": {},
   "outputs": [],
   "source": [
    "line_file2 = file2.read()"
   ]
  },
  {
   "cell_type": "code",
   "execution_count": 29,
   "id": "726442f7",
   "metadata": {},
   "outputs": [
    {
     "data": {
      "text/plain": [
       "'make,fuel_type,aspiration,num_of_doors,body_style,drive_wheels,engine_location,wheel_base,length,width,height,curb_weight,engine_type,num_of_cylinders,engine_size,fuel_system,bore,stroke,compression_ratio,horsepower,peak_rpm,city_mpg,highway_mpg,price\\nalfa-romero,gas,std,two,convertible,rwd,front,88.6,168.8,64.1,48.8,2548,dohc,4,130,mpfi,3.47,2.68,9,111,5000,21,27,13495\\nalfa-romero,gas,std,two,convertible,rwd,front,88.6,168.8,64.1,48.8,2548,dohc,4,130,mpfi,3.47,2.68,9,111,5000,21,27,16500\\nalfa-romero,gas,std,two,hatchback,rwd,front,94.5,171.2,65.5,52.4,2823,ohcv,6,152,mpfi,2.68,3.47,9,154,5000,19,26,16500\\naudi,gas,std,four,sedan,fwd,front,99.8,176.6,66.2,54.3,2337,ohc,4,109,mpfi,3.19,3.4,10,102,5500,24,30,13950\\naudi,gas,std,four,sedan,4wd,front,99.4,176.6,66.4,54.3,2824,ohc,5,136,mpfi,3.19,3.4,8,115,5500,18,22,17450\\naudi,gas,std,two,sedan,fwd,front,99.8,177.3,66.3,53.1,2507,ohc,5,136,mpfi,3.19,3.4,8.5,110,5500,19,25,15250\\naudi,gas,std,four,sedan,fwd,front,105.8,192.7,71.4,55.7,2844,ohc,5,136,mpfi,3.19,3.4,8.5,110,5500,19,25,17710\\naudi,gas,std,four,wagon,fwd,front,105.8,192.7,71.4,55.7,2954,ohc,5,136,mpfi,3.19,3.4,8.5,110,5500,19,25,18920\\naudi,gas,turbo,four,sedan,fwd,front,105.8,192.7,71.4,55.9,3086,ohc,5,131,mpfi,3.13,3.4,8.3,140,5500,17,20,23875\\nbmw,gas,std,two,sedan,rwd,front,101.2,176.8,64.8,54.3,2395,ohc,4,108,mpfi,3.5,2.8,8.8,101,5800,23,29,16430\\nbmw,gas,std,four,sedan,rwd,front,101.2,176.8,64.8,54.3,2395,ohc,4,108,mpfi,3.5,2.8,8.8,101,5800,23,29,16925\\nbmw,gas,std,two,sedan,rwd,front,101.2,176.8,64.8,54.3,2710,ohc,6,164,mpfi,3.31,3.19,9,121,4250,21,28,20970\\nbmw,gas,std,four,sedan,rwd,front,101.2,176.8,64.8,54.3,2765,ohc,6,164,mpfi,3.31,3.19,9,121,4250,21,28,21105\\nbmw,gas,std,four,sedan,rwd,front,103.5,189,66.9,55.7,3055,ohc,6,164,mpfi,3.31,3.19,9,121,4250,20,25,24565\\nbmw,gas,std,four,sedan,rwd,front,103.5,189,66.9,55.7,3230,ohc,6,209,mpfi,3.62,3.39,8,182,5400,16,22,30760\\nbmw,gas,std,two,sedan,rwd,front,103.5,193.8,67.9,53.7,3380,ohc,6,209,mpfi,3.62,3.39,8,182,5400,16,22,41315\\nbmw,gas,std,four,sedan,rwd,front,110,197,70.9,56.3,3505,ohc,6,209,mpfi,3.62,3.39,8,182,5400,15,20,36880\\nchevrolet,gas,std,two,hatchback,fwd,front,88.4,141.1,60.3,53.2,1488,l,3,61,2bbl,2.91,3.03,9.5,48,5100,47,53,5151\\nchevrolet,gas,std,two,hatchback,fwd,front,94.5,155.9,63.6,52,1874,ohc,4,90,2bbl,3.03,3.11,9.6,70,5400,38,43,6295\\nchevrolet,gas,std,four,sedan,fwd,front,94.5,158.8,63.6,52,1909,ohc,4,90,2bbl,3.03,3.11,9.6,70,5400,38,43,6575\\ndodge,gas,std,two,hatchback,fwd,front,93.7,157.3,63.8,50.8,1876,ohc,4,90,2bbl,2.97,3.23,9.41,68,5500,37,41,5572\\ndodge,gas,std,two,hatchback,fwd,front,93.7,157.3,63.8,50.8,1876,ohc,4,90,2bbl,2.97,3.23,9.4,68,5500,31,38,6377\\ndodge,gas,turbo,two,hatchback,fwd,front,93.7,157.3,63.8,50.8,2128,ohc,4,98,mpfi,3.03,3.39,7.6,102,5500,24,30,7957\\ndodge,gas,std,four,hatchback,fwd,front,93.7,157.3,63.8,50.6,1967,ohc,4,90,2bbl,2.97,3.23,9.4,68,5500,31,38,6229\\ndodge,gas,std,four,sedan,fwd,front,93.7,157.3,63.8,50.6,1989,ohc,4,90,2bbl,2.97,3.23,9.4,68,5500,31,38,6692\\ndodge,gas,std,four,sedan,fwd,front,93.7,157.3,63.8,50.6,1989,ohc,4,90,2bbl,2.97,3.23,9.4,68,5500,31,38,7609\\ndodge,gas,std,four,wagon,fwd,front,103.3,174.6,64.6,59.8,2535,ohc,4,122,2bbl,3.34,3.46,8.5,88,5000,24,30,8921\\ndodge,gas,turbo,two,hatchback,fwd,front,95.9,173.2,66.3,50.2,2811,ohc,4,156,mfi,3.6,3.9,7,145,5000,19,24,12964\\nhonda,gas,std,two,hatchback,fwd,front,86.6,144.6,63.9,50.8,1713,ohc,4,92,1bbl,2.91,3.41,9.6,58,4800,49,54,6479\\nhonda,gas,std,two,hatchback,fwd,front,86.6,144.6,63.9,50.8,1819,ohc,4,92,1bbl,2.91,3.41,9.2,76,6000,31,38,6855\\nhonda,gas,std,two,hatchback,fwd,front,93.7,150,64,52.6,1837,ohc,4,79,1bbl,2.91,3.07,10.1,60,5500,38,42,5399\\nhonda,gas,std,two,hatchback,fwd,front,93.7,150,64,52.6,1940,ohc,4,92,1bbl,2.91,3.41,9.2,76,6000,30,34,6529\\nhonda,gas,std,two,hatchback,fwd,front,93.7,150,64,52.6,1956,ohc,4,92,1bbl,2.91,3.41,9.2,76,6000,30,34,7129\\nhonda,gas,std,four,sedan,fwd,front,96.5,163.4,64,54.5,2010,ohc,4,92,1bbl,2.91,3.41,9.2,76,6000,30,34,7295\\nhonda,gas,std,four,wagon,fwd,front,96.5,157.1,63.9,58.3,2024,ohc,4,92,1bbl,2.92,3.41,9.2,76,6000,30,34,7295\\nhonda,gas,std,two,hatchback,fwd,front,96.5,167.5,65.2,53.3,2236,ohc,4,110,1bbl,3.15,3.58,9,86,5800,27,33,7895\\nhonda,gas,std,two,hatchback,fwd,front,96.5,167.5,65.2,53.3,2289,ohc,4,110,1bbl,3.15,3.58,9,86,5800,27,33,9095\\nhonda,gas,std,four,sedan,fwd,front,96.5,175.4,65.2,54.1,2304,ohc,4,110,1bbl,3.15,3.58,9,86,5800,27,33,8845\\nhonda,gas,std,four,sedan,fwd,front,96.5,175.4,62.5,54.1,2372,ohc,4,110,1bbl,3.15,3.58,9,86,5800,27,33,10295\\nhonda,gas,std,four,sedan,fwd,front,96.5,175.4,65.2,54.1,2465,ohc,4,110,mpfi,3.15,3.58,9,101,5800,24,28,12945\\nhonda,gas,std,two,sedan,fwd,front,96.5,169.1,66,51,2293,ohc,4,110,2bbl,3.15,3.58,9.1,100,5500,25,31,10345\\nisuzu,gas,std,four,sedan,rwd,front,94.3,170.7,61.8,53.5,2337,ohc,4,111,2bbl,3.31,3.23,8.5,78,4800,24,29,6785\\nisuzu,gas,std,two,hatchback,rwd,front,96,172.6,65.2,51.4,2734,ohc,4,119,spfi,3.43,3.23,9.2,90,5000,24,29,11048\\njaguar,gas,std,four,sedan,rwd,front,113,199.6,69.6,52.8,4066,dohc,6,258,mpfi,3.63,4.17,8.1,176,4750,15,19,32250\\njaguar,gas,std,four,sedan,rwd,front,113,199.6,69.6,52.8,4066,dohc,6,258,mpfi,3.63,4.17,8.1,176,4750,15,19,35550\\njaguar,gas,std,two,sedan,rwd,front,102,191.7,70.6,47.8,3950,ohcv,12,326,mpfi,3.54,2.76,11.5,262,5000,13,17,36000\\nmazda,gas,std,two,hatchback,fwd,front,93.1,159.1,64.2,54.1,1890,ohc,4,91,2bbl,3.03,3.15,9,68,5000,30,31,5195\\nmazda,gas,std,two,hatchback,fwd,front,93.1,159.1,64.2,54.1,1900,ohc,4,91,2bbl,3.03,3.15,9,68,5000,31,38,6095\\nmazda,gas,std,two,hatchback,fwd,front,93.1,159.1,64.2,54.1,1905,ohc,4,91,2bbl,3.03,3.15,9,68,5000,31,38,6795\\nmazda,gas,std,four,sedan,fwd,front,93.1,166.8,64.2,54.1,1945,ohc,4,91,2bbl,3.03,3.15,9,68,5000,31,38,6695\\nmazda,gas,std,four,sedan,fwd,front,93.1,166.8,64.2,54.1,1950,ohc,4,91,2bbl,3.08,3.15,9,68,5000,31,38,7395\\nmazda,gas,std,two,hatchback,fwd,front,98.8,177.8,66.5,53.7,2385,ohc,4,122,2bbl,3.39,3.39,8.6,84,4800,26,32,8845\\nmazda,gas,std,four,sedan,fwd,front,98.8,177.8,66.5,55.5,2410,ohc,4,122,2bbl,3.39,3.39,8.6,84,4800,26,32,8495\\nmazda,gas,std,two,hatchback,fwd,front,98.8,177.8,66.5,53.7,2385,ohc,4,122,2bbl,3.39,3.39,8.6,84,4800,26,32,10595\\nmazda,gas,std,four,sedan,fwd,front,98.8,177.8,66.5,55.5,2410,ohc,4,122,2bbl,3.39,3.39,8.6,84,4800,26,32,10245\\nmazda,gas,std,four,hatchback,fwd,front,98.8,177.8,66.5,55.5,2425,ohc,4,122,2bbl,3.39,3.39,8.6,84,4800,26,32,11245\\nmazda,gas,std,four,sedan,rwd,front,104.9,175,66.1,54.4,2670,ohc,4,140,mpfi,3.76,3.16,8,120,5000,19,27,18280\\nmazda,diesel,std,four,sedan,rwd,front,104.9,175,66.1,54.4,2700,ohc,4,134,idi,3.43,3.64,22,72,4200,31,39,18344\\nmercedes-benz,diesel,turbo,four,sedan,rwd,front,110,190.9,70.3,56.5,3515,ohc,5,183,idi,3.58,3.64,21.5,123,4350,22,25,25552\\nmercedes-benz,diesel,turbo,four,wagon,rwd,front,110,190.9,70.3,58.7,3750,ohc,5,183,idi,3.58,3.64,21.5,123,4350,22,25,28248\\nmercedes-benz,diesel,turbo,two,hardtop,rwd,front,106.7,187.5,70.3,54.9,3495,ohc,5,183,idi,3.58,3.64,21.5,123,4350,22,25,28176\\nmercedes-benz,diesel,turbo,four,sedan,rwd,front,115.6,202.6,71.7,56.3,3770,ohc,5,183,idi,3.58,3.64,21.5,123,4350,22,25,31600\\nmercedes-benz,gas,std,four,sedan,rwd,front,115.6,202.6,71.7,56.5,3740,ohcv,8,234,mpfi,3.46,3.1,8.3,155,4750,16,18,34184\\nmercedes-benz,gas,std,two,convertible,rwd,front,96.6,180.3,70.5,50.8,3685,ohcv,8,234,mpfi,3.46,3.1,8.3,155,4750,16,18,35056\\nmercedes-benz,gas,std,four,sedan,rwd,front,120.9,208.1,71.7,56.7,3900,ohcv,8,308,mpfi,3.8,3.35,8,184,4500,14,16,40960\\nmercedes-benz,gas,std,two,hardtop,rwd,front,112,199.2,72,55.4,3715,ohcv,8,304,mpfi,3.8,3.35,8,184,4500,14,16,45400\\nmercury,gas,turbo,two,hatchback,rwd,front,102.7,178.4,68,54.8,2910,ohc,4,140,mpfi,3.78,3.12,8,175,5000,19,24,16503\\nmitsubishi,gas,std,two,hatchback,fwd,front,93.7,157.3,64.4,50.8,1918,ohc,4,92,2bbl,2.97,3.23,9.4,68,5500,37,41,5389\\nmitsubishi,gas,std,two,hatchback,fwd,front,93.7,157.3,64.4,50.8,1944,ohc,4,92,2bbl,2.97,3.23,9.4,68,5500,31,38,6189\\nmitsubishi,gas,std,two,hatchback,fwd,front,93.7,157.3,64.4,50.8,2004,ohc,4,92,2bbl,2.97,3.23,9.4,68,5500,31,38,6669\\nmitsubishi,gas,turbo,two,hatchback,fwd,front,93,157.3,63.8,50.8,2145,ohc,4,98,spdi,3.03,3.39,7.6,102,5500,24,30,7689\\nmitsubishi,gas,turbo,two,hatchback,fwd,front,96.3,173,65.4,49.4,2370,ohc,4,110,spdi,3.17,3.46,7.5,116,5500,23,30,9959\\nmitsubishi,gas,std,two,hatchback,fwd,front,96.3,173,65.4,49.4,2328,ohc,4,122,2bbl,3.35,3.46,8.5,88,5000,25,32,8499\\nmitsubishi,gas,turbo,two,hatchback,fwd,front,95.9,173.2,66.3,50.2,2833,ohc,4,156,spdi,3.58,3.86,7,145,5000,19,24,12629\\nmitsubishi,gas,turbo,two,hatchback,fwd,front,95.9,173.2,66.3,50.2,2921,ohc,4,156,spdi,3.59,3.86,7,145,5000,19,24,14869\\nmitsubishi,gas,turbo,two,hatchback,fwd,front,95.9,173.2,66.3,50.2,2926,ohc,4,156,spdi,3.59,3.86,7,145,5000,19,24,14489\\nmitsubishi,gas,std,four,sedan,fwd,front,96.3,172.4,65.4,51.6,2365,ohc,4,122,2bbl,3.35,3.46,8.5,88,5000,25,32,6989\\nmitsubishi,gas,std,four,sedan,fwd,front,96.3,172.4,65.4,51.6,2405,ohc,4,122,2bbl,3.35,3.46,8.5,88,5000,25,32,8189\\nmitsubishi,gas,turbo,four,sedan,fwd,front,96.3,172.4,65.4,51.6,2403,ohc,4,110,spdi,3.17,3.46,7.5,116,5500,23,30,9279\\nmitsubishi,gas,std,four,sedan,fwd,front,96.3,172.4,65.4,51.6,2403,ohc,4,110,spdi,3.17,3.46,7.5,116,5500,23,30,9279\\nnissan,gas,std,two,sedan,fwd,front,94.5,165.3,63.8,54.5,1889,ohc,4,97,2bbl,3.15,3.29,9.4,69,5200,31,37,5499\\nnissan,diesel,std,two,sedan,fwd,front,94.5,165.3,63.8,54.5,2017,ohc,4,103,idi,2.99,3.47,21.9,55,4800,45,50,7099\\nnissan,gas,std,two,sedan,fwd,front,94.5,165.3,63.8,54.5,1918,ohc,4,97,2bbl,3.15,3.29,9.4,69,5200,31,37,6649\\nnissan,gas,std,four,sedan,fwd,front,94.5,165.3,63.8,54.5,1938,ohc,4,97,2bbl,3.15,3.29,9.4,69,5200,31,37,6849\\nnissan,gas,std,four,wagon,fwd,front,94.5,170.2,63.8,53.5,2024,ohc,4,97,2bbl,3.15,3.29,9.4,69,5200,31,37,7349\\nnissan,gas,std,two,sedan,fwd,front,94.5,165.3,63.8,54.5,1951,ohc,4,97,2bbl,3.15,3.29,9.4,69,5200,31,37,7299\\nnissan,gas,std,two,hatchback,fwd,front,94.5,165.6,63.8,53.3,2028,ohc,4,97,2bbl,3.15,3.29,9.4,69,5200,31,37,7799\\nnissan,gas,std,four,sedan,fwd,front,94.5,165.3,63.8,54.5,1971,ohc,4,97,2bbl,3.15,3.29,9.4,69,5200,31,37,7499\\nnissan,gas,std,four,wagon,fwd,front,94.5,170.2,63.8,53.5,2037,ohc,4,97,2bbl,3.15,3.29,9.4,69,5200,31,37,7999\\nnissan,gas,std,two,hardtop,fwd,front,95.1,162.4,63.8,53.3,2008,ohc,4,97,2bbl,3.15,3.29,9.4,69,5200,31,37,8249\\nnissan,gas,std,four,hatchback,fwd,front,97.2,173.4,65.2,54.7,2324,ohc,4,120,2bbl,3.33,3.47,8.5,97,5200,27,34,8949\\nnissan,gas,std,four,sedan,fwd,front,97.2,173.4,65.2,54.7,2302,ohc,4,120,2bbl,3.33,3.47,8.5,97,5200,27,34,9549\\nnissan,gas,std,four,sedan,fwd,front,100.4,181.7,66.5,55.1,3095,ohcv,6,181,mpfi,3.43,3.27,9,152,5200,17,22,13499\\nnissan,gas,std,four,wagon,fwd,front,100.4,184.6,66.5,56.1,3296,ohcv,6,181,mpfi,3.43,3.27,9,152,5200,17,22,14399\\nnissan,gas,std,four,sedan,fwd,front,100.4,184.6,66.5,55.1,3060,ohcv,6,181,mpfi,3.43,3.27,9,152,5200,19,25,13499\\nnissan,gas,std,two,hatchback,rwd,front,91.3,170.7,67.9,49.7,3071,ohcv,6,181,mpfi,3.43,3.27,9,160,5200,19,25,17199\\nnissan,gas,turbo,two,hatchback,rwd,front,91.3,170.7,67.9,49.7,3139,ohcv,6,181,mpfi,3.43,3.27,7.8,200,5200,17,23,19699\\nnissan,gas,std,two,hatchback,rwd,front,99.2,178.5,67.9,49.7,3139,ohcv,6,181,mpfi,3.43,3.27,9,160,5200,19,25,18399\\npeugot,gas,std,four,sedan,rwd,front,107.9,186.7,68.4,56.7,3020,l,4,120,mpfi,3.46,3.19,8.4,97,5000,19,24,11900\\npeugot,diesel,turbo,four,sedan,rwd,front,107.9,186.7,68.4,56.7,3197,l,4,152,idi,3.7,3.52,21,95,4150,28,33,13200\\npeugot,gas,std,four,wagon,rwd,front,114.2,198.9,68.4,58.7,3230,l,4,120,mpfi,3.46,3.19,8.4,97,5000,19,24,12440\\npeugot,diesel,turbo,four,wagon,rwd,front,114.2,198.9,68.4,58.7,3430,l,4,152,idi,3.7,3.52,21,95,4150,25,25,13860\\npeugot,gas,std,four,sedan,rwd,front,107.9,186.7,68.4,56.7,3075,l,4,120,mpfi,3.46,2.19,8.4,95,5000,19,24,15580\\npeugot,diesel,turbo,four,sedan,rwd,front,107.9,186.7,68.4,56.7,3252,l,4,152,idi,3.7,3.52,21,95,4150,28,33,16900\\npeugot,gas,std,four,wagon,rwd,front,114.2,198.9,68.4,56.7,3285,l,4,120,mpfi,3.46,2.19,8.4,95,5000,19,24,16695\\npeugot,diesel,turbo,four,wagon,rwd,front,114.2,198.9,68.4,58.7,3485,l,4,152,idi,3.7,3.52,21,95,4150,25,25,17075\\npeugot,gas,std,four,sedan,rwd,front,107.9,186.7,68.4,56.7,3075,l,4,120,mpfi,3.46,3.19,8.4,97,5000,19,24,16630\\npeugot,diesel,turbo,four,sedan,rwd,front,107.9,186.7,68.4,56.7,3252,l,4,152,idi,3.7,3.52,21,95,4150,28,33,17950\\npeugot,gas,turbo,four,sedan,rwd,front,108,186.7,68.3,56,3130,l,4,134,mpfi,3.61,3.21,7,142,5600,18,24,18150\\nplymouth,gas,std,two,hatchback,fwd,front,93.7,157.3,63.8,50.8,1918,ohc,4,90,2bbl,2.97,3.23,9.4,68,5500,37,41,5572\\nplymouth,gas,turbo,two,hatchback,fwd,front,93.7,157.3,63.8,50.8,2128,ohc,4,98,spdi,3.03,3.39,7.6,102,5500,24,30,7957\\nplymouth,gas,std,four,hatchback,fwd,front,93.7,157.3,63.8,50.6,1967,ohc,4,90,2bbl,2.97,3.23,9.4,68,5500,31,38,6229\\nplymouth,gas,std,four,sedan,fwd,front,93.7,167.3,63.8,50.8,1989,ohc,4,90,2bbl,2.97,3.23,9.4,68,5500,31,38,6692\\nplymouth,gas,std,four,sedan,fwd,front,93.7,167.3,63.8,50.8,2191,ohc,4,98,2bbl,2.97,3.23,9.4,68,5500,31,38,7609\\nplymouth,gas,std,four,wagon,fwd,front,103.3,174.6,64.6,59.8,2535,ohc,4,122,2bbl,3.35,3.46,8.5,88,5000,24,30,8921\\nplymouth,gas,turbo,two,hatchback,rwd,front,95.9,173.2,66.3,50.2,2818,ohc,4,156,spdi,3.59,3.86,7,145,5000,19,24,12764\\nporsche,gas,std,two,hatchback,rwd,front,94.5,168.9,68.3,50.2,2778,ohc,4,151,mpfi,3.94,3.11,9.5,143,5500,19,27,22018\\nporsche,gas,std,two,hardtop,rwd,rear,89.5,168.9,65,51.6,2756,ohcf,6,194,mpfi,3.74,2.9,9.5,207,5900,17,25,32528\\nporsche,gas,std,two,hardtop,rwd,rear,89.5,168.9,65,51.6,2756,ohcf,6,194,mpfi,3.74,2.9,9.5,207,5900,17,25,34028\\nporsche,gas,std,two,convertible,rwd,rear,89.5,168.9,65,51.6,2800,ohcf,6,194,mpfi,3.74,2.9,9.5,207,5900,17,25,37028\\nsaab,gas,std,two,hatchback,fwd,front,99.1,186.6,66.5,56.1,2658,ohc,4,121,mpfi,3.54,3.07,9.31,110,5250,21,28,11850\\nsaab,gas,std,four,sedan,fwd,front,99.1,186.6,66.5,56.1,2695,ohc,4,121,mpfi,3.54,3.07,9.3,110,5250,21,28,12170\\nsaab,gas,std,two,hatchback,fwd,front,99.1,186.6,66.5,56.1,2707,ohc,4,121,mpfi,2.54,2.07,9.3,110,5250,21,28,15040\\nsaab,gas,std,four,sedan,fwd,front,99.1,186.6,66.5,56.1,2758,ohc,4,121,mpfi,3.54,3.07,9.3,110,5250,21,28,15510\\nsaab,gas,turbo,two,hatchback,fwd,front,99.1,186.6,66.5,56.1,2808,dohc,4,121,mpfi,3.54,3.07,9,160,5500,19,26,18150\\nsaab,gas,turbo,four,sedan,fwd,front,99.1,186.6,66.5,56.1,2847,dohc,4,121,mpfi,3.54,3.07,9,160,5500,19,26,18620\\nsubaru,gas,std,two,hatchback,fwd,front,93.7,156.9,63.4,53.7,2050,ohcf,4,97,2bbl,3.62,2.36,9,69,4900,31,36,5118\\nsubaru,gas,std,two,hatchback,fwd,front,93.7,157.9,63.6,53.7,2120,ohcf,4,108,2bbl,3.62,2.64,8.7,73,4400,26,31,7053\\nsubaru,gas,std,two,hatchback,4wd,front,93.3,157.3,63.8,55.7,2240,ohcf,4,108,2bbl,3.62,2.64,8.7,73,4400,26,31,7603\\nsubaru,gas,std,four,sedan,fwd,front,97.2,172,65.4,52.5,2145,ohcf,4,108,2bbl,3.62,2.64,9.5,82,4800,32,37,7126\\nsubaru,gas,std,four,sedan,fwd,front,97.2,172,65.4,52.5,2190,ohcf,4,108,2bbl,3.62,2.64,9.5,82,4400,28,33,7775\\nsubaru,gas,std,four,sedan,fwd,front,97.2,172,65.4,52.5,2340,ohcf,4,108,mpfi,3.62,2.64,9,94,5200,26,32,9960\\nsubaru,gas,std,four,sedan,4wd,front,97,172,65.4,54.3,2385,ohcf,4,108,2bbl,3.62,2.64,9,82,4800,24,25,9233\\nsubaru,gas,turbo,four,sedan,4wd,front,97,172,65.4,54.3,2510,ohcf,4,108,mpfi,3.62,2.64,7.7,111,4800,24,29,11259\\nsubaru,gas,std,four,wagon,fwd,front,97,173.5,65.4,53,2290,ohcf,4,108,2bbl,3.62,2.64,9,82,4800,28,32,7463\\nsubaru,gas,std,four,wagon,fwd,front,97,173.5,65.4,53,2455,ohcf,4,108,mpfi,3.62,2.64,9,94,5200,25,31,10198\\nsubaru,gas,std,four,wagon,4wd,front,96.9,173.6,65.4,54.9,2420,ohcf,4,108,2bbl,3.62,2.64,9,82,4800,23,29,8013\\nsubaru,gas,turbo,four,wagon,4wd,front,96.9,173.6,65.4,54.9,2650,ohcf,4,108,mpfi,3.62,2.64,7.7,111,4800,23,23,11694\\ntoyota,gas,std,two,hatchback,fwd,front,95.7,158.7,63.6,54.5,1985,ohc,4,92,2bbl,3.05,3.03,9,62,4800,35,39,5348\\ntoyota,gas,std,two,hatchback,fwd,front,95.7,158.7,63.6,54.5,2040,ohc,4,92,2bbl,3.05,3.03,9,62,4800,31,38,6338\\ntoyota,gas,std,four,hatchback,fwd,front,95.7,158.7,63.6,54.5,2015,ohc,4,92,2bbl,3.05,3.03,9,62,4800,31,38,6488\\ntoyota,gas,std,four,wagon,fwd,front,95.7,169.7,63.6,59.1,2280,ohc,4,92,2bbl,3.05,3.03,9,62,4800,31,37,6918\\ntoyota,gas,std,four,wagon,4wd,front,95.7,169.7,63.6,59.1,2290,ohc,4,92,2bbl,3.05,3.03,9,62,4800,27,32,7898\\ntoyota,gas,std,four,wagon,4wd,front,95.7,169.7,63.6,59.1,3110,ohc,4,92,2bbl,3.05,3.03,9,62,4800,27,32,8778\\ntoyota,gas,std,four,sedan,fwd,front,95.7,166.3,64.4,53,2081,ohc,4,98,2bbl,3.19,3.03,9,70,4800,30,37,6938\\ntoyota,gas,std,four,hatchback,fwd,front,95.7,166.3,64.4,52.8,2109,ohc,4,98,2bbl,3.19,3.03,9,70,4800,30,37,7198\\ntoyota,diesel,std,four,sedan,fwd,front,95.7,166.3,64.4,53,2275,ohc,4,110,idi,3.27,3.35,22.5,56,4500,34,36,7898\\ntoyota,diesel,std,four,hatchback,fwd,front,95.7,166.3,64.4,52.8,2275,ohc,4,110,idi,3.27,3.35,22.5,56,4500,38,47,7788\\ntoyota,gas,std,four,sedan,fwd,front,95.7,166.3,64.4,53,2094,ohc,4,98,2bbl,3.19,3.03,9,70,4800,38,47,7738\\ntoyota,gas,std,four,hatchback,fwd,front,95.7,166.3,64.4,52.8,2122,ohc,4,98,2bbl,3.19,3.03,9,70,4800,28,34,8358\\ntoyota,gas,std,four,sedan,fwd,front,95.7,166.3,64.4,52.8,2140,ohc,4,98,2bbl,3.19,3.03,9,70,4800,28,34,9258\\ntoyota,gas,std,two,sedan,rwd,front,94.5,168.7,64,52.6,2169,ohc,4,98,2bbl,3.19,3.03,9,70,4800,29,34,8058\\ntoyota,gas,std,two,hatchback,rwd,front,94.5,168.7,64,52.6,2204,ohc,4,98,2bbl,3.19,3.03,9,70,4800,29,34,8238\\ntoyota,gas,std,two,sedan,rwd,front,94.5,168.7,64,52.6,2265,dohc,4,98,mpfi,3.24,3.08,9.4,112,6600,26,29,9298\\ntoyota,gas,std,two,hatchback,rwd,front,94.5,168.7,64,52.6,2300,dohc,4,98,mpfi,3.24,3.08,9.4,112,6600,26,29,9538\\ntoyota,gas,std,two,hardtop,rwd,front,98.4,176.2,65.6,52,2540,ohc,4,146,mpfi,3.62,3.5,9.3,116,4800,24,30,8449\\ntoyota,gas,std,two,hardtop,rwd,front,98.4,176.2,65.6,52,2536,ohc,4,146,mpfi,3.62,3.5,9.3,116,4800,24,30,9639\\ntoyota,gas,std,two,hatchback,rwd,front,98.4,176.2,65.6,52,2551,ohc,4,146,mpfi,3.62,3.5,9.3,116,4800,24,30,9989\\ntoyota,gas,std,two,hardtop,rwd,front,98.4,176.2,65.6,52,2679,ohc,4,146,mpfi,3.62,3.5,9.3,116,4800,24,30,11199\\ntoyota,gas,std,two,hatchback,rwd,front,98.4,176.2,65.6,52,2714,ohc,4,146,mpfi,3.62,3.5,9.3,116,4800,24,30,11549\\ntoyota,gas,std,two,convertible,rwd,front,98.4,176.2,65.6,53,2975,ohc,4,146,mpfi,3.62,3.5,9.3,116,4800,24,30,17669\\ntoyota,gas,std,four,sedan,fwd,front,102.4,175.6,66.5,54.9,2326,ohc,4,122,mpfi,3.31,3.54,8.7,92,4200,29,34,8948\\ntoyota,diesel,turbo,four,sedan,fwd,front,102.4,175.6,66.5,54.9,2480,ohc,4,110,idi,3.27,3.35,22.5,73,4500,30,33,10698\\ntoyota,gas,std,four,hatchback,fwd,front,102.4,175.6,66.5,53.9,2414,ohc,4,122,mpfi,3.31,3.54,8.7,92,4200,27,32,9988\\ntoyota,gas,std,four,sedan,fwd,front,102.4,175.6,66.5,54.9,2414,ohc,4,122,mpfi,3.31,3.54,8.7,92,4200,27,32,10898\\ntoyota,gas,std,four,hatchback,fwd,front,102.4,175.6,66.5,53.9,2458,ohc,4,122,mpfi,3.31,3.54,8.7,92,4200,27,32,11248\\ntoyota,gas,std,two,hatchback,rwd,front,102.9,183.5,67.7,52,2976,dohc,6,171,mpfi,3.27,3.35,9.3,161,5200,20,24,16558\\ntoyota,gas,std,two,hatchback,rwd,front,102.9,183.5,67.7,52,3016,dohc,6,171,mpfi,3.27,3.35,9.3,161,5200,19,24,15998\\ntoyota,gas,std,four,sedan,rwd,front,104.5,187.8,66.5,54.1,3131,dohc,6,171,mpfi,3.27,3.35,9.2,156,5200,20,24,15690\\ntoyota,gas,std,four,wagon,rwd,front,104.5,187.8,66.5,54.1,3151,dohc,6,161,mpfi,3.27,3.35,9.2,156,5200,19,24,15750\\nvolkswagen,diesel,std,two,sedan,fwd,front,97.3,171.7,65.5,55.7,2261,ohc,4,97,idi,3.01,3.4,23,52,4800,37,46,7775\\nvolkswagen,gas,std,two,sedan,fwd,front,97.3,171.7,65.5,55.7,2209,ohc,4,109,mpfi,3.19,3.4,9,85,5250,27,34,7975\\nvolkswagen,diesel,std,four,sedan,fwd,front,97.3,171.7,65.5,55.7,2264,ohc,4,97,idi,3.01,3.4,23,52,4800,37,46,7995\\nvolkswagen,gas,std,four,sedan,fwd,front,97.3,171.7,65.5,55.7,2212,ohc,4,109,mpfi,3.19,3.4,9,85,5250,27,34,8195\\nvolkswagen,gas,std,four,sedan,fwd,front,97.3,171.7,65.5,55.7,2275,ohc,4,109,mpfi,3.19,3.4,9,85,5250,27,34,8495\\nvolkswagen,diesel,turbo,four,sedan,fwd,front,97.3,171.7,65.5,55.7,2319,ohc,4,97,idi,3.01,3.4,23,68,4500,37,42,9495\\nvolkswagen,gas,std,four,sedan,fwd,front,97.3,171.7,65.5,55.7,2300,ohc,4,109,mpfi,3.19,3.4,10,100,5500,26,32,9995\\nvolkswagen,gas,std,two,convertible,fwd,front,94.5,159.3,64.2,55.6,2254,ohc,4,109,mpfi,3.19,3.4,8.5,90,5500,24,29,11595\\nvolkswagen,gas,std,two,hatchback,fwd,front,94.5,165.7,64,51.4,2221,ohc,4,109,mpfi,3.19,3.4,8.5,90,5500,24,29,9980\\nvolkswagen,gas,std,four,sedan,fwd,front,100.4,180.2,66.9,55.1,2661,ohc,5,136,mpfi,3.19,3.4,8.5,110,5500,19,24,13295\\nvolkswagen,diesel,turbo,four,sedan,fwd,front,100.4,180.2,66.9,55.1,2579,ohc,4,97,idi,3.01,3.4,23,68,4500,33,38,13845\\nvolkswagen,gas,std,four,wagon,fwd,front,100.4,183.1,66.9,55.1,2563,ohc,4,109,mpfi,3.19,3.4,9,88,5500,25,31,12290\\nvolvo,gas,std,four,sedan,rwd,front,104.3,188.8,67.2,56.2,2912,ohc,4,141,mpfi,3.78,3.15,9.5,114,5400,23,28,12940\\nvolvo,gas,std,four,wagon,rwd,front,104.3,188.8,67.2,57.5,3034,ohc,4,141,mpfi,3.78,3.15,9.5,114,5400,23,28,13415\\nvolvo,gas,std,four,sedan,rwd,front,104.3,188.8,67.2,56.2,2935,ohc,4,141,mpfi,3.78,3.15,9.5,114,5400,24,28,15985\\nvolvo,gas,std,four,wagon,rwd,front,104.3,188.8,67.2,57.5,3042,ohc,4,141,mpfi,3.78,3.15,9.5,114,5400,24,28,16515\\nvolvo,gas,turbo,four,sedan,rwd,front,104.3,188.8,67.2,56.2,3045,ohc,4,130,mpfi,3.62,3.15,7.5,162,5100,17,22,18420\\nvolvo,gas,turbo,four,wagon,rwd,front,104.3,188.8,67.2,57.5,3157,ohc,4,130,mpfi,3.62,3.15,7.5,162,5100,17,22,18950\\nvolvo,gas,std,four,sedan,rwd,front,109.1,188.8,68.9,55.5,2952,ohc,4,141,mpfi,3.78,3.15,9.5,114,5400,23,28,16845\\nvolvo,gas,turbo,four,sedan,rwd,front,109.1,188.8,68.8,55.5,3049,ohc,4,141,mpfi,3.78,3.15,8.7,160,5300,19,25,19045\\nvolvo,gas,std,four,sedan,rwd,front,109.1,188.8,68.9,55.5,3012,ohcv,6,173,mpfi,3.58,2.87,8.8,134,5500,18,23,21485\\nvolvo,diesel,turbo,four,sedan,rwd,front,109.1,188.8,68.9,55.5,3217,ohc,6,145,idi,3.01,3.4,23,106,4800,26,27,22470\\nvolvo,gas,turbo,four,sedan,rwd,front,109.1,188.8,68.9,55.5,3062,ohc,4,141,mpfi,3.78,3.15,9.5,114,5400,19,25,22625'"
      ]
     },
     "execution_count": 29,
     "metadata": {},
     "output_type": "execute_result"
    }
   ],
   "source": [
    "line_file2 "
   ]
  },
  {
   "cell_type": "code",
   "execution_count": 5,
   "id": "757fb896",
   "metadata": {
    "scrolled": true
   },
   "outputs": [
    {
     "ename": "FileNotFoundError",
     "evalue": "[WinError 3] The system cannot find the path specified: '/scrappy code'",
     "output_type": "error",
     "traceback": [
      "\u001b[1;31m---------------------------------------------------------------------------\u001b[0m",
      "\u001b[1;31mFileNotFoundError\u001b[0m                         Traceback (most recent call last)",
      "Input \u001b[1;32mIn [5]\u001b[0m, in \u001b[0;36m<cell line: 1>\u001b[1;34m()\u001b[0m\n\u001b[1;32m----> 1\u001b[0m \u001b[43mos\u001b[49m\u001b[38;5;241;43m.\u001b[39;49m\u001b[43mlistdir\u001b[49m\u001b[43m(\u001b[49m\u001b[38;5;124;43m'\u001b[39;49m\u001b[38;5;124;43m/scrappy code\u001b[39;49m\u001b[38;5;124;43m'\u001b[39;49m\u001b[43m)\u001b[49m\n",
      "\u001b[1;31mFileNotFoundError\u001b[0m: [WinError 3] The system cannot find the path specified: '/scrappy code'"
     ]
    }
   ],
   "source": [
    "os.listdir('/scrappy code')"
   ]
  },
  {
   "cell_type": "code",
   "execution_count": 30,
   "id": "6676b655",
   "metadata": {},
   "outputs": [],
   "source": [
    "file.close()\n",
    "file2.close()"
   ]
  },
  {
   "cell_type": "code",
   "execution_count": 32,
   "id": "9d050405",
   "metadata": {},
   "outputs": [],
   "source": [
    "import os"
   ]
  },
  {
   "cell_type": "code",
   "execution_count": 33,
   "id": "0533592e",
   "metadata": {},
   "outputs": [
    {
     "data": {
      "text/plain": [
       "'C:\\\\Users\\\\aghos\\\\Desktop\\\\Orion\\\\GitRepo\\\\web-scraping-BeautifulSoup-Selenium-Scrapy'"
      ]
     },
     "execution_count": 33,
     "metadata": {},
     "output_type": "execute_result"
    }
   ],
   "source": [
    "os.getcwd()"
   ]
  },
  {
   "cell_type": "code",
   "execution_count": 35,
   "id": "07036468",
   "metadata": {},
   "outputs": [
    {
     "data": {
      "text/plain": [
       "['.git',\n",
       " '.ipynb_checkpoints',\n",
       " 'Just Some Code.ipynb',\n",
       " 'README.md',\n",
       " 'scrappy code']"
      ]
     },
     "execution_count": 35,
     "metadata": {},
     "output_type": "execute_result"
    }
   ],
   "source": [
    "os.listdir(os.getcwd())"
   ]
  },
  {
   "cell_type": "code",
   "execution_count": 38,
   "id": "5e6496a1",
   "metadata": {},
   "outputs": [
    {
     "data": {
      "text/plain": [
       "'C:\\\\Users\\\\aghos\\\\Desktop\\\\Orion\\\\GitRepo\\\\web-scraping-BeautifulSoup-Selenium-Scrapy\\\\scrappy code'"
      ]
     },
     "execution_count": 38,
     "metadata": {},
     "output_type": "execute_result"
    }
   ],
   "source": [
    "folder = os.getcwd()\n",
    "folder = folder + '\\\\scrappy code'\n",
    "folder"
   ]
  },
  {
   "cell_type": "code",
   "execution_count": 39,
   "id": "a19b1849",
   "metadata": {},
   "outputs": [
    {
     "data": {
      "text/plain": [
       "['cars.csv']"
      ]
     },
     "execution_count": 39,
     "metadata": {},
     "output_type": "execute_result"
    }
   ],
   "source": [
    "os.listdir(folder)"
   ]
  },
  {
   "cell_type": "code",
   "execution_count": 41,
   "id": "ab98d871",
   "metadata": {},
   "outputs": [
    {
     "data": {
      "text/plain": [
       "'C:\\\\Users\\\\aghos\\\\Desktop\\\\Orion\\\\GitRepo\\\\web-scraping-BeautifulSoup-Selenium-Scrapy\\\\scrappy code\\\\cars.csv'"
      ]
     },
     "execution_count": 41,
     "metadata": {},
     "output_type": "execute_result"
    }
   ],
   "source": [
    "filedir = folder + '\\\\cars.csv'\n",
    "filedir"
   ]
  },
  {
   "cell_type": "code",
   "execution_count": 42,
   "id": "3a5a44aa",
   "metadata": {},
   "outputs": [
    {
     "name": "stdout",
     "output_type": "stream",
     "text": [
      "make,fuel_type,aspiration,num_of_doors,body_style,drive_wheels,engine_location,wheel_base,length,width,height,curb_weight,engine_type,num_of_cylinders,engine_size,fuel_system,bore,stroke,compression_ratio,horsepower,peak_rpm,city_mpg,highway_mpg,price\n",
      "alfa-romero,gas,std,two,convertible,rwd,front,88.6,168.8,64.1,48.8,2548,dohc,4,130,mpfi,3.47,2.68,9,111,5000,21,27,13495\n",
      "alfa-romero,gas,std,two,convertible,rwd,front,88.6,168.8,64.1,48.8,2548,dohc,4,130,mpfi,3.47,2.68,9,111,5000,21,27,16500\n",
      "alfa-romero,gas,std,two,hatchback,rwd,front,94.5,171.2,65.5,52.4,2823,ohcv,6,152,mpfi,2.68,3.47,9,154,5000,19,26,16500\n",
      "audi,gas,std,four,sedan,fwd,front,99.8,176.6,66.2,54.3,2337,ohc,4,109,mpfi,3.19,3.4,10,102,5500,24,30,13950\n",
      "audi,gas,std,four,sedan,4wd,front,99.4,176.6,66.4,54.3,2824,ohc,5,136,mpfi,3.19,3.4,8,115,5500,18,22,17450\n",
      "audi,gas,std,two,sedan,fwd,front,99.8,177.3,66.3,53.1,2507,ohc,5,136,mpfi,3.19,3.4,8.5,110,5500,19,25,15250\n",
      "audi,gas,std,four,sedan,fwd,front,105.8,192.7,71.4,55.7,2844,ohc,5,136,mpfi,3.19,3.4,8.5,110,5500,19,25,17710\n",
      "audi,gas,std,four,wagon,fwd,front,105.8,192.7,71.4,55.7,2954,ohc,5,136,mpfi,3.19,3.4,8.5,110,5500,19,25,18920\n",
      "audi,gas,turbo,four,sedan,fwd,front,105.8,192.7,71.4,55.9,3086,ohc,5,131,mpfi,3.13,3.4,8.3,140,5500,17,20,23875\n",
      "bmw,gas,std,two,sedan,rwd,front,101.2,176.8,64.8,54.3,2395,ohc,4,108,mpfi,3.5,2.8,8.8,101,5800,23,29,16430\n",
      "bmw,gas,std,four,sedan,rwd,front,101.2,176.8,64.8,54.3,2395,ohc,4,108,mpfi,3.5,2.8,8.8,101,5800,23,29,16925\n",
      "bmw,gas,std,two,sedan,rwd,front,101.2,176.8,64.8,54.3,2710,ohc,6,164,mpfi,3.31,3.19,9,121,4250,21,28,20970\n",
      "bmw,gas,std,four,sedan,rwd,front,101.2,176.8,64.8,54.3,2765,ohc,6,164,mpfi,3.31,3.19,9,121,4250,21,28,21105\n",
      "bmw,gas,std,four,sedan,rwd,front,103.5,189,66.9,55.7,3055,ohc,6,164,mpfi,3.31,3.19,9,121,4250,20,25,24565\n",
      "bmw,gas,std,four,sedan,rwd,front,103.5,189,66.9,55.7,3230,ohc,6,209,mpfi,3.62,3.39,8,182,5400,16,22,30760\n",
      "bmw,gas,std,two,sedan,rwd,front,103.5,193.8,67.9,53.7,3380,ohc,6,209,mpfi,3.62,3.39,8,182,5400,16,22,41315\n",
      "bmw,gas,std,four,sedan,rwd,front,110,197,70.9,56.3,3505,ohc,6,209,mpfi,3.62,3.39,8,182,5400,15,20,36880\n",
      "chevrolet,gas,std,two,hatchback,fwd,front,88.4,141.1,60.3,53.2,1488,l,3,61,2bbl,2.91,3.03,9.5,48,5100,47,53,5151\n",
      "chevrolet,gas,std,two,hatchback,fwd,front,94.5,155.9,63.6,52,1874,ohc,4,90,2bbl,3.03,3.11,9.6,70,5400,38,43,6295\n",
      "chevrolet,gas,std,four,sedan,fwd,front,94.5,158.8,63.6,52,1909,ohc,4,90,2bbl,3.03,3.11,9.6,70,5400,38,43,6575\n",
      "dodge,gas,std,two,hatchback,fwd,front,93.7,157.3,63.8,50.8,1876,ohc,4,90,2bbl,2.97,3.23,9.41,68,5500,37,41,5572\n",
      "dodge,gas,std,two,hatchback,fwd,front,93.7,157.3,63.8,50.8,1876,ohc,4,90,2bbl,2.97,3.23,9.4,68,5500,31,38,6377\n",
      "dodge,gas,turbo,two,hatchback,fwd,front,93.7,157.3,63.8,50.8,2128,ohc,4,98,mpfi,3.03,3.39,7.6,102,5500,24,30,7957\n",
      "dodge,gas,std,four,hatchback,fwd,front,93.7,157.3,63.8,50.6,1967,ohc,4,90,2bbl,2.97,3.23,9.4,68,5500,31,38,6229\n",
      "dodge,gas,std,four,sedan,fwd,front,93.7,157.3,63.8,50.6,1989,ohc,4,90,2bbl,2.97,3.23,9.4,68,5500,31,38,6692\n",
      "dodge,gas,std,four,sedan,fwd,front,93.7,157.3,63.8,50.6,1989,ohc,4,90,2bbl,2.97,3.23,9.4,68,5500,31,38,7609\n",
      "dodge,gas,std,four,wagon,fwd,front,103.3,174.6,64.6,59.8,2535,ohc,4,122,2bbl,3.34,3.46,8.5,88,5000,24,30,8921\n",
      "dodge,gas,turbo,two,hatchback,fwd,front,95.9,173.2,66.3,50.2,2811,ohc,4,156,mfi,3.6,3.9,7,145,5000,19,24,12964\n",
      "honda,gas,std,two,hatchback,fwd,front,86.6,144.6,63.9,50.8,1713,ohc,4,92,1bbl,2.91,3.41,9.6,58,4800,49,54,6479\n",
      "honda,gas,std,two,hatchback,fwd,front,86.6,144.6,63.9,50.8,1819,ohc,4,92,1bbl,2.91,3.41,9.2,76,6000,31,38,6855\n",
      "honda,gas,std,two,hatchback,fwd,front,93.7,150,64,52.6,1837,ohc,4,79,1bbl,2.91,3.07,10.1,60,5500,38,42,5399\n",
      "honda,gas,std,two,hatchback,fwd,front,93.7,150,64,52.6,1940,ohc,4,92,1bbl,2.91,3.41,9.2,76,6000,30,34,6529\n",
      "honda,gas,std,two,hatchback,fwd,front,93.7,150,64,52.6,1956,ohc,4,92,1bbl,2.91,3.41,9.2,76,6000,30,34,7129\n",
      "honda,gas,std,four,sedan,fwd,front,96.5,163.4,64,54.5,2010,ohc,4,92,1bbl,2.91,3.41,9.2,76,6000,30,34,7295\n",
      "honda,gas,std,four,wagon,fwd,front,96.5,157.1,63.9,58.3,2024,ohc,4,92,1bbl,2.92,3.41,9.2,76,6000,30,34,7295\n",
      "honda,gas,std,two,hatchback,fwd,front,96.5,167.5,65.2,53.3,2236,ohc,4,110,1bbl,3.15,3.58,9,86,5800,27,33,7895\n",
      "honda,gas,std,two,hatchback,fwd,front,96.5,167.5,65.2,53.3,2289,ohc,4,110,1bbl,3.15,3.58,9,86,5800,27,33,9095\n",
      "honda,gas,std,four,sedan,fwd,front,96.5,175.4,65.2,54.1,2304,ohc,4,110,1bbl,3.15,3.58,9,86,5800,27,33,8845\n",
      "honda,gas,std,four,sedan,fwd,front,96.5,175.4,62.5,54.1,2372,ohc,4,110,1bbl,3.15,3.58,9,86,5800,27,33,10295\n",
      "honda,gas,std,four,sedan,fwd,front,96.5,175.4,65.2,54.1,2465,ohc,4,110,mpfi,3.15,3.58,9,101,5800,24,28,12945\n",
      "honda,gas,std,two,sedan,fwd,front,96.5,169.1,66,51,2293,ohc,4,110,2bbl,3.15,3.58,9.1,100,5500,25,31,10345\n",
      "isuzu,gas,std,four,sedan,rwd,front,94.3,170.7,61.8,53.5,2337,ohc,4,111,2bbl,3.31,3.23,8.5,78,4800,24,29,6785\n",
      "isuzu,gas,std,two,hatchback,rwd,front,96,172.6,65.2,51.4,2734,ohc,4,119,spfi,3.43,3.23,9.2,90,5000,24,29,11048\n",
      "jaguar,gas,std,four,sedan,rwd,front,113,199.6,69.6,52.8,4066,dohc,6,258,mpfi,3.63,4.17,8.1,176,4750,15,19,32250\n",
      "jaguar,gas,std,four,sedan,rwd,front,113,199.6,69.6,52.8,4066,dohc,6,258,mpfi,3.63,4.17,8.1,176,4750,15,19,35550\n",
      "jaguar,gas,std,two,sedan,rwd,front,102,191.7,70.6,47.8,3950,ohcv,12,326,mpfi,3.54,2.76,11.5,262,5000,13,17,36000\n",
      "mazda,gas,std,two,hatchback,fwd,front,93.1,159.1,64.2,54.1,1890,ohc,4,91,2bbl,3.03,3.15,9,68,5000,30,31,5195\n",
      "mazda,gas,std,two,hatchback,fwd,front,93.1,159.1,64.2,54.1,1900,ohc,4,91,2bbl,3.03,3.15,9,68,5000,31,38,6095\n",
      "mazda,gas,std,two,hatchback,fwd,front,93.1,159.1,64.2,54.1,1905,ohc,4,91,2bbl,3.03,3.15,9,68,5000,31,38,6795\n",
      "mazda,gas,std,four,sedan,fwd,front,93.1,166.8,64.2,54.1,1945,ohc,4,91,2bbl,3.03,3.15,9,68,5000,31,38,6695\n",
      "mazda,gas,std,four,sedan,fwd,front,93.1,166.8,64.2,54.1,1950,ohc,4,91,2bbl,3.08,3.15,9,68,5000,31,38,7395\n",
      "mazda,gas,std,two,hatchback,fwd,front,98.8,177.8,66.5,53.7,2385,ohc,4,122,2bbl,3.39,3.39,8.6,84,4800,26,32,8845\n",
      "mazda,gas,std,four,sedan,fwd,front,98.8,177.8,66.5,55.5,2410,ohc,4,122,2bbl,3.39,3.39,8.6,84,4800,26,32,8495\n",
      "mazda,gas,std,two,hatchback,fwd,front,98.8,177.8,66.5,53.7,2385,ohc,4,122,2bbl,3.39,3.39,8.6,84,4800,26,32,10595\n",
      "mazda,gas,std,four,sedan,fwd,front,98.8,177.8,66.5,55.5,2410,ohc,4,122,2bbl,3.39,3.39,8.6,84,4800,26,32,10245\n",
      "mazda,gas,std,four,hatchback,fwd,front,98.8,177.8,66.5,55.5,2425,ohc,4,122,2bbl,3.39,3.39,8.6,84,4800,26,32,11245\n",
      "mazda,gas,std,four,sedan,rwd,front,104.9,175,66.1,54.4,2670,ohc,4,140,mpfi,3.76,3.16,8,120,5000,19,27,18280\n",
      "mazda,diesel,std,four,sedan,rwd,front,104.9,175,66.1,54.4,2700,ohc,4,134,idi,3.43,3.64,22,72,4200,31,39,18344\n",
      "mercedes-benz,diesel,turbo,four,sedan,rwd,front,110,190.9,70.3,56.5,3515,ohc,5,183,idi,3.58,3.64,21.5,123,4350,22,25,25552\n",
      "mercedes-benz,diesel,turbo,four,wagon,rwd,front,110,190.9,70.3,58.7,3750,ohc,5,183,idi,3.58,3.64,21.5,123,4350,22,25,28248\n",
      "mercedes-benz,diesel,turbo,two,hardtop,rwd,front,106.7,187.5,70.3,54.9,3495,ohc,5,183,idi,3.58,3.64,21.5,123,4350,22,25,28176\n",
      "mercedes-benz,diesel,turbo,four,sedan,rwd,front,115.6,202.6,71.7,56.3,3770,ohc,5,183,idi,3.58,3.64,21.5,123,4350,22,25,31600\n",
      "mercedes-benz,gas,std,four,sedan,rwd,front,115.6,202.6,71.7,56.5,3740,ohcv,8,234,mpfi,3.46,3.1,8.3,155,4750,16,18,34184\n",
      "mercedes-benz,gas,std,two,convertible,rwd,front,96.6,180.3,70.5,50.8,3685,ohcv,8,234,mpfi,3.46,3.1,8.3,155,4750,16,18,35056\n",
      "mercedes-benz,gas,std,four,sedan,rwd,front,120.9,208.1,71.7,56.7,3900,ohcv,8,308,mpfi,3.8,3.35,8,184,4500,14,16,40960\n",
      "mercedes-benz,gas,std,two,hardtop,rwd,front,112,199.2,72,55.4,3715,ohcv,8,304,mpfi,3.8,3.35,8,184,4500,14,16,45400\n",
      "mercury,gas,turbo,two,hatchback,rwd,front,102.7,178.4,68,54.8,2910,ohc,4,140,mpfi,3.78,3.12,8,175,5000,19,24,16503\n",
      "mitsubishi,gas,std,two,hatchback,fwd,front,93.7,157.3,64.4,50.8,1918,ohc,4,92,2bbl,2.97,3.23,9.4,68,5500,37,41,5389\n",
      "mitsubishi,gas,std,two,hatchback,fwd,front,93.7,157.3,64.4,50.8,1944,ohc,4,92,2bbl,2.97,3.23,9.4,68,5500,31,38,6189\n",
      "mitsubishi,gas,std,two,hatchback,fwd,front,93.7,157.3,64.4,50.8,2004,ohc,4,92,2bbl,2.97,3.23,9.4,68,5500,31,38,6669\n",
      "mitsubishi,gas,turbo,two,hatchback,fwd,front,93,157.3,63.8,50.8,2145,ohc,4,98,spdi,3.03,3.39,7.6,102,5500,24,30,7689\n",
      "mitsubishi,gas,turbo,two,hatchback,fwd,front,96.3,173,65.4,49.4,2370,ohc,4,110,spdi,3.17,3.46,7.5,116,5500,23,30,9959\n",
      "mitsubishi,gas,std,two,hatchback,fwd,front,96.3,173,65.4,49.4,2328,ohc,4,122,2bbl,3.35,3.46,8.5,88,5000,25,32,8499\n",
      "mitsubishi,gas,turbo,two,hatchback,fwd,front,95.9,173.2,66.3,50.2,2833,ohc,4,156,spdi,3.58,3.86,7,145,5000,19,24,12629\n",
      "mitsubishi,gas,turbo,two,hatchback,fwd,front,95.9,173.2,66.3,50.2,2921,ohc,4,156,spdi,3.59,3.86,7,145,5000,19,24,14869\n",
      "mitsubishi,gas,turbo,two,hatchback,fwd,front,95.9,173.2,66.3,50.2,2926,ohc,4,156,spdi,3.59,3.86,7,145,5000,19,24,14489\n",
      "mitsubishi,gas,std,four,sedan,fwd,front,96.3,172.4,65.4,51.6,2365,ohc,4,122,2bbl,3.35,3.46,8.5,88,5000,25,32,6989\n",
      "mitsubishi,gas,std,four,sedan,fwd,front,96.3,172.4,65.4,51.6,2405,ohc,4,122,2bbl,3.35,3.46,8.5,88,5000,25,32,8189\n",
      "mitsubishi,gas,turbo,four,sedan,fwd,front,96.3,172.4,65.4,51.6,2403,ohc,4,110,spdi,3.17,3.46,7.5,116,5500,23,30,9279\n",
      "mitsubishi,gas,std,four,sedan,fwd,front,96.3,172.4,65.4,51.6,2403,ohc,4,110,spdi,3.17,3.46,7.5,116,5500,23,30,9279\n",
      "nissan,gas,std,two,sedan,fwd,front,94.5,165.3,63.8,54.5,1889,ohc,4,97,2bbl,3.15,3.29,9.4,69,5200,31,37,5499\n",
      "nissan,diesel,std,two,sedan,fwd,front,94.5,165.3,63.8,54.5,2017,ohc,4,103,idi,2.99,3.47,21.9,55,4800,45,50,7099\n",
      "nissan,gas,std,two,sedan,fwd,front,94.5,165.3,63.8,54.5,1918,ohc,4,97,2bbl,3.15,3.29,9.4,69,5200,31,37,6649\n",
      "nissan,gas,std,four,sedan,fwd,front,94.5,165.3,63.8,54.5,1938,ohc,4,97,2bbl,3.15,3.29,9.4,69,5200,31,37,6849\n",
      "nissan,gas,std,four,wagon,fwd,front,94.5,170.2,63.8,53.5,2024,ohc,4,97,2bbl,3.15,3.29,9.4,69,5200,31,37,7349\n",
      "nissan,gas,std,two,sedan,fwd,front,94.5,165.3,63.8,54.5,1951,ohc,4,97,2bbl,3.15,3.29,9.4,69,5200,31,37,7299\n",
      "nissan,gas,std,two,hatchback,fwd,front,94.5,165.6,63.8,53.3,2028,ohc,4,97,2bbl,3.15,3.29,9.4,69,5200,31,37,7799\n",
      "nissan,gas,std,four,sedan,fwd,front,94.5,165.3,63.8,54.5,1971,ohc,4,97,2bbl,3.15,3.29,9.4,69,5200,31,37,7499\n",
      "nissan,gas,std,four,wagon,fwd,front,94.5,170.2,63.8,53.5,2037,ohc,4,97,2bbl,3.15,3.29,9.4,69,5200,31,37,7999\n",
      "nissan,gas,std,two,hardtop,fwd,front,95.1,162.4,63.8,53.3,2008,ohc,4,97,2bbl,3.15,3.29,9.4,69,5200,31,37,8249\n",
      "nissan,gas,std,four,hatchback,fwd,front,97.2,173.4,65.2,54.7,2324,ohc,4,120,2bbl,3.33,3.47,8.5,97,5200,27,34,8949\n",
      "nissan,gas,std,four,sedan,fwd,front,97.2,173.4,65.2,54.7,2302,ohc,4,120,2bbl,3.33,3.47,8.5,97,5200,27,34,9549\n",
      "nissan,gas,std,four,sedan,fwd,front,100.4,181.7,66.5,55.1,3095,ohcv,6,181,mpfi,3.43,3.27,9,152,5200,17,22,13499\n",
      "nissan,gas,std,four,wagon,fwd,front,100.4,184.6,66.5,56.1,3296,ohcv,6,181,mpfi,3.43,3.27,9,152,5200,17,22,14399\n",
      "nissan,gas,std,four,sedan,fwd,front,100.4,184.6,66.5,55.1,3060,ohcv,6,181,mpfi,3.43,3.27,9,152,5200,19,25,13499\n",
      "nissan,gas,std,two,hatchback,rwd,front,91.3,170.7,67.9,49.7,3071,ohcv,6,181,mpfi,3.43,3.27,9,160,5200,19,25,17199\n",
      "nissan,gas,turbo,two,hatchback,rwd,front,91.3,170.7,67.9,49.7,3139,ohcv,6,181,mpfi,3.43,3.27,7.8,200,5200,17,23,19699\n",
      "nissan,gas,std,two,hatchback,rwd,front,99.2,178.5,67.9,49.7,3139,ohcv,6,181,mpfi,3.43,3.27,9,160,5200,19,25,18399\n",
      "peugot,gas,std,four,sedan,rwd,front,107.9,186.7,68.4,56.7,3020,l,4,120,mpfi,3.46,3.19,8.4,97,5000,19,24,11900\n",
      "peugot,diesel,turbo,four,sedan,rwd,front,107.9,186.7,68.4,56.7,3197,l,4,152,idi,3.7,3.52,21,95,4150,28,33,13200\n",
      "peugot,gas,std,four,wagon,rwd,front,114.2,198.9,68.4,58.7,3230,l,4,120,mpfi,3.46,3.19,8.4,97,5000,19,24,12440\n",
      "peugot,diesel,turbo,four,wagon,rwd,front,114.2,198.9,68.4,58.7,3430,l,4,152,idi,3.7,3.52,21,95,4150,25,25,13860\n",
      "peugot,gas,std,four,sedan,rwd,front,107.9,186.7,68.4,56.7,3075,l,4,120,mpfi,3.46,2.19,8.4,95,5000,19,24,15580\n",
      "peugot,diesel,turbo,four,sedan,rwd,front,107.9,186.7,68.4,56.7,3252,l,4,152,idi,3.7,3.52,21,95,4150,28,33,16900\n",
      "peugot,gas,std,four,wagon,rwd,front,114.2,198.9,68.4,56.7,3285,l,4,120,mpfi,3.46,2.19,8.4,95,5000,19,24,16695\n",
      "peugot,diesel,turbo,four,wagon,rwd,front,114.2,198.9,68.4,58.7,3485,l,4,152,idi,3.7,3.52,21,95,4150,25,25,17075\n",
      "peugot,gas,std,four,sedan,rwd,front,107.9,186.7,68.4,56.7,3075,l,4,120,mpfi,3.46,3.19,8.4,97,5000,19,24,16630\n",
      "peugot,diesel,turbo,four,sedan,rwd,front,107.9,186.7,68.4,56.7,3252,l,4,152,idi,3.7,3.52,21,95,4150,28,33,17950\n",
      "peugot,gas,turbo,four,sedan,rwd,front,108,186.7,68.3,56,3130,l,4,134,mpfi,3.61,3.21,7,142,5600,18,24,18150\n",
      "plymouth,gas,std,two,hatchback,fwd,front,93.7,157.3,63.8,50.8,1918,ohc,4,90,2bbl,2.97,3.23,9.4,68,5500,37,41,5572\n",
      "plymouth,gas,turbo,two,hatchback,fwd,front,93.7,157.3,63.8,50.8,2128,ohc,4,98,spdi,3.03,3.39,7.6,102,5500,24,30,7957\n",
      "plymouth,gas,std,four,hatchback,fwd,front,93.7,157.3,63.8,50.6,1967,ohc,4,90,2bbl,2.97,3.23,9.4,68,5500,31,38,6229\n",
      "plymouth,gas,std,four,sedan,fwd,front,93.7,167.3,63.8,50.8,1989,ohc,4,90,2bbl,2.97,3.23,9.4,68,5500,31,38,6692\n",
      "plymouth,gas,std,four,sedan,fwd,front,93.7,167.3,63.8,50.8,2191,ohc,4,98,2bbl,2.97,3.23,9.4,68,5500,31,38,7609\n",
      "plymouth,gas,std,four,wagon,fwd,front,103.3,174.6,64.6,59.8,2535,ohc,4,122,2bbl,3.35,3.46,8.5,88,5000,24,30,8921\n",
      "plymouth,gas,turbo,two,hatchback,rwd,front,95.9,173.2,66.3,50.2,2818,ohc,4,156,spdi,3.59,3.86,7,145,5000,19,24,12764\n",
      "porsche,gas,std,two,hatchback,rwd,front,94.5,168.9,68.3,50.2,2778,ohc,4,151,mpfi,3.94,3.11,9.5,143,5500,19,27,22018\n",
      "porsche,gas,std,two,hardtop,rwd,rear,89.5,168.9,65,51.6,2756,ohcf,6,194,mpfi,3.74,2.9,9.5,207,5900,17,25,32528\n",
      "porsche,gas,std,two,hardtop,rwd,rear,89.5,168.9,65,51.6,2756,ohcf,6,194,mpfi,3.74,2.9,9.5,207,5900,17,25,34028\n",
      "porsche,gas,std,two,convertible,rwd,rear,89.5,168.9,65,51.6,2800,ohcf,6,194,mpfi,3.74,2.9,9.5,207,5900,17,25,37028\n",
      "saab,gas,std,two,hatchback,fwd,front,99.1,186.6,66.5,56.1,2658,ohc,4,121,mpfi,3.54,3.07,9.31,110,5250,21,28,11850\n",
      "saab,gas,std,four,sedan,fwd,front,99.1,186.6,66.5,56.1,2695,ohc,4,121,mpfi,3.54,3.07,9.3,110,5250,21,28,12170\n",
      "saab,gas,std,two,hatchback,fwd,front,99.1,186.6,66.5,56.1,2707,ohc,4,121,mpfi,2.54,2.07,9.3,110,5250,21,28,15040\n",
      "saab,gas,std,four,sedan,fwd,front,99.1,186.6,66.5,56.1,2758,ohc,4,121,mpfi,3.54,3.07,9.3,110,5250,21,28,15510\n",
      "saab,gas,turbo,two,hatchback,fwd,front,99.1,186.6,66.5,56.1,2808,dohc,4,121,mpfi,3.54,3.07,9,160,5500,19,26,18150\n",
      "saab,gas,turbo,four,sedan,fwd,front,99.1,186.6,66.5,56.1,2847,dohc,4,121,mpfi,3.54,3.07,9,160,5500,19,26,18620\n",
      "subaru,gas,std,two,hatchback,fwd,front,93.7,156.9,63.4,53.7,2050,ohcf,4,97,2bbl,3.62,2.36,9,69,4900,31,36,5118\n",
      "subaru,gas,std,two,hatchback,fwd,front,93.7,157.9,63.6,53.7,2120,ohcf,4,108,2bbl,3.62,2.64,8.7,73,4400,26,31,7053\n",
      "subaru,gas,std,two,hatchback,4wd,front,93.3,157.3,63.8,55.7,2240,ohcf,4,108,2bbl,3.62,2.64,8.7,73,4400,26,31,7603\n",
      "subaru,gas,std,four,sedan,fwd,front,97.2,172,65.4,52.5,2145,ohcf,4,108,2bbl,3.62,2.64,9.5,82,4800,32,37,7126\n",
      "subaru,gas,std,four,sedan,fwd,front,97.2,172,65.4,52.5,2190,ohcf,4,108,2bbl,3.62,2.64,9.5,82,4400,28,33,7775\n",
      "subaru,gas,std,four,sedan,fwd,front,97.2,172,65.4,52.5,2340,ohcf,4,108,mpfi,3.62,2.64,9,94,5200,26,32,9960\n",
      "subaru,gas,std,four,sedan,4wd,front,97,172,65.4,54.3,2385,ohcf,4,108,2bbl,3.62,2.64,9,82,4800,24,25,9233\n",
      "subaru,gas,turbo,four,sedan,4wd,front,97,172,65.4,54.3,2510,ohcf,4,108,mpfi,3.62,2.64,7.7,111,4800,24,29,11259\n",
      "subaru,gas,std,four,wagon,fwd,front,97,173.5,65.4,53,2290,ohcf,4,108,2bbl,3.62,2.64,9,82,4800,28,32,7463\n",
      "subaru,gas,std,four,wagon,fwd,front,97,173.5,65.4,53,2455,ohcf,4,108,mpfi,3.62,2.64,9,94,5200,25,31,10198\n",
      "subaru,gas,std,four,wagon,4wd,front,96.9,173.6,65.4,54.9,2420,ohcf,4,108,2bbl,3.62,2.64,9,82,4800,23,29,8013\n",
      "subaru,gas,turbo,four,wagon,4wd,front,96.9,173.6,65.4,54.9,2650,ohcf,4,108,mpfi,3.62,2.64,7.7,111,4800,23,23,11694\n",
      "toyota,gas,std,two,hatchback,fwd,front,95.7,158.7,63.6,54.5,1985,ohc,4,92,2bbl,3.05,3.03,9,62,4800,35,39,5348\n",
      "toyota,gas,std,two,hatchback,fwd,front,95.7,158.7,63.6,54.5,2040,ohc,4,92,2bbl,3.05,3.03,9,62,4800,31,38,6338\n",
      "toyota,gas,std,four,hatchback,fwd,front,95.7,158.7,63.6,54.5,2015,ohc,4,92,2bbl,3.05,3.03,9,62,4800,31,38,6488\n",
      "toyota,gas,std,four,wagon,fwd,front,95.7,169.7,63.6,59.1,2280,ohc,4,92,2bbl,3.05,3.03,9,62,4800,31,37,6918\n",
      "toyota,gas,std,four,wagon,4wd,front,95.7,169.7,63.6,59.1,2290,ohc,4,92,2bbl,3.05,3.03,9,62,4800,27,32,7898\n",
      "toyota,gas,std,four,wagon,4wd,front,95.7,169.7,63.6,59.1,3110,ohc,4,92,2bbl,3.05,3.03,9,62,4800,27,32,8778\n",
      "toyota,gas,std,four,sedan,fwd,front,95.7,166.3,64.4,53,2081,ohc,4,98,2bbl,3.19,3.03,9,70,4800,30,37,6938\n",
      "toyota,gas,std,four,hatchback,fwd,front,95.7,166.3,64.4,52.8,2109,ohc,4,98,2bbl,3.19,3.03,9,70,4800,30,37,7198\n",
      "toyota,diesel,std,four,sedan,fwd,front,95.7,166.3,64.4,53,2275,ohc,4,110,idi,3.27,3.35,22.5,56,4500,34,36,7898\n",
      "toyota,diesel,std,four,hatchback,fwd,front,95.7,166.3,64.4,52.8,2275,ohc,4,110,idi,3.27,3.35,22.5,56,4500,38,47,7788\n",
      "toyota,gas,std,four,sedan,fwd,front,95.7,166.3,64.4,53,2094,ohc,4,98,2bbl,3.19,3.03,9,70,4800,38,47,7738\n",
      "toyota,gas,std,four,hatchback,fwd,front,95.7,166.3,64.4,52.8,2122,ohc,4,98,2bbl,3.19,3.03,9,70,4800,28,34,8358\n",
      "toyota,gas,std,four,sedan,fwd,front,95.7,166.3,64.4,52.8,2140,ohc,4,98,2bbl,3.19,3.03,9,70,4800,28,34,9258\n",
      "toyota,gas,std,two,sedan,rwd,front,94.5,168.7,64,52.6,2169,ohc,4,98,2bbl,3.19,3.03,9,70,4800,29,34,8058\n",
      "toyota,gas,std,two,hatchback,rwd,front,94.5,168.7,64,52.6,2204,ohc,4,98,2bbl,3.19,3.03,9,70,4800,29,34,8238\n",
      "toyota,gas,std,two,sedan,rwd,front,94.5,168.7,64,52.6,2265,dohc,4,98,mpfi,3.24,3.08,9.4,112,6600,26,29,9298\n",
      "toyota,gas,std,two,hatchback,rwd,front,94.5,168.7,64,52.6,2300,dohc,4,98,mpfi,3.24,3.08,9.4,112,6600,26,29,9538\n",
      "toyota,gas,std,two,hardtop,rwd,front,98.4,176.2,65.6,52,2540,ohc,4,146,mpfi,3.62,3.5,9.3,116,4800,24,30,8449\n",
      "toyota,gas,std,two,hardtop,rwd,front,98.4,176.2,65.6,52,2536,ohc,4,146,mpfi,3.62,3.5,9.3,116,4800,24,30,9639\n",
      "toyota,gas,std,two,hatchback,rwd,front,98.4,176.2,65.6,52,2551,ohc,4,146,mpfi,3.62,3.5,9.3,116,4800,24,30,9989\n",
      "toyota,gas,std,two,hardtop,rwd,front,98.4,176.2,65.6,52,2679,ohc,4,146,mpfi,3.62,3.5,9.3,116,4800,24,30,11199\n",
      "toyota,gas,std,two,hatchback,rwd,front,98.4,176.2,65.6,52,2714,ohc,4,146,mpfi,3.62,3.5,9.3,116,4800,24,30,11549\n",
      "toyota,gas,std,two,convertible,rwd,front,98.4,176.2,65.6,53,2975,ohc,4,146,mpfi,3.62,3.5,9.3,116,4800,24,30,17669\n",
      "toyota,gas,std,four,sedan,fwd,front,102.4,175.6,66.5,54.9,2326,ohc,4,122,mpfi,3.31,3.54,8.7,92,4200,29,34,8948\n",
      "toyota,diesel,turbo,four,sedan,fwd,front,102.4,175.6,66.5,54.9,2480,ohc,4,110,idi,3.27,3.35,22.5,73,4500,30,33,10698\n",
      "toyota,gas,std,four,hatchback,fwd,front,102.4,175.6,66.5,53.9,2414,ohc,4,122,mpfi,3.31,3.54,8.7,92,4200,27,32,9988\n",
      "toyota,gas,std,four,sedan,fwd,front,102.4,175.6,66.5,54.9,2414,ohc,4,122,mpfi,3.31,3.54,8.7,92,4200,27,32,10898\n",
      "toyota,gas,std,four,hatchback,fwd,front,102.4,175.6,66.5,53.9,2458,ohc,4,122,mpfi,3.31,3.54,8.7,92,4200,27,32,11248\n",
      "toyota,gas,std,two,hatchback,rwd,front,102.9,183.5,67.7,52,2976,dohc,6,171,mpfi,3.27,3.35,9.3,161,5200,20,24,16558\n",
      "toyota,gas,std,two,hatchback,rwd,front,102.9,183.5,67.7,52,3016,dohc,6,171,mpfi,3.27,3.35,9.3,161,5200,19,24,15998\n",
      "toyota,gas,std,four,sedan,rwd,front,104.5,187.8,66.5,54.1,3131,dohc,6,171,mpfi,3.27,3.35,9.2,156,5200,20,24,15690\n",
      "toyota,gas,std,four,wagon,rwd,front,104.5,187.8,66.5,54.1,3151,dohc,6,161,mpfi,3.27,3.35,9.2,156,5200,19,24,15750\n",
      "volkswagen,diesel,std,two,sedan,fwd,front,97.3,171.7,65.5,55.7,2261,ohc,4,97,idi,3.01,3.4,23,52,4800,37,46,7775\n",
      "volkswagen,gas,std,two,sedan,fwd,front,97.3,171.7,65.5,55.7,2209,ohc,4,109,mpfi,3.19,3.4,9,85,5250,27,34,7975\n",
      "volkswagen,diesel,std,four,sedan,fwd,front,97.3,171.7,65.5,55.7,2264,ohc,4,97,idi,3.01,3.4,23,52,4800,37,46,7995\n",
      "volkswagen,gas,std,four,sedan,fwd,front,97.3,171.7,65.5,55.7,2212,ohc,4,109,mpfi,3.19,3.4,9,85,5250,27,34,8195\n",
      "volkswagen,gas,std,four,sedan,fwd,front,97.3,171.7,65.5,55.7,2275,ohc,4,109,mpfi,3.19,3.4,9,85,5250,27,34,8495\n",
      "volkswagen,diesel,turbo,four,sedan,fwd,front,97.3,171.7,65.5,55.7,2319,ohc,4,97,idi,3.01,3.4,23,68,4500,37,42,9495\n",
      "volkswagen,gas,std,four,sedan,fwd,front,97.3,171.7,65.5,55.7,2300,ohc,4,109,mpfi,3.19,3.4,10,100,5500,26,32,9995\n",
      "volkswagen,gas,std,two,convertible,fwd,front,94.5,159.3,64.2,55.6,2254,ohc,4,109,mpfi,3.19,3.4,8.5,90,5500,24,29,11595\n",
      "volkswagen,gas,std,two,hatchback,fwd,front,94.5,165.7,64,51.4,2221,ohc,4,109,mpfi,3.19,3.4,8.5,90,5500,24,29,9980\n",
      "volkswagen,gas,std,four,sedan,fwd,front,100.4,180.2,66.9,55.1,2661,ohc,5,136,mpfi,3.19,3.4,8.5,110,5500,19,24,13295\n",
      "volkswagen,diesel,turbo,four,sedan,fwd,front,100.4,180.2,66.9,55.1,2579,ohc,4,97,idi,3.01,3.4,23,68,4500,33,38,13845\n",
      "volkswagen,gas,std,four,wagon,fwd,front,100.4,183.1,66.9,55.1,2563,ohc,4,109,mpfi,3.19,3.4,9,88,5500,25,31,12290\n",
      "volvo,gas,std,four,sedan,rwd,front,104.3,188.8,67.2,56.2,2912,ohc,4,141,mpfi,3.78,3.15,9.5,114,5400,23,28,12940\n",
      "volvo,gas,std,four,wagon,rwd,front,104.3,188.8,67.2,57.5,3034,ohc,4,141,mpfi,3.78,3.15,9.5,114,5400,23,28,13415\n",
      "volvo,gas,std,four,sedan,rwd,front,104.3,188.8,67.2,56.2,2935,ohc,4,141,mpfi,3.78,3.15,9.5,114,5400,24,28,15985\n",
      "volvo,gas,std,four,wagon,rwd,front,104.3,188.8,67.2,57.5,3042,ohc,4,141,mpfi,3.78,3.15,9.5,114,5400,24,28,16515\n",
      "volvo,gas,turbo,four,sedan,rwd,front,104.3,188.8,67.2,56.2,3045,ohc,4,130,mpfi,3.62,3.15,7.5,162,5100,17,22,18420\n",
      "volvo,gas,turbo,four,wagon,rwd,front,104.3,188.8,67.2,57.5,3157,ohc,4,130,mpfi,3.62,3.15,7.5,162,5100,17,22,18950\n",
      "volvo,gas,std,four,sedan,rwd,front,109.1,188.8,68.9,55.5,2952,ohc,4,141,mpfi,3.78,3.15,9.5,114,5400,23,28,16845\n",
      "volvo,gas,turbo,four,sedan,rwd,front,109.1,188.8,68.8,55.5,3049,ohc,4,141,mpfi,3.78,3.15,8.7,160,5300,19,25,19045\n",
      "volvo,gas,std,four,sedan,rwd,front,109.1,188.8,68.9,55.5,3012,ohcv,6,173,mpfi,3.58,2.87,8.8,134,5500,18,23,21485\n",
      "volvo,diesel,turbo,four,sedan,rwd,front,109.1,188.8,68.9,55.5,3217,ohc,6,145,idi,3.01,3.4,23,106,4800,26,27,22470\n",
      "volvo,gas,turbo,four,sedan,rwd,front,109.1,188.8,68.9,55.5,3062,ohc,4,141,mpfi,3.78,3.15,9.5,114,5400,19,25,22625\n"
     ]
    }
   ],
   "source": [
    "with open(filedir, mode='r') as reader:\n",
    "    content = reader.read()\n",
    "    print(content)"
   ]
  },
  {
   "cell_type": "code",
   "execution_count": 43,
   "id": "c6be9f5f",
   "metadata": {},
   "outputs": [
    {
     "name": "stdout",
     "output_type": "stream",
     "text": [
      "b'make,fuel_type,aspiration,num_of_doors,body_style,drive_wheels,engine_location,wheel_base,length,width,height,curb_weight,engine_type,num_of_cylinders,engine_size,fuel_system,bore,stroke,compression_ratio,horsepower,peak_rpm,city_mpg,highway_mpg,price\\r\\nalfa-romero,gas,std,two,convertible,rwd,front,88.6,168.8,64.1,48.8,2548,dohc,4,130,mpfi,3.47,2.68,9,111,5000,21,27,13495\\r\\nalfa-romero,gas,std,two,convertible,rwd,front,88.6,168.8,64.1,48.8,2548,dohc,4,130,mpfi,3.47,2.68,9,111,5000,21,27,16500\\r\\nalfa-romero,gas,std,two,hatchback,rwd,front,94.5,171.2,65.5,52.4,2823,ohcv,6,152,mpfi,2.68,3.47,9,154,5000,19,26,16500\\r\\naudi,gas,std,four,sedan,fwd,front,99.8,176.6,66.2,54.3,2337,ohc,4,109,mpfi,3.19,3.4,10,102,5500,24,30,13950\\r\\naudi,gas,std,four,sedan,4wd,front,99.4,176.6,66.4,54.3,2824,ohc,5,136,mpfi,3.19,3.4,8,115,5500,18,22,17450\\r\\naudi,gas,std,two,sedan,fwd,front,99.8,177.3,66.3,53.1,2507,ohc,5,136,mpfi,3.19,3.4,8.5,110,5500,19,25,15250\\r\\naudi,gas,std,four,sedan,fwd,front,105.8,192.7,71.4,55.7,2844,ohc,5,136,mpfi,3.19,3.4,8.5,110,5500,19,25,17710\\r\\naudi,gas,std,four,wagon,fwd,front,105.8,192.7,71.4,55.7,2954,ohc,5,136,mpfi,3.19,3.4,8.5,110,5500,19,25,18920\\r\\naudi,gas,turbo,four,sedan,fwd,front,105.8,192.7,71.4,55.9,3086,ohc,5,131,mpfi,3.13,3.4,8.3,140,5500,17,20,23875\\r\\nbmw,gas,std,two,sedan,rwd,front,101.2,176.8,64.8,54.3,2395,ohc,4,108,mpfi,3.5,2.8,8.8,101,5800,23,29,16430\\r\\nbmw,gas,std,four,sedan,rwd,front,101.2,176.8,64.8,54.3,2395,ohc,4,108,mpfi,3.5,2.8,8.8,101,5800,23,29,16925\\r\\nbmw,gas,std,two,sedan,rwd,front,101.2,176.8,64.8,54.3,2710,ohc,6,164,mpfi,3.31,3.19,9,121,4250,21,28,20970\\r\\nbmw,gas,std,four,sedan,rwd,front,101.2,176.8,64.8,54.3,2765,ohc,6,164,mpfi,3.31,3.19,9,121,4250,21,28,21105\\r\\nbmw,gas,std,four,sedan,rwd,front,103.5,189,66.9,55.7,3055,ohc,6,164,mpfi,3.31,3.19,9,121,4250,20,25,24565\\r\\nbmw,gas,std,four,sedan,rwd,front,103.5,189,66.9,55.7,3230,ohc,6,209,mpfi,3.62,3.39,8,182,5400,16,22,30760\\r\\nbmw,gas,std,two,sedan,rwd,front,103.5,193.8,67.9,53.7,3380,ohc,6,209,mpfi,3.62,3.39,8,182,5400,16,22,41315\\r\\nbmw,gas,std,four,sedan,rwd,front,110,197,70.9,56.3,3505,ohc,6,209,mpfi,3.62,3.39,8,182,5400,15,20,36880\\r\\nchevrolet,gas,std,two,hatchback,fwd,front,88.4,141.1,60.3,53.2,1488,l,3,61,2bbl,2.91,3.03,9.5,48,5100,47,53,5151\\r\\nchevrolet,gas,std,two,hatchback,fwd,front,94.5,155.9,63.6,52,1874,ohc,4,90,2bbl,3.03,3.11,9.6,70,5400,38,43,6295\\r\\nchevrolet,gas,std,four,sedan,fwd,front,94.5,158.8,63.6,52,1909,ohc,4,90,2bbl,3.03,3.11,9.6,70,5400,38,43,6575\\r\\ndodge,gas,std,two,hatchback,fwd,front,93.7,157.3,63.8,50.8,1876,ohc,4,90,2bbl,2.97,3.23,9.41,68,5500,37,41,5572\\r\\ndodge,gas,std,two,hatchback,fwd,front,93.7,157.3,63.8,50.8,1876,ohc,4,90,2bbl,2.97,3.23,9.4,68,5500,31,38,6377\\r\\ndodge,gas,turbo,two,hatchback,fwd,front,93.7,157.3,63.8,50.8,2128,ohc,4,98,mpfi,3.03,3.39,7.6,102,5500,24,30,7957\\r\\ndodge,gas,std,four,hatchback,fwd,front,93.7,157.3,63.8,50.6,1967,ohc,4,90,2bbl,2.97,3.23,9.4,68,5500,31,38,6229\\r\\ndodge,gas,std,four,sedan,fwd,front,93.7,157.3,63.8,50.6,1989,ohc,4,90,2bbl,2.97,3.23,9.4,68,5500,31,38,6692\\r\\ndodge,gas,std,four,sedan,fwd,front,93.7,157.3,63.8,50.6,1989,ohc,4,90,2bbl,2.97,3.23,9.4,68,5500,31,38,7609\\r\\ndodge,gas,std,four,wagon,fwd,front,103.3,174.6,64.6,59.8,2535,ohc,4,122,2bbl,3.34,3.46,8.5,88,5000,24,30,8921\\r\\ndodge,gas,turbo,two,hatchback,fwd,front,95.9,173.2,66.3,50.2,2811,ohc,4,156,mfi,3.6,3.9,7,145,5000,19,24,12964\\r\\nhonda,gas,std,two,hatchback,fwd,front,86.6,144.6,63.9,50.8,1713,ohc,4,92,1bbl,2.91,3.41,9.6,58,4800,49,54,6479\\r\\nhonda,gas,std,two,hatchback,fwd,front,86.6,144.6,63.9,50.8,1819,ohc,4,92,1bbl,2.91,3.41,9.2,76,6000,31,38,6855\\r\\nhonda,gas,std,two,hatchback,fwd,front,93.7,150,64,52.6,1837,ohc,4,79,1bbl,2.91,3.07,10.1,60,5500,38,42,5399\\r\\nhonda,gas,std,two,hatchback,fwd,front,93.7,150,64,52.6,1940,ohc,4,92,1bbl,2.91,3.41,9.2,76,6000,30,34,6529\\r\\nhonda,gas,std,two,hatchback,fwd,front,93.7,150,64,52.6,1956,ohc,4,92,1bbl,2.91,3.41,9.2,76,6000,30,34,7129\\r\\nhonda,gas,std,four,sedan,fwd,front,96.5,163.4,64,54.5,2010,ohc,4,92,1bbl,2.91,3.41,9.2,76,6000,30,34,7295\\r\\nhonda,gas,std,four,wagon,fwd,front,96.5,157.1,63.9,58.3,2024,ohc,4,92,1bbl,2.92,3.41,9.2,76,6000,30,34,7295\\r\\nhonda,gas,std,two,hatchback,fwd,front,96.5,167.5,65.2,53.3,2236,ohc,4,110,1bbl,3.15,3.58,9,86,5800,27,33,7895\\r\\nhonda,gas,std,two,hatchback,fwd,front,96.5,167.5,65.2,53.3,2289,ohc,4,110,1bbl,3.15,3.58,9,86,5800,27,33,9095\\r\\nhonda,gas,std,four,sedan,fwd,front,96.5,175.4,65.2,54.1,2304,ohc,4,110,1bbl,3.15,3.58,9,86,5800,27,33,8845\\r\\nhonda,gas,std,four,sedan,fwd,front,96.5,175.4,62.5,54.1,2372,ohc,4,110,1bbl,3.15,3.58,9,86,5800,27,33,10295\\r\\nhonda,gas,std,four,sedan,fwd,front,96.5,175.4,65.2,54.1,2465,ohc,4,110,mpfi,3.15,3.58,9,101,5800,24,28,12945\\r\\nhonda,gas,std,two,sedan,fwd,front,96.5,169.1,66,51,2293,ohc,4,110,2bbl,3.15,3.58,9.1,100,5500,25,31,10345\\r\\nisuzu,gas,std,four,sedan,rwd,front,94.3,170.7,61.8,53.5,2337,ohc,4,111,2bbl,3.31,3.23,8.5,78,4800,24,29,6785\\r\\nisuzu,gas,std,two,hatchback,rwd,front,96,172.6,65.2,51.4,2734,ohc,4,119,spfi,3.43,3.23,9.2,90,5000,24,29,11048\\r\\njaguar,gas,std,four,sedan,rwd,front,113,199.6,69.6,52.8,4066,dohc,6,258,mpfi,3.63,4.17,8.1,176,4750,15,19,32250\\r\\njaguar,gas,std,four,sedan,rwd,front,113,199.6,69.6,52.8,4066,dohc,6,258,mpfi,3.63,4.17,8.1,176,4750,15,19,35550\\r\\njaguar,gas,std,two,sedan,rwd,front,102,191.7,70.6,47.8,3950,ohcv,12,326,mpfi,3.54,2.76,11.5,262,5000,13,17,36000\\r\\nmazda,gas,std,two,hatchback,fwd,front,93.1,159.1,64.2,54.1,1890,ohc,4,91,2bbl,3.03,3.15,9,68,5000,30,31,5195\\r\\nmazda,gas,std,two,hatchback,fwd,front,93.1,159.1,64.2,54.1,1900,ohc,4,91,2bbl,3.03,3.15,9,68,5000,31,38,6095\\r\\nmazda,gas,std,two,hatchback,fwd,front,93.1,159.1,64.2,54.1,1905,ohc,4,91,2bbl,3.03,3.15,9,68,5000,31,38,6795\\r\\nmazda,gas,std,four,sedan,fwd,front,93.1,166.8,64.2,54.1,1945,ohc,4,91,2bbl,3.03,3.15,9,68,5000,31,38,6695\\r\\nmazda,gas,std,four,sedan,fwd,front,93.1,166.8,64.2,54.1,1950,ohc,4,91,2bbl,3.08,3.15,9,68,5000,31,38,7395\\r\\nmazda,gas,std,two,hatchback,fwd,front,98.8,177.8,66.5,53.7,2385,ohc,4,122,2bbl,3.39,3.39,8.6,84,4800,26,32,8845\\r\\nmazda,gas,std,four,sedan,fwd,front,98.8,177.8,66.5,55.5,2410,ohc,4,122,2bbl,3.39,3.39,8.6,84,4800,26,32,8495\\r\\nmazda,gas,std,two,hatchback,fwd,front,98.8,177.8,66.5,53.7,2385,ohc,4,122,2bbl,3.39,3.39,8.6,84,4800,26,32,10595\\r\\nmazda,gas,std,four,sedan,fwd,front,98.8,177.8,66.5,55.5,2410,ohc,4,122,2bbl,3.39,3.39,8.6,84,4800,26,32,10245\\r\\nmazda,gas,std,four,hatchback,fwd,front,98.8,177.8,66.5,55.5,2425,ohc,4,122,2bbl,3.39,3.39,8.6,84,4800,26,32,11245\\r\\nmazda,gas,std,four,sedan,rwd,front,104.9,175,66.1,54.4,2670,ohc,4,140,mpfi,3.76,3.16,8,120,5000,19,27,18280\\r\\nmazda,diesel,std,four,sedan,rwd,front,104.9,175,66.1,54.4,2700,ohc,4,134,idi,3.43,3.64,22,72,4200,31,39,18344\\r\\nmercedes-benz,diesel,turbo,four,sedan,rwd,front,110,190.9,70.3,56.5,3515,ohc,5,183,idi,3.58,3.64,21.5,123,4350,22,25,25552\\r\\nmercedes-benz,diesel,turbo,four,wagon,rwd,front,110,190.9,70.3,58.7,3750,ohc,5,183,idi,3.58,3.64,21.5,123,4350,22,25,28248\\r\\nmercedes-benz,diesel,turbo,two,hardtop,rwd,front,106.7,187.5,70.3,54.9,3495,ohc,5,183,idi,3.58,3.64,21.5,123,4350,22,25,28176\\r\\nmercedes-benz,diesel,turbo,four,sedan,rwd,front,115.6,202.6,71.7,56.3,3770,ohc,5,183,idi,3.58,3.64,21.5,123,4350,22,25,31600\\r\\nmercedes-benz,gas,std,four,sedan,rwd,front,115.6,202.6,71.7,56.5,3740,ohcv,8,234,mpfi,3.46,3.1,8.3,155,4750,16,18,34184\\r\\nmercedes-benz,gas,std,two,convertible,rwd,front,96.6,180.3,70.5,50.8,3685,ohcv,8,234,mpfi,3.46,3.1,8.3,155,4750,16,18,35056\\r\\nmercedes-benz,gas,std,four,sedan,rwd,front,120.9,208.1,71.7,56.7,3900,ohcv,8,308,mpfi,3.8,3.35,8,184,4500,14,16,40960\\r\\nmercedes-benz,gas,std,two,hardtop,rwd,front,112,199.2,72,55.4,3715,ohcv,8,304,mpfi,3.8,3.35,8,184,4500,14,16,45400\\r\\nmercury,gas,turbo,two,hatchback,rwd,front,102.7,178.4,68,54.8,2910,ohc,4,140,mpfi,3.78,3.12,8,175,5000,19,24,16503\\r\\nmitsubishi,gas,std,two,hatchback,fwd,front,93.7,157.3,64.4,50.8,1918,ohc,4,92,2bbl,2.97,3.23,9.4,68,5500,37,41,5389\\r\\nmitsubishi,gas,std,two,hatchback,fwd,front,93.7,157.3,64.4,50.8,1944,ohc,4,92,2bbl,2.97,3.23,9.4,68,5500,31,38,6189\\r\\nmitsubishi,gas,std,two,hatchback,fwd,front,93.7,157.3,64.4,50.8,2004,ohc,4,92,2bbl,2.97,3.23,9.4,68,5500,31,38,6669\\r\\nmitsubishi,gas,turbo,two,hatchback,fwd,front,93,157.3,63.8,50.8,2145,ohc,4,98,spdi,3.03,3.39,7.6,102,5500,24,30,7689\\r\\nmitsubishi,gas,turbo,two,hatchback,fwd,front,96.3,173,65.4,49.4,2370,ohc,4,110,spdi,3.17,3.46,7.5,116,5500,23,30,9959\\r\\nmitsubishi,gas,std,two,hatchback,fwd,front,96.3,173,65.4,49.4,2328,ohc,4,122,2bbl,3.35,3.46,8.5,88,5000,25,32,8499\\r\\nmitsubishi,gas,turbo,two,hatchback,fwd,front,95.9,173.2,66.3,50.2,2833,ohc,4,156,spdi,3.58,3.86,7,145,5000,19,24,12629\\r\\nmitsubishi,gas,turbo,two,hatchback,fwd,front,95.9,173.2,66.3,50.2,2921,ohc,4,156,spdi,3.59,3.86,7,145,5000,19,24,14869\\r\\nmitsubishi,gas,turbo,two,hatchback,fwd,front,95.9,173.2,66.3,50.2,2926,ohc,4,156,spdi,3.59,3.86,7,145,5000,19,24,14489\\r\\nmitsubishi,gas,std,four,sedan,fwd,front,96.3,172.4,65.4,51.6,2365,ohc,4,122,2bbl,3.35,3.46,8.5,88,5000,25,32,6989\\r\\nmitsubishi,gas,std,four,sedan,fwd,front,96.3,172.4,65.4,51.6,2405,ohc,4,122,2bbl,3.35,3.46,8.5,88,5000,25,32,8189\\r\\nmitsubishi,gas,turbo,four,sedan,fwd,front,96.3,172.4,65.4,51.6,2403,ohc,4,110,spdi,3.17,3.46,7.5,116,5500,23,30,9279\\r\\nmitsubishi,gas,std,four,sedan,fwd,front,96.3,172.4,65.4,51.6,2403,ohc,4,110,spdi,3.17,3.46,7.5,116,5500,23,30,9279\\r\\nnissan,gas,std,two,sedan,fwd,front,94.5,165.3,63.8,54.5,1889,ohc,4,97,2bbl,3.15,3.29,9.4,69,5200,31,37,5499\\r\\nnissan,diesel,std,two,sedan,fwd,front,94.5,165.3,63.8,54.5,2017,ohc,4,103,idi,2.99,3.47,21.9,55,4800,45,50,7099\\r\\nnissan,gas,std,two,sedan,fwd,front,94.5,165.3,63.8,54.5,1918,ohc,4,97,2bbl,3.15,3.29,9.4,69,5200,31,37,6649\\r\\nnissan,gas,std,four,sedan,fwd,front,94.5,165.3,63.8,54.5,1938,ohc,4,97,2bbl,3.15,3.29,9.4,69,5200,31,37,6849\\r\\nnissan,gas,std,four,wagon,fwd,front,94.5,170.2,63.8,53.5,2024,ohc,4,97,2bbl,3.15,3.29,9.4,69,5200,31,37,7349\\r\\nnissan,gas,std,two,sedan,fwd,front,94.5,165.3,63.8,54.5,1951,ohc,4,97,2bbl,3.15,3.29,9.4,69,5200,31,37,7299\\r\\nnissan,gas,std,two,hatchback,fwd,front,94.5,165.6,63.8,53.3,2028,ohc,4,97,2bbl,3.15,3.29,9.4,69,5200,31,37,7799\\r\\nnissan,gas,std,four,sedan,fwd,front,94.5,165.3,63.8,54.5,1971,ohc,4,97,2bbl,3.15,3.29,9.4,69,5200,31,37,7499\\r\\nnissan,gas,std,four,wagon,fwd,front,94.5,170.2,63.8,53.5,2037,ohc,4,97,2bbl,3.15,3.29,9.4,69,5200,31,37,7999\\r\\nnissan,gas,std,two,hardtop,fwd,front,95.1,162.4,63.8,53.3,2008,ohc,4,97,2bbl,3.15,3.29,9.4,69,5200,31,37,8249\\r\\nnissan,gas,std,four,hatchback,fwd,front,97.2,173.4,65.2,54.7,2324,ohc,4,120,2bbl,3.33,3.47,8.5,97,5200,27,34,8949\\r\\nnissan,gas,std,four,sedan,fwd,front,97.2,173.4,65.2,54.7,2302,ohc,4,120,2bbl,3.33,3.47,8.5,97,5200,27,34,9549\\r\\nnissan,gas,std,four,sedan,fwd,front,100.4,181.7,66.5,55.1,3095,ohcv,6,181,mpfi,3.43,3.27,9,152,5200,17,22,13499\\r\\nnissan,gas,std,four,wagon,fwd,front,100.4,184.6,66.5,56.1,3296,ohcv,6,181,mpfi,3.43,3.27,9,152,5200,17,22,14399\\r\\nnissan,gas,std,four,sedan,fwd,front,100.4,184.6,66.5,55.1,3060,ohcv,6,181,mpfi,3.43,3.27,9,152,5200,19,25,13499\\r\\nnissan,gas,std,two,hatchback,rwd,front,91.3,170.7,67.9,49.7,3071,ohcv,6,181,mpfi,3.43,3.27,9,160,5200,19,25,17199\\r\\nnissan,gas,turbo,two,hatchback,rwd,front,91.3,170.7,67.9,49.7,3139,ohcv,6,181,mpfi,3.43,3.27,7.8,200,5200,17,23,19699\\r\\nnissan,gas,std,two,hatchback,rwd,front,99.2,178.5,67.9,49.7,3139,ohcv,6,181,mpfi,3.43,3.27,9,160,5200,19,25,18399\\r\\npeugot,gas,std,four,sedan,rwd,front,107.9,186.7,68.4,56.7,3020,l,4,120,mpfi,3.46,3.19,8.4,97,5000,19,24,11900\\r\\npeugot,diesel,turbo,four,sedan,rwd,front,107.9,186.7,68.4,56.7,3197,l,4,152,idi,3.7,3.52,21,95,4150,28,33,13200\\r\\npeugot,gas,std,four,wagon,rwd,front,114.2,198.9,68.4,58.7,3230,l,4,120,mpfi,3.46,3.19,8.4,97,5000,19,24,12440\\r\\npeugot,diesel,turbo,four,wagon,rwd,front,114.2,198.9,68.4,58.7,3430,l,4,152,idi,3.7,3.52,21,95,4150,25,25,13860\\r\\npeugot,gas,std,four,sedan,rwd,front,107.9,186.7,68.4,56.7,3075,l,4,120,mpfi,3.46,2.19,8.4,95,5000,19,24,15580\\r\\npeugot,diesel,turbo,four,sedan,rwd,front,107.9,186.7,68.4,56.7,3252,l,4,152,idi,3.7,3.52,21,95,4150,28,33,16900\\r\\npeugot,gas,std,four,wagon,rwd,front,114.2,198.9,68.4,56.7,3285,l,4,120,mpfi,3.46,2.19,8.4,95,5000,19,24,16695\\r\\npeugot,diesel,turbo,four,wagon,rwd,front,114.2,198.9,68.4,58.7,3485,l,4,152,idi,3.7,3.52,21,95,4150,25,25,17075\\r\\npeugot,gas,std,four,sedan,rwd,front,107.9,186.7,68.4,56.7,3075,l,4,120,mpfi,3.46,3.19,8.4,97,5000,19,24,16630\\r\\npeugot,diesel,turbo,four,sedan,rwd,front,107.9,186.7,68.4,56.7,3252,l,4,152,idi,3.7,3.52,21,95,4150,28,33,17950\\r\\npeugot,gas,turbo,four,sedan,rwd,front,108,186.7,68.3,56,3130,l,4,134,mpfi,3.61,3.21,7,142,5600,18,24,18150\\r\\nplymouth,gas,std,two,hatchback,fwd,front,93.7,157.3,63.8,50.8,1918,ohc,4,90,2bbl,2.97,3.23,9.4,68,5500,37,41,5572\\r\\nplymouth,gas,turbo,two,hatchback,fwd,front,93.7,157.3,63.8,50.8,2128,ohc,4,98,spdi,3.03,3.39,7.6,102,5500,24,30,7957\\r\\nplymouth,gas,std,four,hatchback,fwd,front,93.7,157.3,63.8,50.6,1967,ohc,4,90,2bbl,2.97,3.23,9.4,68,5500,31,38,6229\\r\\nplymouth,gas,std,four,sedan,fwd,front,93.7,167.3,63.8,50.8,1989,ohc,4,90,2bbl,2.97,3.23,9.4,68,5500,31,38,6692\\r\\nplymouth,gas,std,four,sedan,fwd,front,93.7,167.3,63.8,50.8,2191,ohc,4,98,2bbl,2.97,3.23,9.4,68,5500,31,38,7609\\r\\nplymouth,gas,std,four,wagon,fwd,front,103.3,174.6,64.6,59.8,2535,ohc,4,122,2bbl,3.35,3.46,8.5,88,5000,24,30,8921\\r\\nplymouth,gas,turbo,two,hatchback,rwd,front,95.9,173.2,66.3,50.2,2818,ohc,4,156,spdi,3.59,3.86,7,145,5000,19,24,12764\\r\\nporsche,gas,std,two,hatchback,rwd,front,94.5,168.9,68.3,50.2,2778,ohc,4,151,mpfi,3.94,3.11,9.5,143,5500,19,27,22018\\r\\nporsche,gas,std,two,hardtop,rwd,rear,89.5,168.9,65,51.6,2756,ohcf,6,194,mpfi,3.74,2.9,9.5,207,5900,17,25,32528\\r\\nporsche,gas,std,two,hardtop,rwd,rear,89.5,168.9,65,51.6,2756,ohcf,6,194,mpfi,3.74,2.9,9.5,207,5900,17,25,34028\\r\\nporsche,gas,std,two,convertible,rwd,rear,89.5,168.9,65,51.6,2800,ohcf,6,194,mpfi,3.74,2.9,9.5,207,5900,17,25,37028\\r\\nsaab,gas,std,two,hatchback,fwd,front,99.1,186.6,66.5,56.1,2658,ohc,4,121,mpfi,3.54,3.07,9.31,110,5250,21,28,11850\\r\\nsaab,gas,std,four,sedan,fwd,front,99.1,186.6,66.5,56.1,2695,ohc,4,121,mpfi,3.54,3.07,9.3,110,5250,21,28,12170\\r\\nsaab,gas,std,two,hatchback,fwd,front,99.1,186.6,66.5,56.1,2707,ohc,4,121,mpfi,2.54,2.07,9.3,110,5250,21,28,15040\\r\\nsaab,gas,std,four,sedan,fwd,front,99.1,186.6,66.5,56.1,2758,ohc,4,121,mpfi,3.54,3.07,9.3,110,5250,21,28,15510\\r\\nsaab,gas,turbo,two,hatchback,fwd,front,99.1,186.6,66.5,56.1,2808,dohc,4,121,mpfi,3.54,3.07,9,160,5500,19,26,18150\\r\\nsaab,gas,turbo,four,sedan,fwd,front,99.1,186.6,66.5,56.1,2847,dohc,4,121,mpfi,3.54,3.07,9,160,5500,19,26,18620\\r\\nsubaru,gas,std,two,hatchback,fwd,front,93.7,156.9,63.4,53.7,2050,ohcf,4,97,2bbl,3.62,2.36,9,69,4900,31,36,5118\\r\\nsubaru,gas,std,two,hatchback,fwd,front,93.7,157.9,63.6,53.7,2120,ohcf,4,108,2bbl,3.62,2.64,8.7,73,4400,26,31,7053\\r\\nsubaru,gas,std,two,hatchback,4wd,front,93.3,157.3,63.8,55.7,2240,ohcf,4,108,2bbl,3.62,2.64,8.7,73,4400,26,31,7603\\r\\nsubaru,gas,std,four,sedan,fwd,front,97.2,172,65.4,52.5,2145,ohcf,4,108,2bbl,3.62,2.64,9.5,82,4800,32,37,7126\\r\\nsubaru,gas,std,four,sedan,fwd,front,97.2,172,65.4,52.5,2190,ohcf,4,108,2bbl,3.62,2.64,9.5,82,4400,28,33,7775\\r\\nsubaru,gas,std,four,sedan,fwd,front,97.2,172,65.4,52.5,2340,ohcf,4,108,mpfi,3.62,2.64,9,94,5200,26,32,9960\\r\\nsubaru,gas,std,four,sedan,4wd,front,97,172,65.4,54.3,2385,ohcf,4,108,2bbl,3.62,2.64,9,82,4800,24,25,9233\\r\\nsubaru,gas,turbo,four,sedan,4wd,front,97,172,65.4,54.3,2510,ohcf,4,108,mpfi,3.62,2.64,7.7,111,4800,24,29,11259\\r\\nsubaru,gas,std,four,wagon,fwd,front,97,173.5,65.4,53,2290,ohcf,4,108,2bbl,3.62,2.64,9,82,4800,28,32,7463\\r\\nsubaru,gas,std,four,wagon,fwd,front,97,173.5,65.4,53,2455,ohcf,4,108,mpfi,3.62,2.64,9,94,5200,25,31,10198\\r\\nsubaru,gas,std,four,wagon,4wd,front,96.9,173.6,65.4,54.9,2420,ohcf,4,108,2bbl,3.62,2.64,9,82,4800,23,29,8013\\r\\nsubaru,gas,turbo,four,wagon,4wd,front,96.9,173.6,65.4,54.9,2650,ohcf,4,108,mpfi,3.62,2.64,7.7,111,4800,23,23,11694\\r\\ntoyota,gas,std,two,hatchback,fwd,front,95.7,158.7,63.6,54.5,1985,ohc,4,92,2bbl,3.05,3.03,9,62,4800,35,39,5348\\r\\ntoyota,gas,std,two,hatchback,fwd,front,95.7,158.7,63.6,54.5,2040,ohc,4,92,2bbl,3.05,3.03,9,62,4800,31,38,6338\\r\\ntoyota,gas,std,four,hatchback,fwd,front,95.7,158.7,63.6,54.5,2015,ohc,4,92,2bbl,3.05,3.03,9,62,4800,31,38,6488\\r\\ntoyota,gas,std,four,wagon,fwd,front,95.7,169.7,63.6,59.1,2280,ohc,4,92,2bbl,3.05,3.03,9,62,4800,31,37,6918\\r\\ntoyota,gas,std,four,wagon,4wd,front,95.7,169.7,63.6,59.1,2290,ohc,4,92,2bbl,3.05,3.03,9,62,4800,27,32,7898\\r\\ntoyota,gas,std,four,wagon,4wd,front,95.7,169.7,63.6,59.1,3110,ohc,4,92,2bbl,3.05,3.03,9,62,4800,27,32,8778\\r\\ntoyota,gas,std,four,sedan,fwd,front,95.7,166.3,64.4,53,2081,ohc,4,98,2bbl,3.19,3.03,9,70,4800,30,37,6938\\r\\ntoyota,gas,std,four,hatchback,fwd,front,95.7,166.3,64.4,52.8,2109,ohc,4,98,2bbl,3.19,3.03,9,70,4800,30,37,7198\\r\\ntoyota,diesel,std,four,sedan,fwd,front,95.7,166.3,64.4,53,2275,ohc,4,110,idi,3.27,3.35,22.5,56,4500,34,36,7898\\r\\ntoyota,diesel,std,four,hatchback,fwd,front,95.7,166.3,64.4,52.8,2275,ohc,4,110,idi,3.27,3.35,22.5,56,4500,38,47,7788\\r\\ntoyota,gas,std,four,sedan,fwd,front,95.7,166.3,64.4,53,2094,ohc,4,98,2bbl,3.19,3.03,9,70,4800,38,47,7738\\r\\ntoyota,gas,std,four,hatchback,fwd,front,95.7,166.3,64.4,52.8,2122,ohc,4,98,2bbl,3.19,3.03,9,70,4800,28,34,8358\\r\\ntoyota,gas,std,four,sedan,fwd,front,95.7,166.3,64.4,52.8,2140,ohc,4,98,2bbl,3.19,3.03,9,70,4800,28,34,9258\\r\\ntoyota,gas,std,two,sedan,rwd,front,94.5,168.7,64,52.6,2169,ohc,4,98,2bbl,3.19,3.03,9,70,4800,29,34,8058\\r\\ntoyota,gas,std,two,hatchback,rwd,front,94.5,168.7,64,52.6,2204,ohc,4,98,2bbl,3.19,3.03,9,70,4800,29,34,8238\\r\\ntoyota,gas,std,two,sedan,rwd,front,94.5,168.7,64,52.6,2265,dohc,4,98,mpfi,3.24,3.08,9.4,112,6600,26,29,9298\\r\\ntoyota,gas,std,two,hatchback,rwd,front,94.5,168.7,64,52.6,2300,dohc,4,98,mpfi,3.24,3.08,9.4,112,6600,26,29,9538\\r\\ntoyota,gas,std,two,hardtop,rwd,front,98.4,176.2,65.6,52,2540,ohc,4,146,mpfi,3.62,3.5,9.3,116,4800,24,30,8449\\r\\ntoyota,gas,std,two,hardtop,rwd,front,98.4,176.2,65.6,52,2536,ohc,4,146,mpfi,3.62,3.5,9.3,116,4800,24,30,9639\\r\\ntoyota,gas,std,two,hatchback,rwd,front,98.4,176.2,65.6,52,2551,ohc,4,146,mpfi,3.62,3.5,9.3,116,4800,24,30,9989\\r\\ntoyota,gas,std,two,hardtop,rwd,front,98.4,176.2,65.6,52,2679,ohc,4,146,mpfi,3.62,3.5,9.3,116,4800,24,30,11199\\r\\ntoyota,gas,std,two,hatchback,rwd,front,98.4,176.2,65.6,52,2714,ohc,4,146,mpfi,3.62,3.5,9.3,116,4800,24,30,11549\\r\\ntoyota,gas,std,two,convertible,rwd,front,98.4,176.2,65.6,53,2975,ohc,4,146,mpfi,3.62,3.5,9.3,116,4800,24,30,17669\\r\\ntoyota,gas,std,four,sedan,fwd,front,102.4,175.6,66.5,54.9,2326,ohc,4,122,mpfi,3.31,3.54,8.7,92,4200,29,34,8948\\r\\ntoyota,diesel,turbo,four,sedan,fwd,front,102.4,175.6,66.5,54.9,2480,ohc,4,110,idi,3.27,3.35,22.5,73,4500,30,33,10698\\r\\ntoyota,gas,std,four,hatchback,fwd,front,102.4,175.6,66.5,53.9,2414,ohc,4,122,mpfi,3.31,3.54,8.7,92,4200,27,32,9988\\r\\ntoyota,gas,std,four,sedan,fwd,front,102.4,175.6,66.5,54.9,2414,ohc,4,122,mpfi,3.31,3.54,8.7,92,4200,27,32,10898\\r\\ntoyota,gas,std,four,hatchback,fwd,front,102.4,175.6,66.5,53.9,2458,ohc,4,122,mpfi,3.31,3.54,8.7,92,4200,27,32,11248\\r\\ntoyota,gas,std,two,hatchback,rwd,front,102.9,183.5,67.7,52,2976,dohc,6,171,mpfi,3.27,3.35,9.3,161,5200,20,24,16558\\r\\ntoyota,gas,std,two,hatchback,rwd,front,102.9,183.5,67.7,52,3016,dohc,6,171,mpfi,3.27,3.35,9.3,161,5200,19,24,15998\\r\\ntoyota,gas,std,four,sedan,rwd,front,104.5,187.8,66.5,54.1,3131,dohc,6,171,mpfi,3.27,3.35,9.2,156,5200,20,24,15690\\r\\ntoyota,gas,std,four,wagon,rwd,front,104.5,187.8,66.5,54.1,3151,dohc,6,161,mpfi,3.27,3.35,9.2,156,5200,19,24,15750\\r\\nvolkswagen,diesel,std,two,sedan,fwd,front,97.3,171.7,65.5,55.7,2261,ohc,4,97,idi,3.01,3.4,23,52,4800,37,46,7775\\r\\nvolkswagen,gas,std,two,sedan,fwd,front,97.3,171.7,65.5,55.7,2209,ohc,4,109,mpfi,3.19,3.4,9,85,5250,27,34,7975\\r\\nvolkswagen,diesel,std,four,sedan,fwd,front,97.3,171.7,65.5,55.7,2264,ohc,4,97,idi,3.01,3.4,23,52,4800,37,46,7995\\r\\nvolkswagen,gas,std,four,sedan,fwd,front,97.3,171.7,65.5,55.7,2212,ohc,4,109,mpfi,3.19,3.4,9,85,5250,27,34,8195\\r\\nvolkswagen,gas,std,four,sedan,fwd,front,97.3,171.7,65.5,55.7,2275,ohc,4,109,mpfi,3.19,3.4,9,85,5250,27,34,8495\\r\\nvolkswagen,diesel,turbo,four,sedan,fwd,front,97.3,171.7,65.5,55.7,2319,ohc,4,97,idi,3.01,3.4,23,68,4500,37,42,9495\\r\\nvolkswagen,gas,std,four,sedan,fwd,front,97.3,171.7,65.5,55.7,2300,ohc,4,109,mpfi,3.19,3.4,10,100,5500,26,32,9995\\r\\nvolkswagen,gas,std,two,convertible,fwd,front,94.5,159.3,64.2,55.6,2254,ohc,4,109,mpfi,3.19,3.4,8.5,90,5500,24,29,11595\\r\\nvolkswagen,gas,std,two,hatchback,fwd,front,94.5,165.7,64,51.4,2221,ohc,4,109,mpfi,3.19,3.4,8.5,90,5500,24,29,9980\\r\\nvolkswagen,gas,std,four,sedan,fwd,front,100.4,180.2,66.9,55.1,2661,ohc,5,136,mpfi,3.19,3.4,8.5,110,5500,19,24,13295\\r\\nvolkswagen,diesel,turbo,four,sedan,fwd,front,100.4,180.2,66.9,55.1,2579,ohc,4,97,idi,3.01,3.4,23,68,4500,33,38,13845\\r\\nvolkswagen,gas,std,four,wagon,fwd,front,100.4,183.1,66.9,55.1,2563,ohc,4,109,mpfi,3.19,3.4,9,88,5500,25,31,12290\\r\\nvolvo,gas,std,four,sedan,rwd,front,104.3,188.8,67.2,56.2,2912,ohc,4,141,mpfi,3.78,3.15,9.5,114,5400,23,28,12940\\r\\nvolvo,gas,std,four,wagon,rwd,front,104.3,188.8,67.2,57.5,3034,ohc,4,141,mpfi,3.78,3.15,9.5,114,5400,23,28,13415\\r\\nvolvo,gas,std,four,sedan,rwd,front,104.3,188.8,67.2,56.2,2935,ohc,4,141,mpfi,3.78,3.15,9.5,114,5400,24,28,15985\\r\\nvolvo,gas,std,four,wagon,rwd,front,104.3,188.8,67.2,57.5,3042,ohc,4,141,mpfi,3.78,3.15,9.5,114,5400,24,28,16515\\r\\nvolvo,gas,turbo,four,sedan,rwd,front,104.3,188.8,67.2,56.2,3045,ohc,4,130,mpfi,3.62,3.15,7.5,162,5100,17,22,18420\\r\\nvolvo,gas,turbo,four,wagon,rwd,front,104.3,188.8,67.2,57.5,3157,ohc,4,130,mpfi,3.62,3.15,7.5,162,5100,17,22,18950\\r\\nvolvo,gas,std,four,sedan,rwd,front,109.1,188.8,68.9,55.5,2952,ohc,4,141,mpfi,3.78,3.15,9.5,114,5400,23,28,16845\\r\\nvolvo,gas,turbo,four,sedan,rwd,front,109.1,188.8,68.8,55.5,3049,ohc,4,141,mpfi,3.78,3.15,8.7,160,5300,19,25,19045\\r\\nvolvo,gas,std,four,sedan,rwd,front,109.1,188.8,68.9,55.5,3012,ohcv,6,173,mpfi,3.58,2.87,8.8,134,5500,18,23,21485\\r\\nvolvo,diesel,turbo,four,sedan,rwd,front,109.1,188.8,68.9,55.5,3217,ohc,6,145,idi,3.01,3.4,23,106,4800,26,27,22470\\r\\nvolvo,gas,turbo,four,sedan,rwd,front,109.1,188.8,68.9,55.5,3062,ohc,4,141,mpfi,3.78,3.15,9.5,114,5400,19,25,22625'\n"
     ]
    }
   ],
   "source": [
    "with open(filedir, mode='rb') as reader:\n",
    "    content = reader.read()\n",
    "    print(content)"
   ]
  },
  {
   "cell_type": "code",
   "execution_count": 45,
   "id": "e9cf5a2b",
   "metadata": {},
   "outputs": [
    {
     "name": "stdout",
     "output_type": "stream",
     "text": [
      "b'make,fuel_type,aspiration,num_of_doors,body_style,drive_wheels,engine_location,wheel_base,length,width,height,curb_weight,engine_type,num_of_cylinders,engine_size,fuel_system,bore,stroke,compression_ratio,horsepower,peak_rpm,city_mpg,highway_mpg,price\\r\\n'\n",
      "b'alfa-romero,gas,std,two,convertible,rwd,front,88.6,168.8,64.1,48.8,2548,dohc,4,130,mpfi,3.47,2.68,9,111,5000,21,27,13495\\r\\n'\n",
      "b'alfa-romero,gas,std,two,convertible,rwd,front,88.6,168.8,64.1,48.8,2548,dohc,4,130,mpfi,3.47,2.68,9,111,5000,21,27,16500\\r\\n'\n"
     ]
    }
   ],
   "source": [
    "with open(filedir, mode='rb') as reader:\n",
    "    print(reader.readline())\n",
    "    print(reader.readline())\n",
    "    print(reader.readline())"
   ]
  },
  {
   "cell_type": "code",
   "execution_count": 46,
   "id": "73c69887",
   "metadata": {},
   "outputs": [
    {
     "name": "stdout",
     "output_type": "stream",
     "text": [
      "[b'make,fuel_type,aspiration,num_of_doors,body_style,drive_wheels,engine_location,wheel_base,length,width,height,curb_weight,engine_type,num_of_cylinders,engine_size,fuel_system,bore,stroke,compression_ratio,horsepower,peak_rpm,city_mpg,highway_mpg,price\\r\\n', b'alfa-romero,gas,std,two,convertible,rwd,front,88.6,168.8,64.1,48.8,2548,dohc,4,130,mpfi,3.47,2.68,9,111,5000,21,27,13495\\r\\n', b'alfa-romero,gas,std,two,convertible,rwd,front,88.6,168.8,64.1,48.8,2548,dohc,4,130,mpfi,3.47,2.68,9,111,5000,21,27,16500\\r\\n', b'alfa-romero,gas,std,two,hatchback,rwd,front,94.5,171.2,65.5,52.4,2823,ohcv,6,152,mpfi,2.68,3.47,9,154,5000,19,26,16500\\r\\n', b'audi,gas,std,four,sedan,fwd,front,99.8,176.6,66.2,54.3,2337,ohc,4,109,mpfi,3.19,3.4,10,102,5500,24,30,13950\\r\\n', b'audi,gas,std,four,sedan,4wd,front,99.4,176.6,66.4,54.3,2824,ohc,5,136,mpfi,3.19,3.4,8,115,5500,18,22,17450\\r\\n', b'audi,gas,std,two,sedan,fwd,front,99.8,177.3,66.3,53.1,2507,ohc,5,136,mpfi,3.19,3.4,8.5,110,5500,19,25,15250\\r\\n', b'audi,gas,std,four,sedan,fwd,front,105.8,192.7,71.4,55.7,2844,ohc,5,136,mpfi,3.19,3.4,8.5,110,5500,19,25,17710\\r\\n', b'audi,gas,std,four,wagon,fwd,front,105.8,192.7,71.4,55.7,2954,ohc,5,136,mpfi,3.19,3.4,8.5,110,5500,19,25,18920\\r\\n', b'audi,gas,turbo,four,sedan,fwd,front,105.8,192.7,71.4,55.9,3086,ohc,5,131,mpfi,3.13,3.4,8.3,140,5500,17,20,23875\\r\\n', b'bmw,gas,std,two,sedan,rwd,front,101.2,176.8,64.8,54.3,2395,ohc,4,108,mpfi,3.5,2.8,8.8,101,5800,23,29,16430\\r\\n', b'bmw,gas,std,four,sedan,rwd,front,101.2,176.8,64.8,54.3,2395,ohc,4,108,mpfi,3.5,2.8,8.8,101,5800,23,29,16925\\r\\n', b'bmw,gas,std,two,sedan,rwd,front,101.2,176.8,64.8,54.3,2710,ohc,6,164,mpfi,3.31,3.19,9,121,4250,21,28,20970\\r\\n', b'bmw,gas,std,four,sedan,rwd,front,101.2,176.8,64.8,54.3,2765,ohc,6,164,mpfi,3.31,3.19,9,121,4250,21,28,21105\\r\\n', b'bmw,gas,std,four,sedan,rwd,front,103.5,189,66.9,55.7,3055,ohc,6,164,mpfi,3.31,3.19,9,121,4250,20,25,24565\\r\\n', b'bmw,gas,std,four,sedan,rwd,front,103.5,189,66.9,55.7,3230,ohc,6,209,mpfi,3.62,3.39,8,182,5400,16,22,30760\\r\\n', b'bmw,gas,std,two,sedan,rwd,front,103.5,193.8,67.9,53.7,3380,ohc,6,209,mpfi,3.62,3.39,8,182,5400,16,22,41315\\r\\n', b'bmw,gas,std,four,sedan,rwd,front,110,197,70.9,56.3,3505,ohc,6,209,mpfi,3.62,3.39,8,182,5400,15,20,36880\\r\\n', b'chevrolet,gas,std,two,hatchback,fwd,front,88.4,141.1,60.3,53.2,1488,l,3,61,2bbl,2.91,3.03,9.5,48,5100,47,53,5151\\r\\n', b'chevrolet,gas,std,two,hatchback,fwd,front,94.5,155.9,63.6,52,1874,ohc,4,90,2bbl,3.03,3.11,9.6,70,5400,38,43,6295\\r\\n', b'chevrolet,gas,std,four,sedan,fwd,front,94.5,158.8,63.6,52,1909,ohc,4,90,2bbl,3.03,3.11,9.6,70,5400,38,43,6575\\r\\n', b'dodge,gas,std,two,hatchback,fwd,front,93.7,157.3,63.8,50.8,1876,ohc,4,90,2bbl,2.97,3.23,9.41,68,5500,37,41,5572\\r\\n', b'dodge,gas,std,two,hatchback,fwd,front,93.7,157.3,63.8,50.8,1876,ohc,4,90,2bbl,2.97,3.23,9.4,68,5500,31,38,6377\\r\\n', b'dodge,gas,turbo,two,hatchback,fwd,front,93.7,157.3,63.8,50.8,2128,ohc,4,98,mpfi,3.03,3.39,7.6,102,5500,24,30,7957\\r\\n', b'dodge,gas,std,four,hatchback,fwd,front,93.7,157.3,63.8,50.6,1967,ohc,4,90,2bbl,2.97,3.23,9.4,68,5500,31,38,6229\\r\\n', b'dodge,gas,std,four,sedan,fwd,front,93.7,157.3,63.8,50.6,1989,ohc,4,90,2bbl,2.97,3.23,9.4,68,5500,31,38,6692\\r\\n', b'dodge,gas,std,four,sedan,fwd,front,93.7,157.3,63.8,50.6,1989,ohc,4,90,2bbl,2.97,3.23,9.4,68,5500,31,38,7609\\r\\n', b'dodge,gas,std,four,wagon,fwd,front,103.3,174.6,64.6,59.8,2535,ohc,4,122,2bbl,3.34,3.46,8.5,88,5000,24,30,8921\\r\\n', b'dodge,gas,turbo,two,hatchback,fwd,front,95.9,173.2,66.3,50.2,2811,ohc,4,156,mfi,3.6,3.9,7,145,5000,19,24,12964\\r\\n', b'honda,gas,std,two,hatchback,fwd,front,86.6,144.6,63.9,50.8,1713,ohc,4,92,1bbl,2.91,3.41,9.6,58,4800,49,54,6479\\r\\n', b'honda,gas,std,two,hatchback,fwd,front,86.6,144.6,63.9,50.8,1819,ohc,4,92,1bbl,2.91,3.41,9.2,76,6000,31,38,6855\\r\\n', b'honda,gas,std,two,hatchback,fwd,front,93.7,150,64,52.6,1837,ohc,4,79,1bbl,2.91,3.07,10.1,60,5500,38,42,5399\\r\\n', b'honda,gas,std,two,hatchback,fwd,front,93.7,150,64,52.6,1940,ohc,4,92,1bbl,2.91,3.41,9.2,76,6000,30,34,6529\\r\\n', b'honda,gas,std,two,hatchback,fwd,front,93.7,150,64,52.6,1956,ohc,4,92,1bbl,2.91,3.41,9.2,76,6000,30,34,7129\\r\\n', b'honda,gas,std,four,sedan,fwd,front,96.5,163.4,64,54.5,2010,ohc,4,92,1bbl,2.91,3.41,9.2,76,6000,30,34,7295\\r\\n', b'honda,gas,std,four,wagon,fwd,front,96.5,157.1,63.9,58.3,2024,ohc,4,92,1bbl,2.92,3.41,9.2,76,6000,30,34,7295\\r\\n', b'honda,gas,std,two,hatchback,fwd,front,96.5,167.5,65.2,53.3,2236,ohc,4,110,1bbl,3.15,3.58,9,86,5800,27,33,7895\\r\\n', b'honda,gas,std,two,hatchback,fwd,front,96.5,167.5,65.2,53.3,2289,ohc,4,110,1bbl,3.15,3.58,9,86,5800,27,33,9095\\r\\n', b'honda,gas,std,four,sedan,fwd,front,96.5,175.4,65.2,54.1,2304,ohc,4,110,1bbl,3.15,3.58,9,86,5800,27,33,8845\\r\\n', b'honda,gas,std,four,sedan,fwd,front,96.5,175.4,62.5,54.1,2372,ohc,4,110,1bbl,3.15,3.58,9,86,5800,27,33,10295\\r\\n', b'honda,gas,std,four,sedan,fwd,front,96.5,175.4,65.2,54.1,2465,ohc,4,110,mpfi,3.15,3.58,9,101,5800,24,28,12945\\r\\n', b'honda,gas,std,two,sedan,fwd,front,96.5,169.1,66,51,2293,ohc,4,110,2bbl,3.15,3.58,9.1,100,5500,25,31,10345\\r\\n', b'isuzu,gas,std,four,sedan,rwd,front,94.3,170.7,61.8,53.5,2337,ohc,4,111,2bbl,3.31,3.23,8.5,78,4800,24,29,6785\\r\\n', b'isuzu,gas,std,two,hatchback,rwd,front,96,172.6,65.2,51.4,2734,ohc,4,119,spfi,3.43,3.23,9.2,90,5000,24,29,11048\\r\\n', b'jaguar,gas,std,four,sedan,rwd,front,113,199.6,69.6,52.8,4066,dohc,6,258,mpfi,3.63,4.17,8.1,176,4750,15,19,32250\\r\\n', b'jaguar,gas,std,four,sedan,rwd,front,113,199.6,69.6,52.8,4066,dohc,6,258,mpfi,3.63,4.17,8.1,176,4750,15,19,35550\\r\\n', b'jaguar,gas,std,two,sedan,rwd,front,102,191.7,70.6,47.8,3950,ohcv,12,326,mpfi,3.54,2.76,11.5,262,5000,13,17,36000\\r\\n', b'mazda,gas,std,two,hatchback,fwd,front,93.1,159.1,64.2,54.1,1890,ohc,4,91,2bbl,3.03,3.15,9,68,5000,30,31,5195\\r\\n', b'mazda,gas,std,two,hatchback,fwd,front,93.1,159.1,64.2,54.1,1900,ohc,4,91,2bbl,3.03,3.15,9,68,5000,31,38,6095\\r\\n', b'mazda,gas,std,two,hatchback,fwd,front,93.1,159.1,64.2,54.1,1905,ohc,4,91,2bbl,3.03,3.15,9,68,5000,31,38,6795\\r\\n', b'mazda,gas,std,four,sedan,fwd,front,93.1,166.8,64.2,54.1,1945,ohc,4,91,2bbl,3.03,3.15,9,68,5000,31,38,6695\\r\\n', b'mazda,gas,std,four,sedan,fwd,front,93.1,166.8,64.2,54.1,1950,ohc,4,91,2bbl,3.08,3.15,9,68,5000,31,38,7395\\r\\n', b'mazda,gas,std,two,hatchback,fwd,front,98.8,177.8,66.5,53.7,2385,ohc,4,122,2bbl,3.39,3.39,8.6,84,4800,26,32,8845\\r\\n', b'mazda,gas,std,four,sedan,fwd,front,98.8,177.8,66.5,55.5,2410,ohc,4,122,2bbl,3.39,3.39,8.6,84,4800,26,32,8495\\r\\n', b'mazda,gas,std,two,hatchback,fwd,front,98.8,177.8,66.5,53.7,2385,ohc,4,122,2bbl,3.39,3.39,8.6,84,4800,26,32,10595\\r\\n', b'mazda,gas,std,four,sedan,fwd,front,98.8,177.8,66.5,55.5,2410,ohc,4,122,2bbl,3.39,3.39,8.6,84,4800,26,32,10245\\r\\n', b'mazda,gas,std,four,hatchback,fwd,front,98.8,177.8,66.5,55.5,2425,ohc,4,122,2bbl,3.39,3.39,8.6,84,4800,26,32,11245\\r\\n', b'mazda,gas,std,four,sedan,rwd,front,104.9,175,66.1,54.4,2670,ohc,4,140,mpfi,3.76,3.16,8,120,5000,19,27,18280\\r\\n', b'mazda,diesel,std,four,sedan,rwd,front,104.9,175,66.1,54.4,2700,ohc,4,134,idi,3.43,3.64,22,72,4200,31,39,18344\\r\\n', b'mercedes-benz,diesel,turbo,four,sedan,rwd,front,110,190.9,70.3,56.5,3515,ohc,5,183,idi,3.58,3.64,21.5,123,4350,22,25,25552\\r\\n', b'mercedes-benz,diesel,turbo,four,wagon,rwd,front,110,190.9,70.3,58.7,3750,ohc,5,183,idi,3.58,3.64,21.5,123,4350,22,25,28248\\r\\n', b'mercedes-benz,diesel,turbo,two,hardtop,rwd,front,106.7,187.5,70.3,54.9,3495,ohc,5,183,idi,3.58,3.64,21.5,123,4350,22,25,28176\\r\\n', b'mercedes-benz,diesel,turbo,four,sedan,rwd,front,115.6,202.6,71.7,56.3,3770,ohc,5,183,idi,3.58,3.64,21.5,123,4350,22,25,31600\\r\\n', b'mercedes-benz,gas,std,four,sedan,rwd,front,115.6,202.6,71.7,56.5,3740,ohcv,8,234,mpfi,3.46,3.1,8.3,155,4750,16,18,34184\\r\\n', b'mercedes-benz,gas,std,two,convertible,rwd,front,96.6,180.3,70.5,50.8,3685,ohcv,8,234,mpfi,3.46,3.1,8.3,155,4750,16,18,35056\\r\\n', b'mercedes-benz,gas,std,four,sedan,rwd,front,120.9,208.1,71.7,56.7,3900,ohcv,8,308,mpfi,3.8,3.35,8,184,4500,14,16,40960\\r\\n', b'mercedes-benz,gas,std,two,hardtop,rwd,front,112,199.2,72,55.4,3715,ohcv,8,304,mpfi,3.8,3.35,8,184,4500,14,16,45400\\r\\n', b'mercury,gas,turbo,two,hatchback,rwd,front,102.7,178.4,68,54.8,2910,ohc,4,140,mpfi,3.78,3.12,8,175,5000,19,24,16503\\r\\n', b'mitsubishi,gas,std,two,hatchback,fwd,front,93.7,157.3,64.4,50.8,1918,ohc,4,92,2bbl,2.97,3.23,9.4,68,5500,37,41,5389\\r\\n', b'mitsubishi,gas,std,two,hatchback,fwd,front,93.7,157.3,64.4,50.8,1944,ohc,4,92,2bbl,2.97,3.23,9.4,68,5500,31,38,6189\\r\\n', b'mitsubishi,gas,std,two,hatchback,fwd,front,93.7,157.3,64.4,50.8,2004,ohc,4,92,2bbl,2.97,3.23,9.4,68,5500,31,38,6669\\r\\n', b'mitsubishi,gas,turbo,two,hatchback,fwd,front,93,157.3,63.8,50.8,2145,ohc,4,98,spdi,3.03,3.39,7.6,102,5500,24,30,7689\\r\\n', b'mitsubishi,gas,turbo,two,hatchback,fwd,front,96.3,173,65.4,49.4,2370,ohc,4,110,spdi,3.17,3.46,7.5,116,5500,23,30,9959\\r\\n', b'mitsubishi,gas,std,two,hatchback,fwd,front,96.3,173,65.4,49.4,2328,ohc,4,122,2bbl,3.35,3.46,8.5,88,5000,25,32,8499\\r\\n', b'mitsubishi,gas,turbo,two,hatchback,fwd,front,95.9,173.2,66.3,50.2,2833,ohc,4,156,spdi,3.58,3.86,7,145,5000,19,24,12629\\r\\n', b'mitsubishi,gas,turbo,two,hatchback,fwd,front,95.9,173.2,66.3,50.2,2921,ohc,4,156,spdi,3.59,3.86,7,145,5000,19,24,14869\\r\\n', b'mitsubishi,gas,turbo,two,hatchback,fwd,front,95.9,173.2,66.3,50.2,2926,ohc,4,156,spdi,3.59,3.86,7,145,5000,19,24,14489\\r\\n', b'mitsubishi,gas,std,four,sedan,fwd,front,96.3,172.4,65.4,51.6,2365,ohc,4,122,2bbl,3.35,3.46,8.5,88,5000,25,32,6989\\r\\n', b'mitsubishi,gas,std,four,sedan,fwd,front,96.3,172.4,65.4,51.6,2405,ohc,4,122,2bbl,3.35,3.46,8.5,88,5000,25,32,8189\\r\\n', b'mitsubishi,gas,turbo,four,sedan,fwd,front,96.3,172.4,65.4,51.6,2403,ohc,4,110,spdi,3.17,3.46,7.5,116,5500,23,30,9279\\r\\n', b'mitsubishi,gas,std,four,sedan,fwd,front,96.3,172.4,65.4,51.6,2403,ohc,4,110,spdi,3.17,3.46,7.5,116,5500,23,30,9279\\r\\n', b'nissan,gas,std,two,sedan,fwd,front,94.5,165.3,63.8,54.5,1889,ohc,4,97,2bbl,3.15,3.29,9.4,69,5200,31,37,5499\\r\\n', b'nissan,diesel,std,two,sedan,fwd,front,94.5,165.3,63.8,54.5,2017,ohc,4,103,idi,2.99,3.47,21.9,55,4800,45,50,7099\\r\\n', b'nissan,gas,std,two,sedan,fwd,front,94.5,165.3,63.8,54.5,1918,ohc,4,97,2bbl,3.15,3.29,9.4,69,5200,31,37,6649\\r\\n', b'nissan,gas,std,four,sedan,fwd,front,94.5,165.3,63.8,54.5,1938,ohc,4,97,2bbl,3.15,3.29,9.4,69,5200,31,37,6849\\r\\n', b'nissan,gas,std,four,wagon,fwd,front,94.5,170.2,63.8,53.5,2024,ohc,4,97,2bbl,3.15,3.29,9.4,69,5200,31,37,7349\\r\\n', b'nissan,gas,std,two,sedan,fwd,front,94.5,165.3,63.8,54.5,1951,ohc,4,97,2bbl,3.15,3.29,9.4,69,5200,31,37,7299\\r\\n', b'nissan,gas,std,two,hatchback,fwd,front,94.5,165.6,63.8,53.3,2028,ohc,4,97,2bbl,3.15,3.29,9.4,69,5200,31,37,7799\\r\\n', b'nissan,gas,std,four,sedan,fwd,front,94.5,165.3,63.8,54.5,1971,ohc,4,97,2bbl,3.15,3.29,9.4,69,5200,31,37,7499\\r\\n', b'nissan,gas,std,four,wagon,fwd,front,94.5,170.2,63.8,53.5,2037,ohc,4,97,2bbl,3.15,3.29,9.4,69,5200,31,37,7999\\r\\n', b'nissan,gas,std,two,hardtop,fwd,front,95.1,162.4,63.8,53.3,2008,ohc,4,97,2bbl,3.15,3.29,9.4,69,5200,31,37,8249\\r\\n', b'nissan,gas,std,four,hatchback,fwd,front,97.2,173.4,65.2,54.7,2324,ohc,4,120,2bbl,3.33,3.47,8.5,97,5200,27,34,8949\\r\\n', b'nissan,gas,std,four,sedan,fwd,front,97.2,173.4,65.2,54.7,2302,ohc,4,120,2bbl,3.33,3.47,8.5,97,5200,27,34,9549\\r\\n', b'nissan,gas,std,four,sedan,fwd,front,100.4,181.7,66.5,55.1,3095,ohcv,6,181,mpfi,3.43,3.27,9,152,5200,17,22,13499\\r\\n', b'nissan,gas,std,four,wagon,fwd,front,100.4,184.6,66.5,56.1,3296,ohcv,6,181,mpfi,3.43,3.27,9,152,5200,17,22,14399\\r\\n', b'nissan,gas,std,four,sedan,fwd,front,100.4,184.6,66.5,55.1,3060,ohcv,6,181,mpfi,3.43,3.27,9,152,5200,19,25,13499\\r\\n', b'nissan,gas,std,two,hatchback,rwd,front,91.3,170.7,67.9,49.7,3071,ohcv,6,181,mpfi,3.43,3.27,9,160,5200,19,25,17199\\r\\n', b'nissan,gas,turbo,two,hatchback,rwd,front,91.3,170.7,67.9,49.7,3139,ohcv,6,181,mpfi,3.43,3.27,7.8,200,5200,17,23,19699\\r\\n', b'nissan,gas,std,two,hatchback,rwd,front,99.2,178.5,67.9,49.7,3139,ohcv,6,181,mpfi,3.43,3.27,9,160,5200,19,25,18399\\r\\n', b'peugot,gas,std,four,sedan,rwd,front,107.9,186.7,68.4,56.7,3020,l,4,120,mpfi,3.46,3.19,8.4,97,5000,19,24,11900\\r\\n', b'peugot,diesel,turbo,four,sedan,rwd,front,107.9,186.7,68.4,56.7,3197,l,4,152,idi,3.7,3.52,21,95,4150,28,33,13200\\r\\n', b'peugot,gas,std,four,wagon,rwd,front,114.2,198.9,68.4,58.7,3230,l,4,120,mpfi,3.46,3.19,8.4,97,5000,19,24,12440\\r\\n', b'peugot,diesel,turbo,four,wagon,rwd,front,114.2,198.9,68.4,58.7,3430,l,4,152,idi,3.7,3.52,21,95,4150,25,25,13860\\r\\n', b'peugot,gas,std,four,sedan,rwd,front,107.9,186.7,68.4,56.7,3075,l,4,120,mpfi,3.46,2.19,8.4,95,5000,19,24,15580\\r\\n', b'peugot,diesel,turbo,four,sedan,rwd,front,107.9,186.7,68.4,56.7,3252,l,4,152,idi,3.7,3.52,21,95,4150,28,33,16900\\r\\n', b'peugot,gas,std,four,wagon,rwd,front,114.2,198.9,68.4,56.7,3285,l,4,120,mpfi,3.46,2.19,8.4,95,5000,19,24,16695\\r\\n', b'peugot,diesel,turbo,four,wagon,rwd,front,114.2,198.9,68.4,58.7,3485,l,4,152,idi,3.7,3.52,21,95,4150,25,25,17075\\r\\n', b'peugot,gas,std,four,sedan,rwd,front,107.9,186.7,68.4,56.7,3075,l,4,120,mpfi,3.46,3.19,8.4,97,5000,19,24,16630\\r\\n', b'peugot,diesel,turbo,four,sedan,rwd,front,107.9,186.7,68.4,56.7,3252,l,4,152,idi,3.7,3.52,21,95,4150,28,33,17950\\r\\n', b'peugot,gas,turbo,four,sedan,rwd,front,108,186.7,68.3,56,3130,l,4,134,mpfi,3.61,3.21,7,142,5600,18,24,18150\\r\\n', b'plymouth,gas,std,two,hatchback,fwd,front,93.7,157.3,63.8,50.8,1918,ohc,4,90,2bbl,2.97,3.23,9.4,68,5500,37,41,5572\\r\\n', b'plymouth,gas,turbo,two,hatchback,fwd,front,93.7,157.3,63.8,50.8,2128,ohc,4,98,spdi,3.03,3.39,7.6,102,5500,24,30,7957\\r\\n', b'plymouth,gas,std,four,hatchback,fwd,front,93.7,157.3,63.8,50.6,1967,ohc,4,90,2bbl,2.97,3.23,9.4,68,5500,31,38,6229\\r\\n', b'plymouth,gas,std,four,sedan,fwd,front,93.7,167.3,63.8,50.8,1989,ohc,4,90,2bbl,2.97,3.23,9.4,68,5500,31,38,6692\\r\\n', b'plymouth,gas,std,four,sedan,fwd,front,93.7,167.3,63.8,50.8,2191,ohc,4,98,2bbl,2.97,3.23,9.4,68,5500,31,38,7609\\r\\n', b'plymouth,gas,std,four,wagon,fwd,front,103.3,174.6,64.6,59.8,2535,ohc,4,122,2bbl,3.35,3.46,8.5,88,5000,24,30,8921\\r\\n', b'plymouth,gas,turbo,two,hatchback,rwd,front,95.9,173.2,66.3,50.2,2818,ohc,4,156,spdi,3.59,3.86,7,145,5000,19,24,12764\\r\\n', b'porsche,gas,std,two,hatchback,rwd,front,94.5,168.9,68.3,50.2,2778,ohc,4,151,mpfi,3.94,3.11,9.5,143,5500,19,27,22018\\r\\n', b'porsche,gas,std,two,hardtop,rwd,rear,89.5,168.9,65,51.6,2756,ohcf,6,194,mpfi,3.74,2.9,9.5,207,5900,17,25,32528\\r\\n', b'porsche,gas,std,two,hardtop,rwd,rear,89.5,168.9,65,51.6,2756,ohcf,6,194,mpfi,3.74,2.9,9.5,207,5900,17,25,34028\\r\\n', b'porsche,gas,std,two,convertible,rwd,rear,89.5,168.9,65,51.6,2800,ohcf,6,194,mpfi,3.74,2.9,9.5,207,5900,17,25,37028\\r\\n', b'saab,gas,std,two,hatchback,fwd,front,99.1,186.6,66.5,56.1,2658,ohc,4,121,mpfi,3.54,3.07,9.31,110,5250,21,28,11850\\r\\n', b'saab,gas,std,four,sedan,fwd,front,99.1,186.6,66.5,56.1,2695,ohc,4,121,mpfi,3.54,3.07,9.3,110,5250,21,28,12170\\r\\n', b'saab,gas,std,two,hatchback,fwd,front,99.1,186.6,66.5,56.1,2707,ohc,4,121,mpfi,2.54,2.07,9.3,110,5250,21,28,15040\\r\\n', b'saab,gas,std,four,sedan,fwd,front,99.1,186.6,66.5,56.1,2758,ohc,4,121,mpfi,3.54,3.07,9.3,110,5250,21,28,15510\\r\\n', b'saab,gas,turbo,two,hatchback,fwd,front,99.1,186.6,66.5,56.1,2808,dohc,4,121,mpfi,3.54,3.07,9,160,5500,19,26,18150\\r\\n', b'saab,gas,turbo,four,sedan,fwd,front,99.1,186.6,66.5,56.1,2847,dohc,4,121,mpfi,3.54,3.07,9,160,5500,19,26,18620\\r\\n', b'subaru,gas,std,two,hatchback,fwd,front,93.7,156.9,63.4,53.7,2050,ohcf,4,97,2bbl,3.62,2.36,9,69,4900,31,36,5118\\r\\n', b'subaru,gas,std,two,hatchback,fwd,front,93.7,157.9,63.6,53.7,2120,ohcf,4,108,2bbl,3.62,2.64,8.7,73,4400,26,31,7053\\r\\n', b'subaru,gas,std,two,hatchback,4wd,front,93.3,157.3,63.8,55.7,2240,ohcf,4,108,2bbl,3.62,2.64,8.7,73,4400,26,31,7603\\r\\n', b'subaru,gas,std,four,sedan,fwd,front,97.2,172,65.4,52.5,2145,ohcf,4,108,2bbl,3.62,2.64,9.5,82,4800,32,37,7126\\r\\n', b'subaru,gas,std,four,sedan,fwd,front,97.2,172,65.4,52.5,2190,ohcf,4,108,2bbl,3.62,2.64,9.5,82,4400,28,33,7775\\r\\n', b'subaru,gas,std,four,sedan,fwd,front,97.2,172,65.4,52.5,2340,ohcf,4,108,mpfi,3.62,2.64,9,94,5200,26,32,9960\\r\\n', b'subaru,gas,std,four,sedan,4wd,front,97,172,65.4,54.3,2385,ohcf,4,108,2bbl,3.62,2.64,9,82,4800,24,25,9233\\r\\n', b'subaru,gas,turbo,four,sedan,4wd,front,97,172,65.4,54.3,2510,ohcf,4,108,mpfi,3.62,2.64,7.7,111,4800,24,29,11259\\r\\n', b'subaru,gas,std,four,wagon,fwd,front,97,173.5,65.4,53,2290,ohcf,4,108,2bbl,3.62,2.64,9,82,4800,28,32,7463\\r\\n', b'subaru,gas,std,four,wagon,fwd,front,97,173.5,65.4,53,2455,ohcf,4,108,mpfi,3.62,2.64,9,94,5200,25,31,10198\\r\\n', b'subaru,gas,std,four,wagon,4wd,front,96.9,173.6,65.4,54.9,2420,ohcf,4,108,2bbl,3.62,2.64,9,82,4800,23,29,8013\\r\\n', b'subaru,gas,turbo,four,wagon,4wd,front,96.9,173.6,65.4,54.9,2650,ohcf,4,108,mpfi,3.62,2.64,7.7,111,4800,23,23,11694\\r\\n', b'toyota,gas,std,two,hatchback,fwd,front,95.7,158.7,63.6,54.5,1985,ohc,4,92,2bbl,3.05,3.03,9,62,4800,35,39,5348\\r\\n', b'toyota,gas,std,two,hatchback,fwd,front,95.7,158.7,63.6,54.5,2040,ohc,4,92,2bbl,3.05,3.03,9,62,4800,31,38,6338\\r\\n', b'toyota,gas,std,four,hatchback,fwd,front,95.7,158.7,63.6,54.5,2015,ohc,4,92,2bbl,3.05,3.03,9,62,4800,31,38,6488\\r\\n', b'toyota,gas,std,four,wagon,fwd,front,95.7,169.7,63.6,59.1,2280,ohc,4,92,2bbl,3.05,3.03,9,62,4800,31,37,6918\\r\\n', b'toyota,gas,std,four,wagon,4wd,front,95.7,169.7,63.6,59.1,2290,ohc,4,92,2bbl,3.05,3.03,9,62,4800,27,32,7898\\r\\n', b'toyota,gas,std,four,wagon,4wd,front,95.7,169.7,63.6,59.1,3110,ohc,4,92,2bbl,3.05,3.03,9,62,4800,27,32,8778\\r\\n', b'toyota,gas,std,four,sedan,fwd,front,95.7,166.3,64.4,53,2081,ohc,4,98,2bbl,3.19,3.03,9,70,4800,30,37,6938\\r\\n', b'toyota,gas,std,four,hatchback,fwd,front,95.7,166.3,64.4,52.8,2109,ohc,4,98,2bbl,3.19,3.03,9,70,4800,30,37,7198\\r\\n', b'toyota,diesel,std,four,sedan,fwd,front,95.7,166.3,64.4,53,2275,ohc,4,110,idi,3.27,3.35,22.5,56,4500,34,36,7898\\r\\n', b'toyota,diesel,std,four,hatchback,fwd,front,95.7,166.3,64.4,52.8,2275,ohc,4,110,idi,3.27,3.35,22.5,56,4500,38,47,7788\\r\\n', b'toyota,gas,std,four,sedan,fwd,front,95.7,166.3,64.4,53,2094,ohc,4,98,2bbl,3.19,3.03,9,70,4800,38,47,7738\\r\\n', b'toyota,gas,std,four,hatchback,fwd,front,95.7,166.3,64.4,52.8,2122,ohc,4,98,2bbl,3.19,3.03,9,70,4800,28,34,8358\\r\\n', b'toyota,gas,std,four,sedan,fwd,front,95.7,166.3,64.4,52.8,2140,ohc,4,98,2bbl,3.19,3.03,9,70,4800,28,34,9258\\r\\n', b'toyota,gas,std,two,sedan,rwd,front,94.5,168.7,64,52.6,2169,ohc,4,98,2bbl,3.19,3.03,9,70,4800,29,34,8058\\r\\n', b'toyota,gas,std,two,hatchback,rwd,front,94.5,168.7,64,52.6,2204,ohc,4,98,2bbl,3.19,3.03,9,70,4800,29,34,8238\\r\\n', b'toyota,gas,std,two,sedan,rwd,front,94.5,168.7,64,52.6,2265,dohc,4,98,mpfi,3.24,3.08,9.4,112,6600,26,29,9298\\r\\n', b'toyota,gas,std,two,hatchback,rwd,front,94.5,168.7,64,52.6,2300,dohc,4,98,mpfi,3.24,3.08,9.4,112,6600,26,29,9538\\r\\n', b'toyota,gas,std,two,hardtop,rwd,front,98.4,176.2,65.6,52,2540,ohc,4,146,mpfi,3.62,3.5,9.3,116,4800,24,30,8449\\r\\n', b'toyota,gas,std,two,hardtop,rwd,front,98.4,176.2,65.6,52,2536,ohc,4,146,mpfi,3.62,3.5,9.3,116,4800,24,30,9639\\r\\n', b'toyota,gas,std,two,hatchback,rwd,front,98.4,176.2,65.6,52,2551,ohc,4,146,mpfi,3.62,3.5,9.3,116,4800,24,30,9989\\r\\n', b'toyota,gas,std,two,hardtop,rwd,front,98.4,176.2,65.6,52,2679,ohc,4,146,mpfi,3.62,3.5,9.3,116,4800,24,30,11199\\r\\n', b'toyota,gas,std,two,hatchback,rwd,front,98.4,176.2,65.6,52,2714,ohc,4,146,mpfi,3.62,3.5,9.3,116,4800,24,30,11549\\r\\n', b'toyota,gas,std,two,convertible,rwd,front,98.4,176.2,65.6,53,2975,ohc,4,146,mpfi,3.62,3.5,9.3,116,4800,24,30,17669\\r\\n', b'toyota,gas,std,four,sedan,fwd,front,102.4,175.6,66.5,54.9,2326,ohc,4,122,mpfi,3.31,3.54,8.7,92,4200,29,34,8948\\r\\n', b'toyota,diesel,turbo,four,sedan,fwd,front,102.4,175.6,66.5,54.9,2480,ohc,4,110,idi,3.27,3.35,22.5,73,4500,30,33,10698\\r\\n', b'toyota,gas,std,four,hatchback,fwd,front,102.4,175.6,66.5,53.9,2414,ohc,4,122,mpfi,3.31,3.54,8.7,92,4200,27,32,9988\\r\\n', b'toyota,gas,std,four,sedan,fwd,front,102.4,175.6,66.5,54.9,2414,ohc,4,122,mpfi,3.31,3.54,8.7,92,4200,27,32,10898\\r\\n', b'toyota,gas,std,four,hatchback,fwd,front,102.4,175.6,66.5,53.9,2458,ohc,4,122,mpfi,3.31,3.54,8.7,92,4200,27,32,11248\\r\\n', b'toyota,gas,std,two,hatchback,rwd,front,102.9,183.5,67.7,52,2976,dohc,6,171,mpfi,3.27,3.35,9.3,161,5200,20,24,16558\\r\\n', b'toyota,gas,std,two,hatchback,rwd,front,102.9,183.5,67.7,52,3016,dohc,6,171,mpfi,3.27,3.35,9.3,161,5200,19,24,15998\\r\\n', b'toyota,gas,std,four,sedan,rwd,front,104.5,187.8,66.5,54.1,3131,dohc,6,171,mpfi,3.27,3.35,9.2,156,5200,20,24,15690\\r\\n', b'toyota,gas,std,four,wagon,rwd,front,104.5,187.8,66.5,54.1,3151,dohc,6,161,mpfi,3.27,3.35,9.2,156,5200,19,24,15750\\r\\n', b'volkswagen,diesel,std,two,sedan,fwd,front,97.3,171.7,65.5,55.7,2261,ohc,4,97,idi,3.01,3.4,23,52,4800,37,46,7775\\r\\n', b'volkswagen,gas,std,two,sedan,fwd,front,97.3,171.7,65.5,55.7,2209,ohc,4,109,mpfi,3.19,3.4,9,85,5250,27,34,7975\\r\\n', b'volkswagen,diesel,std,four,sedan,fwd,front,97.3,171.7,65.5,55.7,2264,ohc,4,97,idi,3.01,3.4,23,52,4800,37,46,7995\\r\\n', b'volkswagen,gas,std,four,sedan,fwd,front,97.3,171.7,65.5,55.7,2212,ohc,4,109,mpfi,3.19,3.4,9,85,5250,27,34,8195\\r\\n', b'volkswagen,gas,std,four,sedan,fwd,front,97.3,171.7,65.5,55.7,2275,ohc,4,109,mpfi,3.19,3.4,9,85,5250,27,34,8495\\r\\n', b'volkswagen,diesel,turbo,four,sedan,fwd,front,97.3,171.7,65.5,55.7,2319,ohc,4,97,idi,3.01,3.4,23,68,4500,37,42,9495\\r\\n', b'volkswagen,gas,std,four,sedan,fwd,front,97.3,171.7,65.5,55.7,2300,ohc,4,109,mpfi,3.19,3.4,10,100,5500,26,32,9995\\r\\n', b'volkswagen,gas,std,two,convertible,fwd,front,94.5,159.3,64.2,55.6,2254,ohc,4,109,mpfi,3.19,3.4,8.5,90,5500,24,29,11595\\r\\n', b'volkswagen,gas,std,two,hatchback,fwd,front,94.5,165.7,64,51.4,2221,ohc,4,109,mpfi,3.19,3.4,8.5,90,5500,24,29,9980\\r\\n', b'volkswagen,gas,std,four,sedan,fwd,front,100.4,180.2,66.9,55.1,2661,ohc,5,136,mpfi,3.19,3.4,8.5,110,5500,19,24,13295\\r\\n', b'volkswagen,diesel,turbo,four,sedan,fwd,front,100.4,180.2,66.9,55.1,2579,ohc,4,97,idi,3.01,3.4,23,68,4500,33,38,13845\\r\\n', b'volkswagen,gas,std,four,wagon,fwd,front,100.4,183.1,66.9,55.1,2563,ohc,4,109,mpfi,3.19,3.4,9,88,5500,25,31,12290\\r\\n', b'volvo,gas,std,four,sedan,rwd,front,104.3,188.8,67.2,56.2,2912,ohc,4,141,mpfi,3.78,3.15,9.5,114,5400,23,28,12940\\r\\n', b'volvo,gas,std,four,wagon,rwd,front,104.3,188.8,67.2,57.5,3034,ohc,4,141,mpfi,3.78,3.15,9.5,114,5400,23,28,13415\\r\\n', b'volvo,gas,std,four,sedan,rwd,front,104.3,188.8,67.2,56.2,2935,ohc,4,141,mpfi,3.78,3.15,9.5,114,5400,24,28,15985\\r\\n', b'volvo,gas,std,four,wagon,rwd,front,104.3,188.8,67.2,57.5,3042,ohc,4,141,mpfi,3.78,3.15,9.5,114,5400,24,28,16515\\r\\n', b'volvo,gas,turbo,four,sedan,rwd,front,104.3,188.8,67.2,56.2,3045,ohc,4,130,mpfi,3.62,3.15,7.5,162,5100,17,22,18420\\r\\n', b'volvo,gas,turbo,four,wagon,rwd,front,104.3,188.8,67.2,57.5,3157,ohc,4,130,mpfi,3.62,3.15,7.5,162,5100,17,22,18950\\r\\n', b'volvo,gas,std,four,sedan,rwd,front,109.1,188.8,68.9,55.5,2952,ohc,4,141,mpfi,3.78,3.15,9.5,114,5400,23,28,16845\\r\\n', b'volvo,gas,turbo,four,sedan,rwd,front,109.1,188.8,68.8,55.5,3049,ohc,4,141,mpfi,3.78,3.15,8.7,160,5300,19,25,19045\\r\\n', b'volvo,gas,std,four,sedan,rwd,front,109.1,188.8,68.9,55.5,3012,ohcv,6,173,mpfi,3.58,2.87,8.8,134,5500,18,23,21485\\r\\n', b'volvo,diesel,turbo,four,sedan,rwd,front,109.1,188.8,68.9,55.5,3217,ohc,6,145,idi,3.01,3.4,23,106,4800,26,27,22470\\r\\n', b'volvo,gas,turbo,four,sedan,rwd,front,109.1,188.8,68.9,55.5,3062,ohc,4,141,mpfi,3.78,3.15,9.5,114,5400,19,25,22625']\n"
     ]
    }
   ],
   "source": [
    "with open(filedir, mode='rb') as reader:\n",
    "    print(reader.readlines())"
   ]
  },
  {
   "cell_type": "code",
   "execution_count": 47,
   "id": "6d97aa83",
   "metadata": {},
   "outputs": [
    {
     "name": "stdout",
     "output_type": "stream",
     "text": [
      "['make,fuel_type,aspiration,num_of_doors,body_style,drive_wheels,engine_location,wheel_base,length,width,height,curb_weight,engine_type,num_of_cylinders,engine_size,fuel_system,bore,stroke,compression_ratio,horsepower,peak_rpm,city_mpg,highway_mpg,price\\n', 'alfa-romero,gas,std,two,convertible,rwd,front,88.6,168.8,64.1,48.8,2548,dohc,4,130,mpfi,3.47,2.68,9,111,5000,21,27,13495\\n', 'alfa-romero,gas,std,two,convertible,rwd,front,88.6,168.8,64.1,48.8,2548,dohc,4,130,mpfi,3.47,2.68,9,111,5000,21,27,16500\\n', 'alfa-romero,gas,std,two,hatchback,rwd,front,94.5,171.2,65.5,52.4,2823,ohcv,6,152,mpfi,2.68,3.47,9,154,5000,19,26,16500\\n', 'audi,gas,std,four,sedan,fwd,front,99.8,176.6,66.2,54.3,2337,ohc,4,109,mpfi,3.19,3.4,10,102,5500,24,30,13950\\n', 'audi,gas,std,four,sedan,4wd,front,99.4,176.6,66.4,54.3,2824,ohc,5,136,mpfi,3.19,3.4,8,115,5500,18,22,17450\\n', 'audi,gas,std,two,sedan,fwd,front,99.8,177.3,66.3,53.1,2507,ohc,5,136,mpfi,3.19,3.4,8.5,110,5500,19,25,15250\\n', 'audi,gas,std,four,sedan,fwd,front,105.8,192.7,71.4,55.7,2844,ohc,5,136,mpfi,3.19,3.4,8.5,110,5500,19,25,17710\\n', 'audi,gas,std,four,wagon,fwd,front,105.8,192.7,71.4,55.7,2954,ohc,5,136,mpfi,3.19,3.4,8.5,110,5500,19,25,18920\\n', 'audi,gas,turbo,four,sedan,fwd,front,105.8,192.7,71.4,55.9,3086,ohc,5,131,mpfi,3.13,3.4,8.3,140,5500,17,20,23875\\n', 'bmw,gas,std,two,sedan,rwd,front,101.2,176.8,64.8,54.3,2395,ohc,4,108,mpfi,3.5,2.8,8.8,101,5800,23,29,16430\\n', 'bmw,gas,std,four,sedan,rwd,front,101.2,176.8,64.8,54.3,2395,ohc,4,108,mpfi,3.5,2.8,8.8,101,5800,23,29,16925\\n', 'bmw,gas,std,two,sedan,rwd,front,101.2,176.8,64.8,54.3,2710,ohc,6,164,mpfi,3.31,3.19,9,121,4250,21,28,20970\\n', 'bmw,gas,std,four,sedan,rwd,front,101.2,176.8,64.8,54.3,2765,ohc,6,164,mpfi,3.31,3.19,9,121,4250,21,28,21105\\n', 'bmw,gas,std,four,sedan,rwd,front,103.5,189,66.9,55.7,3055,ohc,6,164,mpfi,3.31,3.19,9,121,4250,20,25,24565\\n', 'bmw,gas,std,four,sedan,rwd,front,103.5,189,66.9,55.7,3230,ohc,6,209,mpfi,3.62,3.39,8,182,5400,16,22,30760\\n', 'bmw,gas,std,two,sedan,rwd,front,103.5,193.8,67.9,53.7,3380,ohc,6,209,mpfi,3.62,3.39,8,182,5400,16,22,41315\\n', 'bmw,gas,std,four,sedan,rwd,front,110,197,70.9,56.3,3505,ohc,6,209,mpfi,3.62,3.39,8,182,5400,15,20,36880\\n', 'chevrolet,gas,std,two,hatchback,fwd,front,88.4,141.1,60.3,53.2,1488,l,3,61,2bbl,2.91,3.03,9.5,48,5100,47,53,5151\\n', 'chevrolet,gas,std,two,hatchback,fwd,front,94.5,155.9,63.6,52,1874,ohc,4,90,2bbl,3.03,3.11,9.6,70,5400,38,43,6295\\n', 'chevrolet,gas,std,four,sedan,fwd,front,94.5,158.8,63.6,52,1909,ohc,4,90,2bbl,3.03,3.11,9.6,70,5400,38,43,6575\\n', 'dodge,gas,std,two,hatchback,fwd,front,93.7,157.3,63.8,50.8,1876,ohc,4,90,2bbl,2.97,3.23,9.41,68,5500,37,41,5572\\n', 'dodge,gas,std,two,hatchback,fwd,front,93.7,157.3,63.8,50.8,1876,ohc,4,90,2bbl,2.97,3.23,9.4,68,5500,31,38,6377\\n', 'dodge,gas,turbo,two,hatchback,fwd,front,93.7,157.3,63.8,50.8,2128,ohc,4,98,mpfi,3.03,3.39,7.6,102,5500,24,30,7957\\n', 'dodge,gas,std,four,hatchback,fwd,front,93.7,157.3,63.8,50.6,1967,ohc,4,90,2bbl,2.97,3.23,9.4,68,5500,31,38,6229\\n', 'dodge,gas,std,four,sedan,fwd,front,93.7,157.3,63.8,50.6,1989,ohc,4,90,2bbl,2.97,3.23,9.4,68,5500,31,38,6692\\n', 'dodge,gas,std,four,sedan,fwd,front,93.7,157.3,63.8,50.6,1989,ohc,4,90,2bbl,2.97,3.23,9.4,68,5500,31,38,7609\\n', 'dodge,gas,std,four,wagon,fwd,front,103.3,174.6,64.6,59.8,2535,ohc,4,122,2bbl,3.34,3.46,8.5,88,5000,24,30,8921\\n', 'dodge,gas,turbo,two,hatchback,fwd,front,95.9,173.2,66.3,50.2,2811,ohc,4,156,mfi,3.6,3.9,7,145,5000,19,24,12964\\n', 'honda,gas,std,two,hatchback,fwd,front,86.6,144.6,63.9,50.8,1713,ohc,4,92,1bbl,2.91,3.41,9.6,58,4800,49,54,6479\\n', 'honda,gas,std,two,hatchback,fwd,front,86.6,144.6,63.9,50.8,1819,ohc,4,92,1bbl,2.91,3.41,9.2,76,6000,31,38,6855\\n', 'honda,gas,std,two,hatchback,fwd,front,93.7,150,64,52.6,1837,ohc,4,79,1bbl,2.91,3.07,10.1,60,5500,38,42,5399\\n', 'honda,gas,std,two,hatchback,fwd,front,93.7,150,64,52.6,1940,ohc,4,92,1bbl,2.91,3.41,9.2,76,6000,30,34,6529\\n', 'honda,gas,std,two,hatchback,fwd,front,93.7,150,64,52.6,1956,ohc,4,92,1bbl,2.91,3.41,9.2,76,6000,30,34,7129\\n', 'honda,gas,std,four,sedan,fwd,front,96.5,163.4,64,54.5,2010,ohc,4,92,1bbl,2.91,3.41,9.2,76,6000,30,34,7295\\n', 'honda,gas,std,four,wagon,fwd,front,96.5,157.1,63.9,58.3,2024,ohc,4,92,1bbl,2.92,3.41,9.2,76,6000,30,34,7295\\n', 'honda,gas,std,two,hatchback,fwd,front,96.5,167.5,65.2,53.3,2236,ohc,4,110,1bbl,3.15,3.58,9,86,5800,27,33,7895\\n', 'honda,gas,std,two,hatchback,fwd,front,96.5,167.5,65.2,53.3,2289,ohc,4,110,1bbl,3.15,3.58,9,86,5800,27,33,9095\\n', 'honda,gas,std,four,sedan,fwd,front,96.5,175.4,65.2,54.1,2304,ohc,4,110,1bbl,3.15,3.58,9,86,5800,27,33,8845\\n', 'honda,gas,std,four,sedan,fwd,front,96.5,175.4,62.5,54.1,2372,ohc,4,110,1bbl,3.15,3.58,9,86,5800,27,33,10295\\n', 'honda,gas,std,four,sedan,fwd,front,96.5,175.4,65.2,54.1,2465,ohc,4,110,mpfi,3.15,3.58,9,101,5800,24,28,12945\\n', 'honda,gas,std,two,sedan,fwd,front,96.5,169.1,66,51,2293,ohc,4,110,2bbl,3.15,3.58,9.1,100,5500,25,31,10345\\n', 'isuzu,gas,std,four,sedan,rwd,front,94.3,170.7,61.8,53.5,2337,ohc,4,111,2bbl,3.31,3.23,8.5,78,4800,24,29,6785\\n', 'isuzu,gas,std,two,hatchback,rwd,front,96,172.6,65.2,51.4,2734,ohc,4,119,spfi,3.43,3.23,9.2,90,5000,24,29,11048\\n', 'jaguar,gas,std,four,sedan,rwd,front,113,199.6,69.6,52.8,4066,dohc,6,258,mpfi,3.63,4.17,8.1,176,4750,15,19,32250\\n', 'jaguar,gas,std,four,sedan,rwd,front,113,199.6,69.6,52.8,4066,dohc,6,258,mpfi,3.63,4.17,8.1,176,4750,15,19,35550\\n', 'jaguar,gas,std,two,sedan,rwd,front,102,191.7,70.6,47.8,3950,ohcv,12,326,mpfi,3.54,2.76,11.5,262,5000,13,17,36000\\n', 'mazda,gas,std,two,hatchback,fwd,front,93.1,159.1,64.2,54.1,1890,ohc,4,91,2bbl,3.03,3.15,9,68,5000,30,31,5195\\n', 'mazda,gas,std,two,hatchback,fwd,front,93.1,159.1,64.2,54.1,1900,ohc,4,91,2bbl,3.03,3.15,9,68,5000,31,38,6095\\n', 'mazda,gas,std,two,hatchback,fwd,front,93.1,159.1,64.2,54.1,1905,ohc,4,91,2bbl,3.03,3.15,9,68,5000,31,38,6795\\n', 'mazda,gas,std,four,sedan,fwd,front,93.1,166.8,64.2,54.1,1945,ohc,4,91,2bbl,3.03,3.15,9,68,5000,31,38,6695\\n', 'mazda,gas,std,four,sedan,fwd,front,93.1,166.8,64.2,54.1,1950,ohc,4,91,2bbl,3.08,3.15,9,68,5000,31,38,7395\\n', 'mazda,gas,std,two,hatchback,fwd,front,98.8,177.8,66.5,53.7,2385,ohc,4,122,2bbl,3.39,3.39,8.6,84,4800,26,32,8845\\n', 'mazda,gas,std,four,sedan,fwd,front,98.8,177.8,66.5,55.5,2410,ohc,4,122,2bbl,3.39,3.39,8.6,84,4800,26,32,8495\\n', 'mazda,gas,std,two,hatchback,fwd,front,98.8,177.8,66.5,53.7,2385,ohc,4,122,2bbl,3.39,3.39,8.6,84,4800,26,32,10595\\n', 'mazda,gas,std,four,sedan,fwd,front,98.8,177.8,66.5,55.5,2410,ohc,4,122,2bbl,3.39,3.39,8.6,84,4800,26,32,10245\\n', 'mazda,gas,std,four,hatchback,fwd,front,98.8,177.8,66.5,55.5,2425,ohc,4,122,2bbl,3.39,3.39,8.6,84,4800,26,32,11245\\n', 'mazda,gas,std,four,sedan,rwd,front,104.9,175,66.1,54.4,2670,ohc,4,140,mpfi,3.76,3.16,8,120,5000,19,27,18280\\n', 'mazda,diesel,std,four,sedan,rwd,front,104.9,175,66.1,54.4,2700,ohc,4,134,idi,3.43,3.64,22,72,4200,31,39,18344\\n', 'mercedes-benz,diesel,turbo,four,sedan,rwd,front,110,190.9,70.3,56.5,3515,ohc,5,183,idi,3.58,3.64,21.5,123,4350,22,25,25552\\n', 'mercedes-benz,diesel,turbo,four,wagon,rwd,front,110,190.9,70.3,58.7,3750,ohc,5,183,idi,3.58,3.64,21.5,123,4350,22,25,28248\\n', 'mercedes-benz,diesel,turbo,two,hardtop,rwd,front,106.7,187.5,70.3,54.9,3495,ohc,5,183,idi,3.58,3.64,21.5,123,4350,22,25,28176\\n', 'mercedes-benz,diesel,turbo,four,sedan,rwd,front,115.6,202.6,71.7,56.3,3770,ohc,5,183,idi,3.58,3.64,21.5,123,4350,22,25,31600\\n', 'mercedes-benz,gas,std,four,sedan,rwd,front,115.6,202.6,71.7,56.5,3740,ohcv,8,234,mpfi,3.46,3.1,8.3,155,4750,16,18,34184\\n', 'mercedes-benz,gas,std,two,convertible,rwd,front,96.6,180.3,70.5,50.8,3685,ohcv,8,234,mpfi,3.46,3.1,8.3,155,4750,16,18,35056\\n', 'mercedes-benz,gas,std,four,sedan,rwd,front,120.9,208.1,71.7,56.7,3900,ohcv,8,308,mpfi,3.8,3.35,8,184,4500,14,16,40960\\n', 'mercedes-benz,gas,std,two,hardtop,rwd,front,112,199.2,72,55.4,3715,ohcv,8,304,mpfi,3.8,3.35,8,184,4500,14,16,45400\\n', 'mercury,gas,turbo,two,hatchback,rwd,front,102.7,178.4,68,54.8,2910,ohc,4,140,mpfi,3.78,3.12,8,175,5000,19,24,16503\\n', 'mitsubishi,gas,std,two,hatchback,fwd,front,93.7,157.3,64.4,50.8,1918,ohc,4,92,2bbl,2.97,3.23,9.4,68,5500,37,41,5389\\n', 'mitsubishi,gas,std,two,hatchback,fwd,front,93.7,157.3,64.4,50.8,1944,ohc,4,92,2bbl,2.97,3.23,9.4,68,5500,31,38,6189\\n', 'mitsubishi,gas,std,two,hatchback,fwd,front,93.7,157.3,64.4,50.8,2004,ohc,4,92,2bbl,2.97,3.23,9.4,68,5500,31,38,6669\\n', 'mitsubishi,gas,turbo,two,hatchback,fwd,front,93,157.3,63.8,50.8,2145,ohc,4,98,spdi,3.03,3.39,7.6,102,5500,24,30,7689\\n', 'mitsubishi,gas,turbo,two,hatchback,fwd,front,96.3,173,65.4,49.4,2370,ohc,4,110,spdi,3.17,3.46,7.5,116,5500,23,30,9959\\n', 'mitsubishi,gas,std,two,hatchback,fwd,front,96.3,173,65.4,49.4,2328,ohc,4,122,2bbl,3.35,3.46,8.5,88,5000,25,32,8499\\n', 'mitsubishi,gas,turbo,two,hatchback,fwd,front,95.9,173.2,66.3,50.2,2833,ohc,4,156,spdi,3.58,3.86,7,145,5000,19,24,12629\\n', 'mitsubishi,gas,turbo,two,hatchback,fwd,front,95.9,173.2,66.3,50.2,2921,ohc,4,156,spdi,3.59,3.86,7,145,5000,19,24,14869\\n', 'mitsubishi,gas,turbo,two,hatchback,fwd,front,95.9,173.2,66.3,50.2,2926,ohc,4,156,spdi,3.59,3.86,7,145,5000,19,24,14489\\n', 'mitsubishi,gas,std,four,sedan,fwd,front,96.3,172.4,65.4,51.6,2365,ohc,4,122,2bbl,3.35,3.46,8.5,88,5000,25,32,6989\\n', 'mitsubishi,gas,std,four,sedan,fwd,front,96.3,172.4,65.4,51.6,2405,ohc,4,122,2bbl,3.35,3.46,8.5,88,5000,25,32,8189\\n', 'mitsubishi,gas,turbo,four,sedan,fwd,front,96.3,172.4,65.4,51.6,2403,ohc,4,110,spdi,3.17,3.46,7.5,116,5500,23,30,9279\\n', 'mitsubishi,gas,std,four,sedan,fwd,front,96.3,172.4,65.4,51.6,2403,ohc,4,110,spdi,3.17,3.46,7.5,116,5500,23,30,9279\\n', 'nissan,gas,std,two,sedan,fwd,front,94.5,165.3,63.8,54.5,1889,ohc,4,97,2bbl,3.15,3.29,9.4,69,5200,31,37,5499\\n', 'nissan,diesel,std,two,sedan,fwd,front,94.5,165.3,63.8,54.5,2017,ohc,4,103,idi,2.99,3.47,21.9,55,4800,45,50,7099\\n', 'nissan,gas,std,two,sedan,fwd,front,94.5,165.3,63.8,54.5,1918,ohc,4,97,2bbl,3.15,3.29,9.4,69,5200,31,37,6649\\n', 'nissan,gas,std,four,sedan,fwd,front,94.5,165.3,63.8,54.5,1938,ohc,4,97,2bbl,3.15,3.29,9.4,69,5200,31,37,6849\\n', 'nissan,gas,std,four,wagon,fwd,front,94.5,170.2,63.8,53.5,2024,ohc,4,97,2bbl,3.15,3.29,9.4,69,5200,31,37,7349\\n', 'nissan,gas,std,two,sedan,fwd,front,94.5,165.3,63.8,54.5,1951,ohc,4,97,2bbl,3.15,3.29,9.4,69,5200,31,37,7299\\n', 'nissan,gas,std,two,hatchback,fwd,front,94.5,165.6,63.8,53.3,2028,ohc,4,97,2bbl,3.15,3.29,9.4,69,5200,31,37,7799\\n', 'nissan,gas,std,four,sedan,fwd,front,94.5,165.3,63.8,54.5,1971,ohc,4,97,2bbl,3.15,3.29,9.4,69,5200,31,37,7499\\n', 'nissan,gas,std,four,wagon,fwd,front,94.5,170.2,63.8,53.5,2037,ohc,4,97,2bbl,3.15,3.29,9.4,69,5200,31,37,7999\\n', 'nissan,gas,std,two,hardtop,fwd,front,95.1,162.4,63.8,53.3,2008,ohc,4,97,2bbl,3.15,3.29,9.4,69,5200,31,37,8249\\n', 'nissan,gas,std,four,hatchback,fwd,front,97.2,173.4,65.2,54.7,2324,ohc,4,120,2bbl,3.33,3.47,8.5,97,5200,27,34,8949\\n', 'nissan,gas,std,four,sedan,fwd,front,97.2,173.4,65.2,54.7,2302,ohc,4,120,2bbl,3.33,3.47,8.5,97,5200,27,34,9549\\n', 'nissan,gas,std,four,sedan,fwd,front,100.4,181.7,66.5,55.1,3095,ohcv,6,181,mpfi,3.43,3.27,9,152,5200,17,22,13499\\n', 'nissan,gas,std,four,wagon,fwd,front,100.4,184.6,66.5,56.1,3296,ohcv,6,181,mpfi,3.43,3.27,9,152,5200,17,22,14399\\n', 'nissan,gas,std,four,sedan,fwd,front,100.4,184.6,66.5,55.1,3060,ohcv,6,181,mpfi,3.43,3.27,9,152,5200,19,25,13499\\n', 'nissan,gas,std,two,hatchback,rwd,front,91.3,170.7,67.9,49.7,3071,ohcv,6,181,mpfi,3.43,3.27,9,160,5200,19,25,17199\\n', 'nissan,gas,turbo,two,hatchback,rwd,front,91.3,170.7,67.9,49.7,3139,ohcv,6,181,mpfi,3.43,3.27,7.8,200,5200,17,23,19699\\n', 'nissan,gas,std,two,hatchback,rwd,front,99.2,178.5,67.9,49.7,3139,ohcv,6,181,mpfi,3.43,3.27,9,160,5200,19,25,18399\\n', 'peugot,gas,std,four,sedan,rwd,front,107.9,186.7,68.4,56.7,3020,l,4,120,mpfi,3.46,3.19,8.4,97,5000,19,24,11900\\n', 'peugot,diesel,turbo,four,sedan,rwd,front,107.9,186.7,68.4,56.7,3197,l,4,152,idi,3.7,3.52,21,95,4150,28,33,13200\\n', 'peugot,gas,std,four,wagon,rwd,front,114.2,198.9,68.4,58.7,3230,l,4,120,mpfi,3.46,3.19,8.4,97,5000,19,24,12440\\n', 'peugot,diesel,turbo,four,wagon,rwd,front,114.2,198.9,68.4,58.7,3430,l,4,152,idi,3.7,3.52,21,95,4150,25,25,13860\\n', 'peugot,gas,std,four,sedan,rwd,front,107.9,186.7,68.4,56.7,3075,l,4,120,mpfi,3.46,2.19,8.4,95,5000,19,24,15580\\n', 'peugot,diesel,turbo,four,sedan,rwd,front,107.9,186.7,68.4,56.7,3252,l,4,152,idi,3.7,3.52,21,95,4150,28,33,16900\\n', 'peugot,gas,std,four,wagon,rwd,front,114.2,198.9,68.4,56.7,3285,l,4,120,mpfi,3.46,2.19,8.4,95,5000,19,24,16695\\n', 'peugot,diesel,turbo,four,wagon,rwd,front,114.2,198.9,68.4,58.7,3485,l,4,152,idi,3.7,3.52,21,95,4150,25,25,17075\\n', 'peugot,gas,std,four,sedan,rwd,front,107.9,186.7,68.4,56.7,3075,l,4,120,mpfi,3.46,3.19,8.4,97,5000,19,24,16630\\n', 'peugot,diesel,turbo,four,sedan,rwd,front,107.9,186.7,68.4,56.7,3252,l,4,152,idi,3.7,3.52,21,95,4150,28,33,17950\\n', 'peugot,gas,turbo,four,sedan,rwd,front,108,186.7,68.3,56,3130,l,4,134,mpfi,3.61,3.21,7,142,5600,18,24,18150\\n', 'plymouth,gas,std,two,hatchback,fwd,front,93.7,157.3,63.8,50.8,1918,ohc,4,90,2bbl,2.97,3.23,9.4,68,5500,37,41,5572\\n', 'plymouth,gas,turbo,two,hatchback,fwd,front,93.7,157.3,63.8,50.8,2128,ohc,4,98,spdi,3.03,3.39,7.6,102,5500,24,30,7957\\n', 'plymouth,gas,std,four,hatchback,fwd,front,93.7,157.3,63.8,50.6,1967,ohc,4,90,2bbl,2.97,3.23,9.4,68,5500,31,38,6229\\n', 'plymouth,gas,std,four,sedan,fwd,front,93.7,167.3,63.8,50.8,1989,ohc,4,90,2bbl,2.97,3.23,9.4,68,5500,31,38,6692\\n', 'plymouth,gas,std,four,sedan,fwd,front,93.7,167.3,63.8,50.8,2191,ohc,4,98,2bbl,2.97,3.23,9.4,68,5500,31,38,7609\\n', 'plymouth,gas,std,four,wagon,fwd,front,103.3,174.6,64.6,59.8,2535,ohc,4,122,2bbl,3.35,3.46,8.5,88,5000,24,30,8921\\n', 'plymouth,gas,turbo,two,hatchback,rwd,front,95.9,173.2,66.3,50.2,2818,ohc,4,156,spdi,3.59,3.86,7,145,5000,19,24,12764\\n', 'porsche,gas,std,two,hatchback,rwd,front,94.5,168.9,68.3,50.2,2778,ohc,4,151,mpfi,3.94,3.11,9.5,143,5500,19,27,22018\\n', 'porsche,gas,std,two,hardtop,rwd,rear,89.5,168.9,65,51.6,2756,ohcf,6,194,mpfi,3.74,2.9,9.5,207,5900,17,25,32528\\n', 'porsche,gas,std,two,hardtop,rwd,rear,89.5,168.9,65,51.6,2756,ohcf,6,194,mpfi,3.74,2.9,9.5,207,5900,17,25,34028\\n', 'porsche,gas,std,two,convertible,rwd,rear,89.5,168.9,65,51.6,2800,ohcf,6,194,mpfi,3.74,2.9,9.5,207,5900,17,25,37028\\n', 'saab,gas,std,two,hatchback,fwd,front,99.1,186.6,66.5,56.1,2658,ohc,4,121,mpfi,3.54,3.07,9.31,110,5250,21,28,11850\\n', 'saab,gas,std,four,sedan,fwd,front,99.1,186.6,66.5,56.1,2695,ohc,4,121,mpfi,3.54,3.07,9.3,110,5250,21,28,12170\\n', 'saab,gas,std,two,hatchback,fwd,front,99.1,186.6,66.5,56.1,2707,ohc,4,121,mpfi,2.54,2.07,9.3,110,5250,21,28,15040\\n', 'saab,gas,std,four,sedan,fwd,front,99.1,186.6,66.5,56.1,2758,ohc,4,121,mpfi,3.54,3.07,9.3,110,5250,21,28,15510\\n', 'saab,gas,turbo,two,hatchback,fwd,front,99.1,186.6,66.5,56.1,2808,dohc,4,121,mpfi,3.54,3.07,9,160,5500,19,26,18150\\n', 'saab,gas,turbo,four,sedan,fwd,front,99.1,186.6,66.5,56.1,2847,dohc,4,121,mpfi,3.54,3.07,9,160,5500,19,26,18620\\n', 'subaru,gas,std,two,hatchback,fwd,front,93.7,156.9,63.4,53.7,2050,ohcf,4,97,2bbl,3.62,2.36,9,69,4900,31,36,5118\\n', 'subaru,gas,std,two,hatchback,fwd,front,93.7,157.9,63.6,53.7,2120,ohcf,4,108,2bbl,3.62,2.64,8.7,73,4400,26,31,7053\\n', 'subaru,gas,std,two,hatchback,4wd,front,93.3,157.3,63.8,55.7,2240,ohcf,4,108,2bbl,3.62,2.64,8.7,73,4400,26,31,7603\\n', 'subaru,gas,std,four,sedan,fwd,front,97.2,172,65.4,52.5,2145,ohcf,4,108,2bbl,3.62,2.64,9.5,82,4800,32,37,7126\\n', 'subaru,gas,std,four,sedan,fwd,front,97.2,172,65.4,52.5,2190,ohcf,4,108,2bbl,3.62,2.64,9.5,82,4400,28,33,7775\\n', 'subaru,gas,std,four,sedan,fwd,front,97.2,172,65.4,52.5,2340,ohcf,4,108,mpfi,3.62,2.64,9,94,5200,26,32,9960\\n', 'subaru,gas,std,four,sedan,4wd,front,97,172,65.4,54.3,2385,ohcf,4,108,2bbl,3.62,2.64,9,82,4800,24,25,9233\\n', 'subaru,gas,turbo,four,sedan,4wd,front,97,172,65.4,54.3,2510,ohcf,4,108,mpfi,3.62,2.64,7.7,111,4800,24,29,11259\\n', 'subaru,gas,std,four,wagon,fwd,front,97,173.5,65.4,53,2290,ohcf,4,108,2bbl,3.62,2.64,9,82,4800,28,32,7463\\n', 'subaru,gas,std,four,wagon,fwd,front,97,173.5,65.4,53,2455,ohcf,4,108,mpfi,3.62,2.64,9,94,5200,25,31,10198\\n', 'subaru,gas,std,four,wagon,4wd,front,96.9,173.6,65.4,54.9,2420,ohcf,4,108,2bbl,3.62,2.64,9,82,4800,23,29,8013\\n', 'subaru,gas,turbo,four,wagon,4wd,front,96.9,173.6,65.4,54.9,2650,ohcf,4,108,mpfi,3.62,2.64,7.7,111,4800,23,23,11694\\n', 'toyota,gas,std,two,hatchback,fwd,front,95.7,158.7,63.6,54.5,1985,ohc,4,92,2bbl,3.05,3.03,9,62,4800,35,39,5348\\n', 'toyota,gas,std,two,hatchback,fwd,front,95.7,158.7,63.6,54.5,2040,ohc,4,92,2bbl,3.05,3.03,9,62,4800,31,38,6338\\n', 'toyota,gas,std,four,hatchback,fwd,front,95.7,158.7,63.6,54.5,2015,ohc,4,92,2bbl,3.05,3.03,9,62,4800,31,38,6488\\n', 'toyota,gas,std,four,wagon,fwd,front,95.7,169.7,63.6,59.1,2280,ohc,4,92,2bbl,3.05,3.03,9,62,4800,31,37,6918\\n', 'toyota,gas,std,four,wagon,4wd,front,95.7,169.7,63.6,59.1,2290,ohc,4,92,2bbl,3.05,3.03,9,62,4800,27,32,7898\\n', 'toyota,gas,std,four,wagon,4wd,front,95.7,169.7,63.6,59.1,3110,ohc,4,92,2bbl,3.05,3.03,9,62,4800,27,32,8778\\n', 'toyota,gas,std,four,sedan,fwd,front,95.7,166.3,64.4,53,2081,ohc,4,98,2bbl,3.19,3.03,9,70,4800,30,37,6938\\n', 'toyota,gas,std,four,hatchback,fwd,front,95.7,166.3,64.4,52.8,2109,ohc,4,98,2bbl,3.19,3.03,9,70,4800,30,37,7198\\n', 'toyota,diesel,std,four,sedan,fwd,front,95.7,166.3,64.4,53,2275,ohc,4,110,idi,3.27,3.35,22.5,56,4500,34,36,7898\\n', 'toyota,diesel,std,four,hatchback,fwd,front,95.7,166.3,64.4,52.8,2275,ohc,4,110,idi,3.27,3.35,22.5,56,4500,38,47,7788\\n', 'toyota,gas,std,four,sedan,fwd,front,95.7,166.3,64.4,53,2094,ohc,4,98,2bbl,3.19,3.03,9,70,4800,38,47,7738\\n', 'toyota,gas,std,four,hatchback,fwd,front,95.7,166.3,64.4,52.8,2122,ohc,4,98,2bbl,3.19,3.03,9,70,4800,28,34,8358\\n', 'toyota,gas,std,four,sedan,fwd,front,95.7,166.3,64.4,52.8,2140,ohc,4,98,2bbl,3.19,3.03,9,70,4800,28,34,9258\\n', 'toyota,gas,std,two,sedan,rwd,front,94.5,168.7,64,52.6,2169,ohc,4,98,2bbl,3.19,3.03,9,70,4800,29,34,8058\\n', 'toyota,gas,std,two,hatchback,rwd,front,94.5,168.7,64,52.6,2204,ohc,4,98,2bbl,3.19,3.03,9,70,4800,29,34,8238\\n', 'toyota,gas,std,two,sedan,rwd,front,94.5,168.7,64,52.6,2265,dohc,4,98,mpfi,3.24,3.08,9.4,112,6600,26,29,9298\\n', 'toyota,gas,std,two,hatchback,rwd,front,94.5,168.7,64,52.6,2300,dohc,4,98,mpfi,3.24,3.08,9.4,112,6600,26,29,9538\\n', 'toyota,gas,std,two,hardtop,rwd,front,98.4,176.2,65.6,52,2540,ohc,4,146,mpfi,3.62,3.5,9.3,116,4800,24,30,8449\\n', 'toyota,gas,std,two,hardtop,rwd,front,98.4,176.2,65.6,52,2536,ohc,4,146,mpfi,3.62,3.5,9.3,116,4800,24,30,9639\\n', 'toyota,gas,std,two,hatchback,rwd,front,98.4,176.2,65.6,52,2551,ohc,4,146,mpfi,3.62,3.5,9.3,116,4800,24,30,9989\\n', 'toyota,gas,std,two,hardtop,rwd,front,98.4,176.2,65.6,52,2679,ohc,4,146,mpfi,3.62,3.5,9.3,116,4800,24,30,11199\\n', 'toyota,gas,std,two,hatchback,rwd,front,98.4,176.2,65.6,52,2714,ohc,4,146,mpfi,3.62,3.5,9.3,116,4800,24,30,11549\\n', 'toyota,gas,std,two,convertible,rwd,front,98.4,176.2,65.6,53,2975,ohc,4,146,mpfi,3.62,3.5,9.3,116,4800,24,30,17669\\n', 'toyota,gas,std,four,sedan,fwd,front,102.4,175.6,66.5,54.9,2326,ohc,4,122,mpfi,3.31,3.54,8.7,92,4200,29,34,8948\\n', 'toyota,diesel,turbo,four,sedan,fwd,front,102.4,175.6,66.5,54.9,2480,ohc,4,110,idi,3.27,3.35,22.5,73,4500,30,33,10698\\n', 'toyota,gas,std,four,hatchback,fwd,front,102.4,175.6,66.5,53.9,2414,ohc,4,122,mpfi,3.31,3.54,8.7,92,4200,27,32,9988\\n', 'toyota,gas,std,four,sedan,fwd,front,102.4,175.6,66.5,54.9,2414,ohc,4,122,mpfi,3.31,3.54,8.7,92,4200,27,32,10898\\n', 'toyota,gas,std,four,hatchback,fwd,front,102.4,175.6,66.5,53.9,2458,ohc,4,122,mpfi,3.31,3.54,8.7,92,4200,27,32,11248\\n', 'toyota,gas,std,two,hatchback,rwd,front,102.9,183.5,67.7,52,2976,dohc,6,171,mpfi,3.27,3.35,9.3,161,5200,20,24,16558\\n', 'toyota,gas,std,two,hatchback,rwd,front,102.9,183.5,67.7,52,3016,dohc,6,171,mpfi,3.27,3.35,9.3,161,5200,19,24,15998\\n', 'toyota,gas,std,four,sedan,rwd,front,104.5,187.8,66.5,54.1,3131,dohc,6,171,mpfi,3.27,3.35,9.2,156,5200,20,24,15690\\n', 'toyota,gas,std,four,wagon,rwd,front,104.5,187.8,66.5,54.1,3151,dohc,6,161,mpfi,3.27,3.35,9.2,156,5200,19,24,15750\\n', 'volkswagen,diesel,std,two,sedan,fwd,front,97.3,171.7,65.5,55.7,2261,ohc,4,97,idi,3.01,3.4,23,52,4800,37,46,7775\\n', 'volkswagen,gas,std,two,sedan,fwd,front,97.3,171.7,65.5,55.7,2209,ohc,4,109,mpfi,3.19,3.4,9,85,5250,27,34,7975\\n', 'volkswagen,diesel,std,four,sedan,fwd,front,97.3,171.7,65.5,55.7,2264,ohc,4,97,idi,3.01,3.4,23,52,4800,37,46,7995\\n', 'volkswagen,gas,std,four,sedan,fwd,front,97.3,171.7,65.5,55.7,2212,ohc,4,109,mpfi,3.19,3.4,9,85,5250,27,34,8195\\n', 'volkswagen,gas,std,four,sedan,fwd,front,97.3,171.7,65.5,55.7,2275,ohc,4,109,mpfi,3.19,3.4,9,85,5250,27,34,8495\\n', 'volkswagen,diesel,turbo,four,sedan,fwd,front,97.3,171.7,65.5,55.7,2319,ohc,4,97,idi,3.01,3.4,23,68,4500,37,42,9495\\n', 'volkswagen,gas,std,four,sedan,fwd,front,97.3,171.7,65.5,55.7,2300,ohc,4,109,mpfi,3.19,3.4,10,100,5500,26,32,9995\\n', 'volkswagen,gas,std,two,convertible,fwd,front,94.5,159.3,64.2,55.6,2254,ohc,4,109,mpfi,3.19,3.4,8.5,90,5500,24,29,11595\\n', 'volkswagen,gas,std,two,hatchback,fwd,front,94.5,165.7,64,51.4,2221,ohc,4,109,mpfi,3.19,3.4,8.5,90,5500,24,29,9980\\n', 'volkswagen,gas,std,four,sedan,fwd,front,100.4,180.2,66.9,55.1,2661,ohc,5,136,mpfi,3.19,3.4,8.5,110,5500,19,24,13295\\n', 'volkswagen,diesel,turbo,four,sedan,fwd,front,100.4,180.2,66.9,55.1,2579,ohc,4,97,idi,3.01,3.4,23,68,4500,33,38,13845\\n', 'volkswagen,gas,std,four,wagon,fwd,front,100.4,183.1,66.9,55.1,2563,ohc,4,109,mpfi,3.19,3.4,9,88,5500,25,31,12290\\n', 'volvo,gas,std,four,sedan,rwd,front,104.3,188.8,67.2,56.2,2912,ohc,4,141,mpfi,3.78,3.15,9.5,114,5400,23,28,12940\\n', 'volvo,gas,std,four,wagon,rwd,front,104.3,188.8,67.2,57.5,3034,ohc,4,141,mpfi,3.78,3.15,9.5,114,5400,23,28,13415\\n', 'volvo,gas,std,four,sedan,rwd,front,104.3,188.8,67.2,56.2,2935,ohc,4,141,mpfi,3.78,3.15,9.5,114,5400,24,28,15985\\n', 'volvo,gas,std,four,wagon,rwd,front,104.3,188.8,67.2,57.5,3042,ohc,4,141,mpfi,3.78,3.15,9.5,114,5400,24,28,16515\\n', 'volvo,gas,turbo,four,sedan,rwd,front,104.3,188.8,67.2,56.2,3045,ohc,4,130,mpfi,3.62,3.15,7.5,162,5100,17,22,18420\\n', 'volvo,gas,turbo,four,wagon,rwd,front,104.3,188.8,67.2,57.5,3157,ohc,4,130,mpfi,3.62,3.15,7.5,162,5100,17,22,18950\\n', 'volvo,gas,std,four,sedan,rwd,front,109.1,188.8,68.9,55.5,2952,ohc,4,141,mpfi,3.78,3.15,9.5,114,5400,23,28,16845\\n', 'volvo,gas,turbo,four,sedan,rwd,front,109.1,188.8,68.8,55.5,3049,ohc,4,141,mpfi,3.78,3.15,8.7,160,5300,19,25,19045\\n', 'volvo,gas,std,four,sedan,rwd,front,109.1,188.8,68.9,55.5,3012,ohcv,6,173,mpfi,3.58,2.87,8.8,134,5500,18,23,21485\\n', 'volvo,diesel,turbo,four,sedan,rwd,front,109.1,188.8,68.9,55.5,3217,ohc,6,145,idi,3.01,3.4,23,106,4800,26,27,22470\\n', 'volvo,gas,turbo,four,sedan,rwd,front,109.1,188.8,68.9,55.5,3062,ohc,4,141,mpfi,3.78,3.15,9.5,114,5400,19,25,22625']\n"
     ]
    }
   ],
   "source": [
    "with open(filedir, mode='r') as reader:\n",
    "    print(reader.readlines())"
   ]
  },
  {
   "cell_type": "code",
   "execution_count": 63,
   "id": "9f48fb52",
   "metadata": {},
   "outputs": [
    {
     "name": "stdout",
     "output_type": "stream",
     "text": [
      "['line1\\n', 'line2\\n', 'line3\\n']\n"
     ]
    }
   ],
   "source": [
    "with open(filedir, mode='w+') as reader:\n",
    "    lines = ['line1\\n', 'line2\\n']\n",
    "    reader.writelines(lines)\n",
    "    line = 'line3\\n'\n",
    "    reader.write(line)\n",
    "    reader.seek(0)\n",
    "    print(reader.readlines())\n",
    "    "
   ]
  },
  {
   "cell_type": "code",
   "execution_count": 67,
   "id": "d1a6f3bd",
   "metadata": {},
   "outputs": [
    {
     "name": "stdout",
     "output_type": "stream",
     "text": [
      "line1\n",
      "line2\n",
      "line3\n",
      "\n",
      "e\n"
     ]
    }
   ],
   "source": [
    "with open(filedir, mode='r') as reader:\n",
    "    print(reader.read())\n",
    "    reader.seek(3)\n",
    "    print(reader.readline(1))"
   ]
  },
  {
   "cell_type": "code",
   "execution_count": null,
   "id": "84882c27",
   "metadata": {},
   "outputs": [],
   "source": []
  }
 ],
 "metadata": {
  "kernelspec": {
   "display_name": "Python 3 (ipykernel)",
   "language": "python",
   "name": "python3"
  },
  "language_info": {
   "codemirror_mode": {
    "name": "ipython",
    "version": 3
   },
   "file_extension": ".py",
   "mimetype": "text/x-python",
   "name": "python",
   "nbconvert_exporter": "python",
   "pygments_lexer": "ipython3",
   "version": "3.8.12"
  }
 },
 "nbformat": 4,
 "nbformat_minor": 5
}
